{
  "cells": [
    {
      "cell_type": "markdown",
      "metadata": {
        "id": "1aL1bLPcaA9g"
      },
      "source": [
        "<h1>Finetune BERT-base Using PyTorch for Sentiment Analysis </h1>"
      ]
    },
    {
      "cell_type": "markdown",
      "metadata": {
        "id": "rZ4B3EGCaA93"
      },
      "source": [
        "<img src=\"https://github.com/Nitesh0406/-Fine-Tuning-BERT-base-for-Sentiment-Analysis./blob/main/BERT.jpg?raw=1\" alt=\"huggingface\" style=\"width:1000px;height:400px;\">"
      ]
    },
    {
      "cell_type": "markdown",
      "metadata": {
        "id": "_U6k1hquaA94"
      },
      "source": [
        "## Contents\n",
        "* Overview\n",
        "* Approach\n",
        "* Web Scraping\n",
        "* Basic Analysis on Scraped Data\n",
        "* Rating to Sentiment Conversion\n",
        "* BERT Tokenizer\n",
        "* Train-Test Split\n",
        "* Preparation Training Pipeline\n",
        "* Model Architecture for Sentiment Analysis\n",
        "* Training Model Using Pytorch\n",
        "* Evaluating Performance on Test Data\n",
        "* Testing Model Performance for New Data\n"
      ]
    },
    {
      "cell_type": "markdown",
      "metadata": {
        "id": "pm-jX62HaA95"
      },
      "source": [
        "# Overview\n",
        "\n",
        "BERT stands for Bidirectional Encoder Representations from Transformers. It is state of the art NLP technique for a variety of applications such as Name Entity Recognition, Text classification, Question and Answering and many more. BERT was developed by Google Research team and made it public in October 2018. The backbone of BERTs amazing performance is Attention Heads which is borrowed from a previously developed transformer model. Attention Heads allows the model to understand the contextual information hidden inside the data and generates Embedding vectors accordingly.\n",
        "\n",
        "\n",
        "The main aim of this blog is not to explain the internals of BERT rather it is concentrated on its implementation for Sentiment Analysis. \n",
        "\n",
        "I hardly recommend the reader to please visit this [blog1](http://jalammar.github.io/illustrated-transformer/), [blog2](http://jalammar.github.io/illustrated-bert/) and this [blog3](https://jalammar.github.io/a-visual-guide-to-using-bert-for-the-first-time/) which is written by Jay Alammar to understand the internals of the BERT model so that you can relate its application for sentiment analysis.\n",
        "\n"
      ]
    },
    {
      "cell_type": "markdown",
      "metadata": {
        "id": "C_kMaU-CaA96"
      },
      "source": [
        "# Approach\n",
        "* First we will acquire a dataset using google_play_scraper a python library that provides APIs to scrape data such as review , rating , app description ,app id etc for google play application. We will be focusing on reviews and corresponding ratings to fine tune our BERT model.\n",
        "\n",
        "* Data cleaning is not required in this case because we will get a decent review data and any way BERT tokenizer can handle punctuations and misspell words.\n",
        "\n",
        "* Then we will quickly prepare training and test data and will train the model using pytorch.\n"
      ]
    },
    {
      "cell_type": "markdown",
      "metadata": {
        "id": "N4Ik8Yj1aA97"
      },
      "source": [
        "# Import required Library"
      ]
    },
    {
      "cell_type": "code",
      "execution_count": null,
      "metadata": {
        "id": "ZFHJ6E3ZaA98"
      },
      "outputs": [],
      "source": [
        "import torch\n",
        "import torchvision\n",
        "import torch.nn as nn\n",
        "import transformers\n",
        "from transformers import BertModel\n",
        "from torch.utils.data import Dataset, DataLoader\n",
        "import numpy as np\n",
        "\n",
        "import json\n",
        "import pandas as pd\n",
        "from tqdm import tqdm\n",
        "\n",
        "import seaborn as sns\n",
        "import matplotlib.pyplot as plt\n",
        "\n",
        "from pygments import highlight\n",
        "from pygments.lexers import JsonLexer\n",
        "from pygments.formatters import TerminalFormatter\n",
        "\n",
        "from google_play_scraper import Sort, reviews, app\n",
        "\n",
        "%matplotlib inline\n",
        "%config InlineBackend.figure_format='retina'\n",
        "import warnings\n",
        "warnings.filterwarnings('ignore')\n",
        "\n",
        "sns.set(style='whitegrid', palette='muted', font_scale=1.2)"
      ]
    },
    {
      "cell_type": "code",
      "execution_count": null,
      "metadata": {
        "id": "OrcABDLVaA9-"
      },
      "outputs": [],
      "source": [
        "## Setting up some global variable\n",
        "\n",
        "COLORS = ['#01BEFE','#FFDD00','#FF7D00','#FF006D','#ADFF02','#8F00FF']\n",
        "from torch.utils import data\n",
        "sns.set_palette(sns.color_palette(COLORS))\n",
        "RANDOM_SEED = 42\n",
        "np.random.seed(RANDOM_SEED)\n",
        "torch.manual_seed(RANDOM_SEED)\n",
        "fig_size = (10,7)\n"
      ]
    },
    {
      "cell_type": "markdown",
      "metadata": {
        "id": "3cBWPwckaA9_"
      },
      "source": [
        "# Web Scraping\n",
        "### App ids\n",
        "I am building a general purpose sentiment predicting model which is not oriented towards a particular domain like the medical or finance field. Below is the list of 15 application ids which are general purpose use case applications so it is expected that its reviews will be in the form of those languages that we use in our day to day life.\n"
      ]
    },
    {
      "cell_type": "code",
      "execution_count": null,
      "metadata": {
        "id": "bQvv7oFUaA-A"
      },
      "outputs": [],
      "source": [
        "# 15 applications\n",
        "## https://play.google.com/store/apps/details?id= application_id\n",
        "# you can visit the above link with any of the below app id to see the contents of that application. \n",
        "app_packages = [\n",
        "  'com.anydo',\n",
        "  'com.todoist',\n",
        "  'com.ticktick.task',\n",
        "  'com.habitrpg.android.habitica',\n",
        "  'cc.forestapp',\n",
        "  'com.oristats.habitbull',\n",
        "  'com.levor.liferpgtasks',\n",
        "  'com.habitnow',\n",
        "  'com.microsoft.todos',\n",
        "  'prox.lab.calclock',\n",
        "  'com.gmail.jmartindev.timetune',\n",
        "  'com.artfulagenda.app',\n",
        "  'com.tasks.android',\n",
        "  'com.appgenix.bizcal',\n",
        "  'com.appxy.planner'\n",
        "]"
      ]
    },
    {
      "cell_type": "markdown",
      "metadata": {
        "id": "flV9vFuFaA-A"
      },
      "source": [
        "### Get reviews \n",
        "\n",
        "we have a total five ratings 1 to 5, these ratings are highly imbalanced in the app store. Most of the reviews for most of the application is highly partial toward the higher rating that's why while scaping review data we will filter by score and count so that we would get balanced data for model training.\n",
        "\n",
        "* rating 1,2 will be assigned as negative.\n",
        "* rating 3 will be assigned as neutral.\n",
        "* rating 4,5 will be assigned as positive.\n",
        "\n",
        "we will scrape 200 reviews for each sentiment for each app.\n"
      ]
    },
    {
      "cell_type": "code",
      "execution_count": null,
      "metadata": {
        "scrolled": false,
        "id": "WBmZtHOyaA-B",
        "outputId": "944ddbca-ad20-4dfc-feff-ac1794c2a215"
      },
      "outputs": [
        {
          "name": "stderr",
          "output_type": "stream",
          "text": [
            "100%|██████████| 15/15 [01:25<00:00,  5.70s/it]"
          ]
        },
        {
          "name": "stdout",
          "output_type": "stream",
          "text": [
            "16405\n"
          ]
        },
        {
          "name": "stderr",
          "output_type": "stream",
          "text": [
            "\n"
          ]
        }
      ],
      "source": [
        "## app_reviews is list of json files.\n",
        "app_reviews = []\n",
        "\n",
        "for app_id in tqdm(app_packages):\n",
        "    for score in range(1,6):\n",
        "        for review_status in [Sort.MOST_RELEVANT , Sort.NEWEST]:\n",
        "            rv,_ = reviews(app_id              # google_play_scaper has a module caled reviews that returns\n",
        "                           ,lang='en'          # app_id,content,review_id,score etc. we can control the \n",
        "                           ,country='us'       # scraping by changing variable such as sort,count,filter_score_with etc.\n",
        "                           ,sort=review_status #\n",
        "                           ,count =  200 if score == 3 else 100\n",
        "                           ,filter_score_with=score)\n",
        "\n",
        "            for r in rv:\n",
        "                r['app_id'] = app_id     # we are adding two more  columns app_id and review_status.\n",
        "                r['review_status'] = 'most_relevent' if review_status==Sort.MOST_RELEVANT else 'newest'\n",
        "            app_reviews.extend(rv)\n",
        "print(len(app_reviews))"
      ]
    },
    {
      "cell_type": "code",
      "execution_count": null,
      "metadata": {
        "id": "s1bNwjHXaA-C",
        "outputId": "d0dff5aa-bcbd-4633-cf4d-af008cfabddf"
      },
      "outputs": [
        {
          "name": "stdout",
          "output_type": "stream",
          "text": [
            "{\n",
            "   \u001b[94m\"app_id\"\u001b[39;49;00m: \u001b[33m\"com.anydo\"\u001b[39;49;00m,\n",
            "   \u001b[94m\"at\"\u001b[39;49;00m: \u001b[33m\"2021-02-26 09:47:49\"\u001b[39;49;00m,\n",
            "   \u001b[94m\"content\"\u001b[39;49;00m: \u001b[33m\"Very very bad experience with the management! I have had no response at all what so ever from Any.do to my asking for help with my Apps for malfunction over the last 4 months for my Premium account which I have paid for. Even worse is there is no clear way to terminate of my payment for the Premium service of the Apps which I have expected for. That's why I am asking for help here hoping that the managment team would see this message and give me some help to solve the problem!\"\u001b[39;49;00m,\n",
            "   \u001b[94m\"repliedAt\"\u001b[39;49;00m: \u001b[33m\"2021-02-28 15:06:51\"\u001b[39;49;00m,\n",
            "   \u001b[94m\"replyContent\"\u001b[39;49;00m: \u001b[33m\"Hi Kelvin, we've checked our records and could see that you have just reached our to our team, with no previous queries submitted from your account. We always do our best to reply to all queries in a timely manner, and will be more than happy to help you and get to the bottom of any issue :) We're looking forward to your reply, so we can assist!\"\u001b[39;49;00m,\n",
            "   \u001b[94m\"reviewCreatedVersion\"\u001b[39;49;00m: \u001b[33m\"5.10.0.8\"\u001b[39;49;00m,\n",
            "   \u001b[94m\"reviewId\"\u001b[39;49;00m: \u001b[33m\"gp:AOqpTOHTeNGxl9Zhlz-BM6ybraEsnVg0BLDubF8E_fQTyUDJy1Le4U1ilQuS1b9ZtOfCR1Rf-VHiReqKDiYp5A\"\u001b[39;49;00m,\n",
            "   \u001b[94m\"review_status\"\u001b[39;49;00m: \u001b[33m\"most_relevent\"\u001b[39;49;00m,\n",
            "   \u001b[94m\"score\"\u001b[39;49;00m: \u001b[34m1\u001b[39;49;00m,\n",
            "   \u001b[94m\"thumbsUpCount\"\u001b[39;49;00m: \u001b[34m4\u001b[39;49;00m,\n",
            "   \u001b[94m\"userImage\"\u001b[39;49;00m: \u001b[33m\"https://play-lh.googleusercontent.com/-rSnBD4YnD5g/AAAAAAAAAAI/AAAAAAAAAAA/AMZuucn0DOMEPYwNYWMyHtlT5aaw5_ThBQ/photo.jpg\"\u001b[39;49;00m,\n",
            "   \u001b[94m\"userName\"\u001b[39;49;00m: \u001b[33m\"kelvin ho\"\u001b[39;49;00m\n",
            "}\n",
            "\n"
          ]
        }
      ],
      "source": [
        "## Get information about app\n",
        "def json_formatting(obj):\n",
        "    '''\n",
        "    This function formates dictionary into json (just for reading purpose)\n",
        "    '''\n",
        "    json_object = json.dumps(obj , indent=3, sort_keys= True , default=str)\n",
        "    print(highlight(json_object , JsonLexer() , TerminalFormatter()))\n",
        "\n",
        "json_formatting(app_reviews[0])"
      ]
    },
    {
      "cell_type": "markdown",
      "metadata": {
        "id": "svE_yPYqaA-E"
      },
      "source": [
        "The blue font represent keys and yellow font represent values. Our important feature will be 'content' and 'score'. "
      ]
    },
    {
      "cell_type": "markdown",
      "metadata": {
        "id": "BNm_MBaAaA-E"
      },
      "source": [
        "##### Lets convert this list of dict into DataFrame and save this as csv file"
      ]
    },
    {
      "cell_type": "code",
      "execution_count": null,
      "metadata": {
        "id": "9-sO5mh5aA-E",
        "outputId": "fe39e1a8-3d15-45fb-f49d-cfdd8b13f5f6"
      },
      "outputs": [
        {
          "data": {
            "text/html": [
              "<div>\n",
              "<style scoped>\n",
              "    .dataframe tbody tr th:only-of-type {\n",
              "        vertical-align: middle;\n",
              "    }\n",
              "\n",
              "    .dataframe tbody tr th {\n",
              "        vertical-align: top;\n",
              "    }\n",
              "\n",
              "    .dataframe thead th {\n",
              "        text-align: right;\n",
              "    }\n",
              "</style>\n",
              "<table border=\"1\" class=\"dataframe\">\n",
              "  <thead>\n",
              "    <tr style=\"text-align: right;\">\n",
              "      <th></th>\n",
              "      <th>reviewId</th>\n",
              "      <th>userName</th>\n",
              "      <th>userImage</th>\n",
              "      <th>content</th>\n",
              "      <th>score</th>\n",
              "      <th>thumbsUpCount</th>\n",
              "      <th>reviewCreatedVersion</th>\n",
              "      <th>at</th>\n",
              "      <th>replyContent</th>\n",
              "      <th>repliedAt</th>\n",
              "      <th>app_id</th>\n",
              "      <th>review_status</th>\n",
              "    </tr>\n",
              "  </thead>\n",
              "  <tbody>\n",
              "    <tr>\n",
              "      <th>0</th>\n",
              "      <td>gp:AOqpTOHTeNGxl9Zhlz-BM6ybraEsnVg0BLDubF8E_fQ...</td>\n",
              "      <td>kelvin ho</td>\n",
              "      <td>https://play-lh.googleusercontent.com/-rSnBD4Y...</td>\n",
              "      <td>Very very bad experience with the management! ...</td>\n",
              "      <td>1</td>\n",
              "      <td>4</td>\n",
              "      <td>5.10.0.8</td>\n",
              "      <td>2021-02-26 09:47:49</td>\n",
              "      <td>Hi Kelvin, we've checked our records and could...</td>\n",
              "      <td>2021-02-28 15:06:51</td>\n",
              "      <td>com.anydo</td>\n",
              "      <td>most_relevent</td>\n",
              "    </tr>\n",
              "    <tr>\n",
              "      <th>1</th>\n",
              "      <td>gp:AOqpTOH2VEhd1ldAR1zxGzjJEIa37fCBgY9S3sqe_TE...</td>\n",
              "      <td>Matt Van Der Schyff</td>\n",
              "      <td>https://play-lh.googleusercontent.com/-sMd4wLr...</td>\n",
              "      <td>originally gave this a 2 star but I think it o...</td>\n",
              "      <td>1</td>\n",
              "      <td>80</td>\n",
              "      <td>5.9.0.2</td>\n",
              "      <td>2021-02-04 11:05:28</td>\n",
              "      <td>We are unaware of any issues with setting remi...</td>\n",
              "      <td>2021-02-04 14:38:06</td>\n",
              "      <td>com.anydo</td>\n",
              "      <td>most_relevent</td>\n",
              "    </tr>\n",
              "  </tbody>\n",
              "</table>\n",
              "</div>"
            ],
            "text/plain": [
              "                                            reviewId             userName  \\\n",
              "0  gp:AOqpTOHTeNGxl9Zhlz-BM6ybraEsnVg0BLDubF8E_fQ...            kelvin ho   \n",
              "1  gp:AOqpTOH2VEhd1ldAR1zxGzjJEIa37fCBgY9S3sqe_TE...  Matt Van Der Schyff   \n",
              "\n",
              "                                           userImage  \\\n",
              "0  https://play-lh.googleusercontent.com/-rSnBD4Y...   \n",
              "1  https://play-lh.googleusercontent.com/-sMd4wLr...   \n",
              "\n",
              "                                             content  score  thumbsUpCount  \\\n",
              "0  Very very bad experience with the management! ...      1              4   \n",
              "1  originally gave this a 2 star but I think it o...      1             80   \n",
              "\n",
              "  reviewCreatedVersion                  at  \\\n",
              "0             5.10.0.8 2021-02-26 09:47:49   \n",
              "1              5.9.0.2 2021-02-04 11:05:28   \n",
              "\n",
              "                                        replyContent           repliedAt  \\\n",
              "0  Hi Kelvin, we've checked our records and could... 2021-02-28 15:06:51   \n",
              "1  We are unaware of any issues with setting remi... 2021-02-04 14:38:06   \n",
              "\n",
              "      app_id  review_status  \n",
              "0  com.anydo  most_relevent  \n",
              "1  com.anydo  most_relevent  "
            ]
          },
          "execution_count": 56,
          "metadata": {},
          "output_type": "execute_result"
        }
      ],
      "source": [
        "reviews_df = pd.DataFrame(app_reviews)\n",
        "reviews_df.head(2)"
      ]
    },
    {
      "cell_type": "code",
      "execution_count": null,
      "metadata": {
        "id": "2HHCjUswaA-F",
        "outputId": "7000686f-e710-42d6-e1fc-d6ce97c4a992"
      },
      "outputs": [
        {
          "data": {
            "text/plain": [
              "(16405, 12)"
            ]
          },
          "execution_count": 57,
          "metadata": {},
          "output_type": "execute_result"
        }
      ],
      "source": [
        "# if you want to save data frame\n",
        "# reviews_df.to_csv('review.csv',header=True,index=False)\n",
        "\n",
        "reviews_df.shape"
      ]
    },
    {
      "cell_type": "markdown",
      "metadata": {
        "id": "O9svLWBnaA-F"
      },
      "source": [
        "### Analyse distribution of score"
      ]
    },
    {
      "cell_type": "code",
      "execution_count": null,
      "metadata": {
        "id": "IAI5kGALaA-G",
        "outputId": "46919159-f841-40ce-fcac-f7f591c6d19d"
      },
      "outputs": [
        {
          "data": {
            "image/png": "[encoded data removed]",
            "text/plain": [
              "<Figure size 720x504 with 1 Axes>"
            ]
          },
          "metadata": {
            "image/png": {
              "height": 433,
              "width": 628
            }
          },
          "output_type": "display_data"
        }
      ],
      "source": [
        "plt.figure(figsize=fig_size)\n",
        "sns.countplot(reviews_df.score)\n",
        "plt.xlabel('score')\n",
        "plt.show()"
      ]
    },
    {
      "cell_type": "markdown",
      "metadata": {
        "id": "gXaLZfPbaA-G"
      },
      "source": [
        "We will merge togather the data for score = 1 and 2 and score = 4 and 5 . So in this way we scapped a balanced data set."
      ]
    },
    {
      "cell_type": "markdown",
      "metadata": {
        "id": "bLVuMM9RaA-G"
      },
      "source": [
        "Now let's perform this merging on review data frame. Data with score = 1 and 2 will be merged together and assign sentiment value = 0 which will represent the negative sentiment. Data with score = 3 will be assigned with sentiment value = 1 which represent Neutral sentiment and finally Data with score = 4 and 5 will be merged together and assign sentiment value = 2 which represent positive sentiment."
      ]
    },
    {
      "cell_type": "code",
      "execution_count": null,
      "metadata": {
        "id": "kxvNZlnKaA-H",
        "outputId": "293661f0-445a-4657-f1dd-24e81a469169"
      },
      "outputs": [
        {
          "data": {
            "text/html": [
              "<div>\n",
              "<style scoped>\n",
              "    .dataframe tbody tr th:only-of-type {\n",
              "        vertical-align: middle;\n",
              "    }\n",
              "\n",
              "    .dataframe tbody tr th {\n",
              "        vertical-align: top;\n",
              "    }\n",
              "\n",
              "    .dataframe thead th {\n",
              "        text-align: right;\n",
              "    }\n",
              "</style>\n",
              "<table border=\"1\" class=\"dataframe\">\n",
              "  <thead>\n",
              "    <tr style=\"text-align: right;\">\n",
              "      <th></th>\n",
              "      <th>reviewId</th>\n",
              "      <th>userName</th>\n",
              "      <th>userImage</th>\n",
              "      <th>content</th>\n",
              "      <th>score</th>\n",
              "      <th>thumbsUpCount</th>\n",
              "      <th>reviewCreatedVersion</th>\n",
              "      <th>at</th>\n",
              "      <th>replyContent</th>\n",
              "      <th>repliedAt</th>\n",
              "      <th>app_id</th>\n",
              "      <th>review_status</th>\n",
              "      <th>sentiment</th>\n",
              "    </tr>\n",
              "  </thead>\n",
              "  <tbody>\n",
              "    <tr>\n",
              "      <th>0</th>\n",
              "      <td>gp:AOqpTOHTeNGxl9Zhlz-BM6ybraEsnVg0BLDubF8E_fQ...</td>\n",
              "      <td>kelvin ho</td>\n",
              "      <td>https://play-lh.googleusercontent.com/-rSnBD4Y...</td>\n",
              "      <td>Very very bad experience with the management! ...</td>\n",
              "      <td>1</td>\n",
              "      <td>4</td>\n",
              "      <td>5.10.0.8</td>\n",
              "      <td>2021-02-26 09:47:49</td>\n",
              "      <td>Hi Kelvin, we've checked our records and could...</td>\n",
              "      <td>2021-02-28 15:06:51</td>\n",
              "      <td>com.anydo</td>\n",
              "      <td>most_relevent</td>\n",
              "      <td>0</td>\n",
              "    </tr>\n",
              "    <tr>\n",
              "      <th>1</th>\n",
              "      <td>gp:AOqpTOH2VEhd1ldAR1zxGzjJEIa37fCBgY9S3sqe_TE...</td>\n",
              "      <td>Matt Van Der Schyff</td>\n",
              "      <td>https://play-lh.googleusercontent.com/-sMd4wLr...</td>\n",
              "      <td>originally gave this a 2 star but I think it o...</td>\n",
              "      <td>1</td>\n",
              "      <td>80</td>\n",
              "      <td>5.9.0.2</td>\n",
              "      <td>2021-02-04 11:05:28</td>\n",
              "      <td>We are unaware of any issues with setting remi...</td>\n",
              "      <td>2021-02-04 14:38:06</td>\n",
              "      <td>com.anydo</td>\n",
              "      <td>most_relevent</td>\n",
              "      <td>0</td>\n",
              "    </tr>\n",
              "  </tbody>\n",
              "</table>\n",
              "</div>"
            ],
            "text/plain": [
              "                                            reviewId             userName  \\\n",
              "0  gp:AOqpTOHTeNGxl9Zhlz-BM6ybraEsnVg0BLDubF8E_fQ...            kelvin ho   \n",
              "1  gp:AOqpTOH2VEhd1ldAR1zxGzjJEIa37fCBgY9S3sqe_TE...  Matt Van Der Schyff   \n",
              "\n",
              "                                           userImage  \\\n",
              "0  https://play-lh.googleusercontent.com/-rSnBD4Y...   \n",
              "1  https://play-lh.googleusercontent.com/-sMd4wLr...   \n",
              "\n",
              "                                             content  score  thumbsUpCount  \\\n",
              "0  Very very bad experience with the management! ...      1              4   \n",
              "1  originally gave this a 2 star but I think it o...      1             80   \n",
              "\n",
              "  reviewCreatedVersion                  at  \\\n",
              "0             5.10.0.8 2021-02-26 09:47:49   \n",
              "1              5.9.0.2 2021-02-04 11:05:28   \n",
              "\n",
              "                                        replyContent           repliedAt  \\\n",
              "0  Hi Kelvin, we've checked our records and could... 2021-02-28 15:06:51   \n",
              "1  We are unaware of any issues with setting remi... 2021-02-04 14:38:06   \n",
              "\n",
              "      app_id  review_status  sentiment  \n",
              "0  com.anydo  most_relevent          0  \n",
              "1  com.anydo  most_relevent          0  "
            ]
          },
          "execution_count": 59,
          "metadata": {},
          "output_type": "execute_result"
        }
      ],
      "source": [
        "def get_sentiment(score):\n",
        "    if score<=2:\n",
        "        return 0 # negative sentiment\n",
        "    elif score==3:\n",
        "        return 1 # neutral sentiment\n",
        "    else:\n",
        "        return 2 # positive sentiment\n",
        "    \n",
        "\n",
        "reviews_df['sentiment'] = reviews_df.score.apply(get_sentiment)\n",
        "reviews_df.head(2)"
      ]
    },
    {
      "cell_type": "code",
      "execution_count": null,
      "metadata": {
        "id": "FFjsABQPaA-H",
        "outputId": "8aba5fa5-6e3f-4626-ba7f-5d27be69d44a"
      },
      "outputs": [
        {
          "data": {
            "image/png": "[encoded data removed]",
            "text/plain": [
              "<Figure size 720x504 with 1 Axes>"
            ]
          },
          "metadata": {
            "image/png": {
              "height": 449,
              "width": 628
            }
          },
          "output_type": "display_data"
        }
      ],
      "source": [
        "plt.figure(figsize=fig_size)\n",
        "sns.countplot(reviews_df['sentiment'])\n",
        "plt.xticks([0, 1, 2],['Negative','Neutral','Positive'])\n",
        "plt.title('sentiment')\n",
        "plt.show()"
      ]
    },
    {
      "cell_type": "markdown",
      "metadata": {
        "id": "h5y5IjslaA-I"
      },
      "source": [
        "Finally we can see the balanced dataset."
      ]
    },
    {
      "cell_type": "markdown",
      "metadata": {
        "id": "i3Jyk2GcaA-I"
      },
      "source": [
        "### Prepare training , validation  data\n",
        "--> convert reviews into tokens\n",
        "--> convert tokens into token ids\n",
        "--> set max len\n",
        "--> creating padding\n",
        "--> all this will done by tokenizer.encode_plus"
      ]
    },
    {
      "cell_type": "markdown",
      "metadata": {
        "id": "3QCt6kVsaA-I"
      },
      "source": [
        "### Tokenizer\n",
        "\n",
        "I have explained BERT Tokenizer in detail in my previous [blog](https://niteshkumardew11.medium.com/implementing-bert-for-question-and-answer-67ccd0e8aae5) and you can visit this blog to know about BERT Tokenizer in depth.\n",
        "\n",
        "Let's talk about what type of input that BERT model expect. Both BERT-base and BERT-large models are pre trained on a large amount of data set and this pre-training is done based one two processes, The first one is Masked Language Model and other is Next sentence prediction model. So by default model expects two sequences(sentences) of inputs, In task like question and answering first sequence is passage and second one is question but here in our case it is a classification task and we have only one sequence as input.\n",
        "\n",
        "We need to provide an additional attention mask to tell the model that we have only one sequence of input.\n",
        "\n",
        "I recommend the readers to please visit my another [blog](https://niteshkumardew11.medium.com/implementing-bert-for-question-and-answer-67ccd0e8aae5) where I have explained BERT tokens, token ids , special tokens and segment ids (attension mask) in detail.\n",
        "  \n"
      ]
    },
    {
      "cell_type": "markdown",
      "metadata": {
        "id": "oPz6RpE9aA-I"
      },
      "source": [
        "### Input to the BERT Model\n",
        "In case of training BERT model for sentiment analysis(Classification), the model expects two inputs, token ids and attention mask and best part is we don't have to do dirty work as hugging face library provides many functions to do this dirty work for us.\n",
        "\n",
        "token ids : it is an integer that represents a particular token.\n",
        "\n",
        "attention mask : it is a sequence of ones and zeroes to tell the model which token comes from input sentence (segment id =1) and which are just padding token(segment id =0).\n",
        "\n",
        "padding : when we train BERT model we make sure that every input to the model should have same size that means same length of inputs so that the model can perform back propagation efficiently but all our input which are review text can not be in same size, some can be small review and some can be large. Padding is the technique where we make our entire review in the same size but first we have to decide a fixed length or max_length. If we assign this max length with small value then model training will be fast but we might lose a lot of information and on other hand if we assign it with large value then we will be holding all the review information but training will become very slow. \n",
        "\n",
        "Any input with token length less than max length is padded up to max length and inputs with token length greater than max length are truncated from its ends.\n",
        "\n"
      ]
    },
    {
      "cell_type": "markdown",
      "metadata": {
        "id": "WESkutr5aA-I"
      },
      "source": [
        "Let's first see how the BERT tokenizer converts sentences into token ids."
      ]
    },
    {
      "cell_type": "code",
      "execution_count": null,
      "metadata": {
        "id": "zvKKe1JsaA-J",
        "outputId": "b9b9b2a0-3724-4b90-b8f8-5707721f87dc"
      },
      "outputs": [
        {
          "name": "stdout",
          "output_type": "stream",
          "text": [
            "originally gave this a 2 star but I think it only deserves 1. I simply can't wrap my head around the following. picture this, you add a task to your list. the reminder feature is on.you want to change the time on the reminder feature so you click it.\n",
            "============================================================\n",
            "['originally', 'gave', 'this', 'a', '2', 'star', 'but', 'I', 'think', 'it', 'only', 'deserves', '1', '.', 'I', 'simply', 'can', \"'\", 't', 'wrap', 'my', 'head', 'around', 'the', 'following', '.', 'picture', 'this', ',', 'you', 'add', 'a', 'task', 'to', 'your', 'list', '.', 'the', 'reminder', 'feature', 'is', 'on', '.', 'you', 'want', 'to', 'change', 'the', 'time', 'on', 'the', 'reminder', 'feature', 'so', 'you', 'click', 'it', '.']\n",
            "============================================================\n",
            "[2034, 1522, 1142, 170, 123, 2851, 1133, 146, 1341, 1122, 1178, 18641, 122, 119, 146, 2566, 1169, 112, 189, 10561, 1139, 1246, 1213, 1103, 1378, 119, 3439, 1142, 117, 1128, 5194, 170, 4579, 1106, 1240, 2190, 119, 1103, 15656, 2672, 1110, 1113, 119, 1128, 1328, 1106, 1849, 1103, 1159, 1113, 1103, 15656, 2672, 1177, 1128, 13440, 1122, 119]\n"
          ]
        }
      ],
      "source": [
        "bert_model_name = 'bert-base-cased'\n",
        "tokenizer = transformers.BertTokenizer.from_pretrained(bert_model_name)\n",
        "\n",
        "sample_text = \"originally gave this a 2 star but I think it only deserves 1. I simply can't wrap my head around the following. picture this, you add a task to your list. the reminder feature is on.you want to change the time on the reminder feature so you click it.\"\n",
        "               \n",
        "tokens = tokenizer.tokenize(sample_text)\n",
        "ids = tokenizer.convert_tokens_to_ids(tokens)\n",
        "print(f'{sample_text}')\n",
        "print('='*60)\n",
        "print(tokens)\n",
        "print('='*60)\n",
        "print(ids)"
      ]
    },
    {
      "cell_type": "markdown",
      "metadata": {
        "id": "79waJiF7aA-J"
      },
      "source": [
        "The function tokenizer.tokenize() and tokenizer.convert_tokens_to_ids() are general purpose functions and it does not convert our review compatible for training data like adding [CLS] token at beginning, padding and [SEP] token at the end."
      ]
    },
    {
      "cell_type": "markdown",
      "metadata": {
        "id": "uaRhBE1qaA-J"
      },
      "source": [
        "These are some special tokens and corresponding ids."
      ]
    },
    {
      "cell_type": "code",
      "execution_count": null,
      "metadata": {
        "id": "HapcmYcWaA-Q",
        "outputId": "1161caf5-65d7-4d8b-9a21-eb0d7564651f"
      },
      "outputs": [
        {
          "name": "stdout",
          "output_type": "stream",
          "text": [
            "[SEP] 102\n",
            "[CLS] 101\n",
            "[UNK] 100\n",
            "[PAD] 0\n"
          ]
        }
      ],
      "source": [
        "# special tokens\n",
        "print(tokenizer.sep_token , tokenizer.sep_token_id)\n",
        "print(tokenizer.cls_token,tokenizer.cls_token_id)\n",
        "print(tokenizer.unk_token,tokenizer.unk_token_id)\n",
        "print(tokenizer.pad_token,tokenizer.pad_token_id)"
      ]
    },
    {
      "cell_type": "markdown",
      "metadata": {
        "id": "8TDTAGbXaA-R"
      },
      "source": [
        "Hugging face library provides another function called tokenizer.encode_plus() which we will use to perform almost entire  preprocessing steps in one go. It\n",
        "* converts reviews into tokens\n",
        "* adds [CLS] token at the beginning of input\n",
        "* performs padding if sequence length is less than max_len\n",
        "* performs truncation if sequence length is greater than max_len\n",
        "* adds [SEP] token at the end of sequence."
      ]
    },
    {
      "cell_type": "code",
      "execution_count": null,
      "metadata": {
        "id": "Tn7HcQtIaA-R"
      },
      "outputs": [],
      "source": [
        "encoding = tokenizer.encode_plus(\n",
        "      sample_text,\n",
        "      add_special_tokens=True,\n",
        "      max_length=128,\n",
        "      truncation=True,\n",
        "      return_token_type_ids=False,\n",
        "      pad_to_max_length=True,\n",
        "      return_attention_mask=True,\n",
        "      return_tensors='pt')"
      ]
    },
    {
      "cell_type": "code",
      "execution_count": null,
      "metadata": {
        "id": "uwwOr3AhaA-R",
        "outputId": "241ddeae-3d4b-4ddc-fbc5-81587f5b0a4f"
      },
      "outputs": [
        {
          "name": "stdout",
          "output_type": "stream",
          "text": [
            "torch.Size([1, 128])\n"
          ]
        },
        {
          "data": {
            "text/plain": [
              "tensor([[  101,  2034,  1522,  1142,   170,   123,  2851,  1133,   146,  1341,\n",
              "          1122,  1178, 18641,   122,   119,   146,  2566,  1169,   112,   189,\n",
              "         10561,  1139,  1246,  1213,  1103,  1378,   119,  3439,  1142,   117,\n",
              "          1128,  5194,   170,  4579,  1106,  1240,  2190,   119,  1103, 15656,\n",
              "          2672,  1110,  1113,   119,  1128,  1328,  1106,  1849,  1103,  1159,\n",
              "          1113,  1103, 15656,  2672,  1177,  1128, 13440,  1122,   119,   102,\n",
              "             0,     0,     0,     0,     0,     0,     0,     0,     0,     0,\n",
              "             0,     0,     0,     0,     0,     0,     0,     0,     0,     0,\n",
              "             0,     0,     0,     0,     0,     0,     0,     0,     0,     0,\n",
              "             0,     0,     0,     0,     0,     0,     0,     0,     0,     0,\n",
              "             0,     0,     0,     0,     0,     0,     0,     0,     0,     0,\n",
              "             0,     0,     0,     0,     0,     0,     0,     0,     0,     0,\n",
              "             0,     0,     0,     0,     0,     0,     0,     0]])"
            ]
          },
          "execution_count": 64,
          "metadata": {},
          "output_type": "execute_result"
        }
      ],
      "source": [
        "print(encoding['input_ids'].shape)\n",
        "encoding['input_ids']"
      ]
    },
    {
      "cell_type": "code",
      "execution_count": null,
      "metadata": {
        "id": "pZR3CxNKaA-S",
        "outputId": "726d130a-5f23-4caf-876b-18b035edc322"
      },
      "outputs": [
        {
          "name": "stdout",
          "output_type": "stream",
          "text": [
            "torch.Size([1, 128])\n"
          ]
        },
        {
          "data": {
            "text/plain": [
              "tensor([[1, 1, 1, 1, 1, 1, 1, 1, 1, 1, 1, 1, 1, 1, 1, 1, 1, 1, 1, 1, 1, 1, 1, 1,\n",
              "         1, 1, 1, 1, 1, 1, 1, 1, 1, 1, 1, 1, 1, 1, 1, 1, 1, 1, 1, 1, 1, 1, 1, 1,\n",
              "         1, 1, 1, 1, 1, 1, 1, 1, 1, 1, 1, 1, 0, 0, 0, 0, 0, 0, 0, 0, 0, 0, 0, 0,\n",
              "         0, 0, 0, 0, 0, 0, 0, 0, 0, 0, 0, 0, 0, 0, 0, 0, 0, 0, 0, 0, 0, 0, 0, 0,\n",
              "         0, 0, 0, 0, 0, 0, 0, 0, 0, 0, 0, 0, 0, 0, 0, 0, 0, 0, 0, 0, 0, 0, 0, 0,\n",
              "         0, 0, 0, 0, 0, 0, 0, 0]])"
            ]
          },
          "execution_count": 65,
          "metadata": {},
          "output_type": "execute_result"
        }
      ],
      "source": [
        "print(encoding['attention_mask'].shape)\n",
        "encoding['attention_mask']"
      ]
    },
    {
      "cell_type": "markdown",
      "metadata": {
        "id": "CwRSsLQZaA-S"
      },
      "source": [
        "Above in input ids we can see that it starts with 101 which corresponds to [CLS] token and ends with 102 corresponds to [SEP] token and since our sequence length is less than max_len(128) the input_id is padded with zeros upto length = 128.\n",
        "\n",
        "Also in the attention mask we can see all the tokens coming from reviews are assigned with id 1 and padding token assigned with id 0. \n",
        "\n",
        "\n",
        "One thing that still confuse me is attention mask make sense in task like question and answering where we have two sequence of input and the model must know which is question and which is passage and model uses attention mask to identify those sequence but task like classification where we have only one input and while generating input ids it padded with 0 ids. The id 0 is specific for padding tokens only which the model can recognize from the input id itself then why it needed an additional attention mask for such a task.\n",
        "please let me know by comments if you guys have any answers for that.\n"
      ]
    },
    {
      "cell_type": "markdown",
      "metadata": {
        "id": "lVBtSKu7aA-S"
      },
      "source": [
        "### Decide max_len\n",
        "The best way to decide max_len for our task is plotting a distribution graph for the number of words in each review. We will assign max_len to that value for which most of the review is covered without truncation."
      ]
    },
    {
      "cell_type": "code",
      "execution_count": null,
      "metadata": {
        "id": "cnlEjTL4aA-V",
        "outputId": "8750484c-9bd0-4373-e5e1-622393db3b27"
      },
      "outputs": [
        {
          "data": {
            "text/html": [
              "<div>\n",
              "<style scoped>\n",
              "    .dataframe tbody tr th:only-of-type {\n",
              "        vertical-align: middle;\n",
              "    }\n",
              "\n",
              "    .dataframe tbody tr th {\n",
              "        vertical-align: top;\n",
              "    }\n",
              "\n",
              "    .dataframe thead th {\n",
              "        text-align: right;\n",
              "    }\n",
              "</style>\n",
              "<table border=\"1\" class=\"dataframe\">\n",
              "  <thead>\n",
              "    <tr style=\"text-align: right;\">\n",
              "      <th></th>\n",
              "      <th>reviewId</th>\n",
              "      <th>userName</th>\n",
              "      <th>userImage</th>\n",
              "      <th>content</th>\n",
              "      <th>score</th>\n",
              "      <th>thumbsUpCount</th>\n",
              "      <th>reviewCreatedVersion</th>\n",
              "      <th>at</th>\n",
              "      <th>replyContent</th>\n",
              "      <th>repliedAt</th>\n",
              "      <th>app_id</th>\n",
              "      <th>review_status</th>\n",
              "      <th>sentiment</th>\n",
              "    </tr>\n",
              "  </thead>\n",
              "  <tbody>\n",
              "    <tr>\n",
              "      <th>0</th>\n",
              "      <td>gp:AOqpTOHTeNGxl9Zhlz-BM6ybraEsnVg0BLDubF8E_fQ...</td>\n",
              "      <td>kelvin ho</td>\n",
              "      <td>https://play-lh.googleusercontent.com/-rSnBD4Y...</td>\n",
              "      <td>Very very bad experience with the management! ...</td>\n",
              "      <td>1</td>\n",
              "      <td>4</td>\n",
              "      <td>5.10.0.8</td>\n",
              "      <td>2021-02-26 09:47:49</td>\n",
              "      <td>Hi Kelvin, we've checked our records and could...</td>\n",
              "      <td>2021-02-28 15:06:51</td>\n",
              "      <td>com.anydo</td>\n",
              "      <td>most_relevent</td>\n",
              "      <td>0</td>\n",
              "    </tr>\n",
              "    <tr>\n",
              "      <th>1</th>\n",
              "      <td>gp:AOqpTOH2VEhd1ldAR1zxGzjJEIa37fCBgY9S3sqe_TE...</td>\n",
              "      <td>Matt Van Der Schyff</td>\n",
              "      <td>https://play-lh.googleusercontent.com/-sMd4wLr...</td>\n",
              "      <td>originally gave this a 2 star but I think it o...</td>\n",
              "      <td>1</td>\n",
              "      <td>80</td>\n",
              "      <td>5.9.0.2</td>\n",
              "      <td>2021-02-04 11:05:28</td>\n",
              "      <td>We are unaware of any issues with setting remi...</td>\n",
              "      <td>2021-02-04 14:38:06</td>\n",
              "      <td>com.anydo</td>\n",
              "      <td>most_relevent</td>\n",
              "      <td>0</td>\n",
              "    </tr>\n",
              "    <tr>\n",
              "      <th>2</th>\n",
              "      <td>gp:AOqpTOH5OkwJH-nRT4nopD_JNTIYpWs1xWzOsFE-pn7...</td>\n",
              "      <td>Charles Green</td>\n",
              "      <td>https://play-lh.googleusercontent.com/a-/AOh14...</td>\n",
              "      <td>Ugh! After years of using this app, I am so ve...</td>\n",
              "      <td>1</td>\n",
              "      <td>9</td>\n",
              "      <td>5.9.0.2</td>\n",
              "      <td>2021-02-18 00:40:03</td>\n",
              "      <td>From checking our records, the issue you've re...</td>\n",
              "      <td>2021-02-18 16:52:00</td>\n",
              "      <td>com.anydo</td>\n",
              "      <td>most_relevent</td>\n",
              "      <td>0</td>\n",
              "    </tr>\n",
              "    <tr>\n",
              "      <th>3</th>\n",
              "      <td>gp:AOqpTOG4LKg25ejg1Hw1TWs6_gIXhpwJRZZpXssMygx...</td>\n",
              "      <td>Andi Tan</td>\n",
              "      <td>https://play-lh.googleusercontent.com/-vozop-l...</td>\n",
              "      <td>I'm a new user. I think this app's great. I tr...</td>\n",
              "      <td>1</td>\n",
              "      <td>12</td>\n",
              "      <td>5.9.0.2</td>\n",
              "      <td>2021-02-07 17:24:54</td>\n",
              "      <td>The Quick-add bar on the device's Notification...</td>\n",
              "      <td>2021-02-09 14:49:18</td>\n",
              "      <td>com.anydo</td>\n",
              "      <td>most_relevent</td>\n",
              "      <td>0</td>\n",
              "    </tr>\n",
              "    <tr>\n",
              "      <th>4</th>\n",
              "      <td>gp:AOqpTOGQ7NShvSVr9Vqz67MSeTN_3rkBuYtQRtsyAo5...</td>\n",
              "      <td>Drew Dayman</td>\n",
              "      <td>https://play-lh.googleusercontent.com/a-/AOh14...</td>\n",
              "      <td>Bought it to use with Alexa. After multiple at...</td>\n",
              "      <td>1</td>\n",
              "      <td>1</td>\n",
              "      <td>5.9.0.2</td>\n",
              "      <td>2021-02-13 02:05:18</td>\n",
              "      <td>None</td>\n",
              "      <td>NaT</td>\n",
              "      <td>com.anydo</td>\n",
              "      <td>most_relevent</td>\n",
              "      <td>0</td>\n",
              "    </tr>\n",
              "  </tbody>\n",
              "</table>\n",
              "</div>"
            ],
            "text/plain": [
              "                                            reviewId             userName  \\\n",
              "0  gp:AOqpTOHTeNGxl9Zhlz-BM6ybraEsnVg0BLDubF8E_fQ...            kelvin ho   \n",
              "1  gp:AOqpTOH2VEhd1ldAR1zxGzjJEIa37fCBgY9S3sqe_TE...  Matt Van Der Schyff   \n",
              "2  gp:AOqpTOH5OkwJH-nRT4nopD_JNTIYpWs1xWzOsFE-pn7...        Charles Green   \n",
              "3  gp:AOqpTOG4LKg25ejg1Hw1TWs6_gIXhpwJRZZpXssMygx...             Andi Tan   \n",
              "4  gp:AOqpTOGQ7NShvSVr9Vqz67MSeTN_3rkBuYtQRtsyAo5...          Drew Dayman   \n",
              "\n",
              "                                           userImage  \\\n",
              "0  https://play-lh.googleusercontent.com/-rSnBD4Y...   \n",
              "1  https://play-lh.googleusercontent.com/-sMd4wLr...   \n",
              "2  https://play-lh.googleusercontent.com/a-/AOh14...   \n",
              "3  https://play-lh.googleusercontent.com/-vozop-l...   \n",
              "4  https://play-lh.googleusercontent.com/a-/AOh14...   \n",
              "\n",
              "                                             content  score  thumbsUpCount  \\\n",
              "0  Very very bad experience with the management! ...      1              4   \n",
              "1  originally gave this a 2 star but I think it o...      1             80   \n",
              "2  Ugh! After years of using this app, I am so ve...      1              9   \n",
              "3  I'm a new user. I think this app's great. I tr...      1             12   \n",
              "4  Bought it to use with Alexa. After multiple at...      1              1   \n",
              "\n",
              "  reviewCreatedVersion                  at  \\\n",
              "0             5.10.0.8 2021-02-26 09:47:49   \n",
              "1              5.9.0.2 2021-02-04 11:05:28   \n",
              "2              5.9.0.2 2021-02-18 00:40:03   \n",
              "3              5.9.0.2 2021-02-07 17:24:54   \n",
              "4              5.9.0.2 2021-02-13 02:05:18   \n",
              "\n",
              "                                        replyContent           repliedAt  \\\n",
              "0  Hi Kelvin, we've checked our records and could... 2021-02-28 15:06:51   \n",
              "1  We are unaware of any issues with setting remi... 2021-02-04 14:38:06   \n",
              "2  From checking our records, the issue you've re... 2021-02-18 16:52:00   \n",
              "3  The Quick-add bar on the device's Notification... 2021-02-09 14:49:18   \n",
              "4                                               None                 NaT   \n",
              "\n",
              "      app_id  review_status  sentiment  \n",
              "0  com.anydo  most_relevent          0  \n",
              "1  com.anydo  most_relevent          0  \n",
              "2  com.anydo  most_relevent          0  \n",
              "3  com.anydo  most_relevent          0  \n",
              "4  com.anydo  most_relevent          0  "
            ]
          },
          "execution_count": 66,
          "metadata": {},
          "output_type": "execute_result"
        }
      ],
      "source": [
        "reviews_df.head()"
      ]
    },
    {
      "cell_type": "code",
      "execution_count": null,
      "metadata": {
        "id": "crAh9pTxaA-Y",
        "outputId": "420c2bb0-22c0-47f7-a7d0-ae3e136c2832"
      },
      "outputs": [
        {
          "data": {
            "image/png": "[encoded data removed]",
            "text/plain": [
              "<Figure size 720x504 with 1 Axes>"
            ]
          },
          "metadata": {
            "image/png": {
              "height": 449,
              "width": 614
            }
          },
          "output_type": "display_data"
        }
      ],
      "source": [
        "# max length of sequence \n",
        "\n",
        "lengths = np.array([len(x.split()) for x in reviews_df.content])\n",
        "plt.figure(figsize = fig_size)\n",
        "sns.distplot(lengths)\n",
        "plt.xlabel('review length')\n",
        "plt.title('Distribution of review lengths')\n",
        "plt.show()"
      ]
    },
    {
      "cell_type": "markdown",
      "metadata": {
        "id": "k1merOZpaA-Y"
      },
      "source": [
        "#### optimal max len = 128 will be fine"
      ]
    },
    {
      "cell_type": "markdown",
      "metadata": {
        "id": "jcYNYHhoaA-Y"
      },
      "source": [
        "## Training and validation data split\n"
      ]
    },
    {
      "cell_type": "code",
      "execution_count": null,
      "metadata": {
        "id": "UuWB1XC7aA-Y",
        "outputId": "f38632e9-5a70-49cb-850a-e85a9d11df7a"
      },
      "outputs": [
        {
          "name": "stdout",
          "output_type": "stream",
          "text": [
            "(13162, 13) (1646, 13) (1645, 13)\n"
          ]
        }
      ],
      "source": [
        "### Train , val and test data \n",
        "from sklearn.model_selection import train_test_split\n",
        "\n",
        "train_df , test_df  = train_test_split(reviews_df, test_size = 0.2, random_state = RANDOM_SEED, shuffle = True)\n",
        "val_df , test_df  = train_test_split(test_df, test_size = 0.5, random_state = RANDOM_SEED, shuffle = True)\n",
        "\n",
        "print(train_df.shape , test_df.shape , val_df.shape)"
      ]
    },
    {
      "cell_type": "markdown",
      "metadata": {
        "id": "oCuj4s5faA-Z"
      },
      "source": [
        "## Dataset and Dataloader\n",
        "\n",
        "We will use pytorch for fine tuing our BERT model for Sentiment analysis and we will use pytorch module such as Dataset and Dataloader which will finally convert out data into batches."
      ]
    },
    {
      "cell_type": "markdown",
      "metadata": {
        "id": "vrBNGT-XaA-Z"
      },
      "source": [
        "We designed a class called GoogleAppReview which is child class of Dataset provide by pytorch and this class contains blue print for the data which will be feed to our BERT model."
      ]
    },
    {
      "cell_type": "code",
      "execution_count": null,
      "metadata": {
        "id": "IrVr6_SXaA-Z"
      },
      "outputs": [],
      "source": [
        "class GoogleAppReview(Dataset):\n",
        "    def __init__(self, review, target, tokenizer, max_len):\n",
        "        self.review = review\n",
        "        self.target = target\n",
        "        self.tokenizer = tokenizer\n",
        "        self.max_len = max_len\n",
        "        \n",
        "    def __len__(self):\n",
        "        return len(self.review)\n",
        "    \n",
        "    def __getitem__(self,index):\n",
        "        review = self.review[index]\n",
        "        encoding = self.tokenizer.encode_plus(\n",
        "                          review,\n",
        "                          add_special_tokens=True,\n",
        "                          max_length=128,\n",
        "                          truncation=True,\n",
        "                          return_token_type_ids=False,\n",
        "                          pad_to_max_length=True,\n",
        "                          return_attention_mask=True,\n",
        "                          return_tensors='pt')\n",
        "        \n",
        "        return {'review' : review,\n",
        "                'input_id': encoding['input_ids'].flatten(),\n",
        "                'attention_mask':encoding['attention_mask'].flatten(),\n",
        "                'target': torch.tensor(self.target[index], dtype = torch.long)\n",
        "               }\n",
        "        "
      ]
    },
    {
      "cell_type": "markdown",
      "metadata": {
        "id": "YvOlmJfNaA-Z"
      },
      "source": [
        "Now we will create class variable training_data, validation_data and test_data of class GoogleAppReview."
      ]
    },
    {
      "cell_type": "code",
      "execution_count": null,
      "metadata": {
        "id": "PgU5DqaXaA-Z"
      },
      "outputs": [],
      "source": [
        "tokenizer = transformers.BertTokenizer.from_pretrained(bert_model_name)\n",
        "MAX_LEN = 128\n",
        "\n",
        "training_data = GoogleAppReview(review = train_df.content.to_numpy(),\n",
        "                               target = train_df.sentiment.to_numpy(),\n",
        "                               tokenizer = tokenizer,\n",
        "                               max_len = MAX_LEN)\n",
        "\n",
        "validation_data = GoogleAppReview(review = val_df.content.to_numpy(),\n",
        "                               target = val_df.sentiment.to_numpy(),\n",
        "                               tokenizer = tokenizer,\n",
        "                               max_len = MAX_LEN)\n",
        "\n",
        "test_data = GoogleAppReview(review = test_df.content.to_numpy(),\n",
        "                               target = test_df.sentiment.to_numpy(),\n",
        "                               tokenizer = tokenizer,\n",
        "                               max_len = MAX_LEN)"
      ]
    },
    {
      "cell_type": "code",
      "execution_count": null,
      "metadata": {
        "id": "vCOaRCOBaA-Z",
        "outputId": "cfa953cf-c3b2-414b-9824-16ded4399ce1"
      },
      "outputs": [
        {
          "name": "stdout",
          "output_type": "stream",
          "text": [
            "13156 1645 1645\n"
          ]
        }
      ],
      "source": [
        "print(len(training_data),len(test_data),len(validation_data))"
      ]
    },
    {
      "cell_type": "markdown",
      "metadata": {
        "id": "1arA5BXSaA-a"
      },
      "source": [
        "Now we have decent amount of training test and validation data. Let's quickly create data loader for training test and validation data so that it can converts into batches and can be trained easily."
      ]
    },
    {
      "cell_type": "code",
      "execution_count": null,
      "metadata": {
        "id": "dWdUrDK4aA-a"
      },
      "outputs": [],
      "source": [
        "## DataLoader\n",
        "BATCH_SIZE = 16\n",
        "train_loader = DataLoader(training_data , batch_size = BATCH_SIZE , shuffle = True)\n",
        "test_loader = DataLoader(test_data , batch_size = BATCH_SIZE , shuffle = False)\n",
        "val_loader = DataLoader(validation_data , batch_size = BATCH_SIZE , shuffle = False)"
      ]
    },
    {
      "cell_type": "markdown",
      "metadata": {
        "id": "66etVLERaA-a"
      },
      "source": [
        "Since we have created data loader for all training test and validation data now let's check whether every thing is working fine or not."
      ]
    },
    {
      "cell_type": "code",
      "execution_count": null,
      "metadata": {
        "id": "u4g2T-PraA-a",
        "outputId": "ad0fff81-7e34-4cff-f3e2-67991c059349"
      },
      "outputs": [
        {
          "data": {
            "text/plain": [
              "dict_keys(['review', 'input_id', 'attention_mask', 'target'])"
            ]
          },
          "execution_count": 32,
          "metadata": {},
          "output_type": "execute_result"
        }
      ],
      "source": [
        "sample_batch = next(iter(train_loader))\n",
        "sample_batch.keys()"
      ]
    },
    {
      "cell_type": "code",
      "execution_count": null,
      "metadata": {
        "id": "klPiEAYbaA-a",
        "outputId": "d7e9c916-e40f-42b2-eb71-cce38dad6720"
      },
      "outputs": [
        {
          "name": "stdout",
          "output_type": "stream",
          "text": [
            "Nice to manage time but you should work on notifications. The notifications set before time appear on time of tasks and custom tunes dont work. Apart from these, app is well made and helpful.\n",
            "tensor([  101,  8835,  1106,  5494,  1159,  1133,  1128,  1431,  1250,  1113,\n",
            "         1136, 25583,   119,  1109,  1136, 25583,  1383,  1196,  1159,  2845,\n",
            "         1113,  1159,  1104,  8249,  1105,  8156, 17378,  1274,  1204,  1250,\n",
            "          119, 10342,  1121,  1292,   117, 12647,  1110,  1218,  1189,  1105,\n",
            "        14739,   119,   102,     0,     0,     0,     0,     0,     0,     0,\n",
            "            0,     0,     0,     0,     0,     0,     0,     0,     0,     0,\n",
            "            0,     0,     0,     0,     0,     0,     0,     0,     0,     0,\n",
            "            0,     0,     0,     0,     0,     0,     0,     0,     0,     0,\n",
            "            0,     0,     0,     0,     0,     0,     0,     0,     0,     0,\n",
            "            0,     0,     0,     0,     0,     0,     0,     0,     0,     0,\n",
            "            0,     0,     0,     0,     0,     0,     0,     0,     0,     0,\n",
            "            0,     0,     0,     0,     0,     0,     0,     0,     0,     0,\n",
            "            0,     0,     0,     0,     0,     0,     0,     0])\n",
            "tensor([1, 1, 1, 1, 1, 1, 1, 1, 1, 1, 1, 1, 1, 1, 1, 1, 1, 1, 1, 1, 1, 1, 1, 1,\n",
            "        1, 1, 1, 1, 1, 1, 1, 1, 1, 1, 1, 1, 1, 1, 1, 1, 1, 1, 1, 0, 0, 0, 0, 0,\n",
            "        0, 0, 0, 0, 0, 0, 0, 0, 0, 0, 0, 0, 0, 0, 0, 0, 0, 0, 0, 0, 0, 0, 0, 0,\n",
            "        0, 0, 0, 0, 0, 0, 0, 0, 0, 0, 0, 0, 0, 0, 0, 0, 0, 0, 0, 0, 0, 0, 0, 0,\n",
            "        0, 0, 0, 0, 0, 0, 0, 0, 0, 0, 0, 0, 0, 0, 0, 0, 0, 0, 0, 0, 0, 0, 0, 0,\n",
            "        0, 0, 0, 0, 0, 0, 0, 0])\n",
            "tensor(2)\n",
            "==================================================\n",
            "torch.Size([16, 128]) torch.Size([16, 128]) torch.Size([16])\n"
          ]
        }
      ],
      "source": [
        "print(sample_batch['review'][0])\n",
        "print(sample_batch['input_id'][0])\n",
        "print(sample_batch['attention_mask'][0])\n",
        "print(sample_batch['target'][0])\n",
        "print('='*50)\n",
        "print(sample_batch['input_id'].shape,sample_batch['attention_mask'].shape,sample_batch['target'].shape)"
      ]
    },
    {
      "cell_type": "markdown",
      "metadata": {
        "id": "n8cPWiwiaA-b"
      },
      "source": [
        "Every thing looks fine as we can see input ids and attention mask and you can check the size of sample batch = (16,128) where 16 represents batch size and 128 represents max_len. "
      ]
    },
    {
      "cell_type": "markdown",
      "metadata": {
        "id": "_22eFfbnaA-d"
      },
      "source": [
        "## Model Selection"
      ]
    },
    {
      "cell_type": "markdown",
      "metadata": {
        "id": "VZUAnrLtaA-d"
      },
      "source": [
        "The BERT model comes with two configurations or we can say two different sizes BERT-base and BERT-large and we haven't talked about which model we are going to select. Performance wise BERT-large is more accurate as it has more bert-layer(24) and embedding size = 1024 but it is very hard to fine tune as I do not have any powerful GPUs on other hand BERT-base comes with 12 bert-layer and 768 embedding size which is much more easy to train as compare to BERT-large and performance wise also BERT-base give reasonably good performance.\n",
        "\n",
        "By considering all those factors I will use BERT-base for our sentiment analysis model.\n"
      ]
    },
    {
      "cell_type": "markdown",
      "metadata": {
        "id": "4acz5FW1aA-g"
      },
      "source": [
        "## Loading BERT-base model"
      ]
    },
    {
      "cell_type": "code",
      "execution_count": null,
      "metadata": {
        "id": "UKF2PTr6aA-h",
        "outputId": "4293fa94-21b4-4953-e70d-f94ef55d3909"
      },
      "outputs": [
        {
          "name": "stdout",
          "output_type": "stream",
          "text": [
            "Last hidden layer size for input as batch torch.Size([16, 128, 768])\n",
            "Pooled output size for input as batch torch.Size([16, 768])\n"
          ]
        }
      ],
      "source": [
        "# Load BERT base model\n",
        "\n",
        "bert_model_name = 'bert-base-cased'\n",
        "bert_model = BertModel.from_pretrained(bert_model_name)\n",
        "\n",
        "\n",
        "## testing the output of bert model\n",
        "x = bert_model(sample_batch['input_id'].view(BATCH_SIZE,MAX_LEN)\n",
        "               ,sample_batch['attention_mask'].view(BATCH_SIZE,MAX_LEN))\n",
        "\n",
        "print('Last hidden layer size for input as batch',x[0].shape)\n",
        "print('Pooled output size for input as batch',x[1].shape)"
      ]
    },
    {
      "cell_type": "markdown",
      "metadata": {
        "id": "WQkZNrKgaA-j"
      },
      "source": [
        "The reader can visit my another [blog](https://niteshkumardew11.medium.com/implementing-bert-for-question-and-answer-67ccd0e8aae5) where I have described the BERT outputs in detail."
      ]
    },
    {
      "cell_type": "markdown",
      "metadata": {
        "id": "oSfdlOtQaA-k"
      },
      "source": [
        "## Model Architecture\n",
        "\n",
        "We will add one more linear layer on top of the BERT-base model which takes inputs from a pooled layer of BERT base and generates 3D output for each input. These three outputs will indicate the chance of a review to its respective sentiments where First output represents Negative and second and third output represents Neutral and positive respectively.\n",
        "\n",
        "\n"
      ]
    },
    {
      "cell_type": "code",
      "execution_count": null,
      "metadata": {
        "id": "IgmQJ-YzaA-k"
      },
      "outputs": [],
      "source": [
        "## build model \n",
        "# input to the model -->review ids and attention mask\n",
        "\n",
        "class SentimentClassifier(nn.Module):\n",
        "    def __init__(self,num_classes):\n",
        "        super(SentimentClassifier,self).__init__()\n",
        "        self.bert = BertModel.from_pretrained(bert_model_name)\n",
        "        self.dropout = nn.Dropout(p = 0.3)\n",
        "        self.linear = nn.Linear(self.bert.config.hidden_size,num_classes)\n",
        "        self.softmax = nn.Softmax(dim = 1)\n",
        "        \n",
        "    def forward(self,input_ids , attention_mask):\n",
        "        temp = self.bert(input_ids,attention_mask) # Here we have added one linear layer on top of \n",
        "        pooled_output = temp[1]                    # BERT-base with number of output = 3 \n",
        "        out = self.dropout(pooled_output)          # \n",
        "        out = self.linear(out)\n",
        "        return out"
      ]
    },
    {
      "cell_type": "markdown",
      "metadata": {
        "id": "kVdvAL7vaA-l"
      },
      "source": [
        "Above model takes a batch as input and linear layer as (size = 3) as output, to get the final output we must apply softmax at the end. Let's check with a sample batch."
      ]
    },
    {
      "cell_type": "code",
      "execution_count": null,
      "metadata": {
        "id": "Blxv6A0LaA-l",
        "outputId": "a7498985-24c3-48eb-f8f8-defe9a4b6d89"
      },
      "outputs": [
        {
          "data": {
            "text/plain": [
              "tensor([[0.2911, 0.4083, 0.3006],\n",
              "        [0.3175, 0.3613, 0.3212],\n",
              "        [0.3113, 0.4181, 0.2706],\n",
              "        [0.3120, 0.3790, 0.3090],\n",
              "        [0.2922, 0.4710, 0.2368],\n",
              "        [0.3276, 0.4859, 0.1865],\n",
              "        [0.1630, 0.4745, 0.3625],\n",
              "        [0.3412, 0.3262, 0.3326],\n",
              "        [0.2923, 0.3754, 0.3323],\n",
              "        [0.4209, 0.3261, 0.2530],\n",
              "        [0.2505, 0.3839, 0.3656],\n",
              "        [0.3679, 0.4257, 0.2064],\n",
              "        [0.1804, 0.5219, 0.2977],\n",
              "        [0.2110, 0.3943, 0.3947],\n",
              "        [0.1732, 0.3781, 0.4487],\n",
              "        [0.3708, 0.3911, 0.2381]], grad_fn=<SoftmaxBackward>)"
            ]
          },
          "execution_count": 36,
          "metadata": {},
          "output_type": "execute_result"
        }
      ],
      "source": [
        "num_classes = 3\n",
        "model = SentimentClassifier(num_classes)\n",
        "\n",
        "sample_linear_output = model(sample_batch['input_id']\n",
        "                             ,sample_batch['attention_mask'])\n",
        "\n",
        "s = nn.Softmax(dim=1)\n",
        "final_out = s(sample_linear_output)\n",
        "final_out"
      ]
    },
    {
      "cell_type": "markdown",
      "metadata": {
        "id": "H2OSbahlaA-n"
      },
      "source": [
        "Till now everything looks fine. We got output(16,3) for the sample batch where 16 is sample size and 3 is number of outputs for each input. \n",
        "\n",
        "\n",
        "The following initial steps are performed to train any deep learning model using pytorch which are\n",
        "* define loss function\n",
        "* define optimizer\n",
        "* define scheduler (it will modify learning rate after each iteration that speed-up the convergence. using it is optional but recommended)\n",
        "\n"
      ]
    },
    {
      "cell_type": "code",
      "execution_count": null,
      "metadata": {
        "id": "511hoHL9aA-n"
      },
      "outputs": [],
      "source": [
        "## loss and optimizer\n",
        "learning_rate = 1e-5\n",
        "EPOCHS = 20\n",
        "total_steps = len(train_loader) * EPOCHS\n",
        "\n",
        "criterian = torch.nn.CrossEntropyLoss()\n",
        "\n",
        "optimizer = transformers.AdamW(params = model.parameters(),lr = learning_rate, correct_bias= False)\n",
        "\n",
        "scheduler = transformers.get_linear_schedule_with_warmup(optimizer = optimizer,\n",
        "                                                        num_warmup_steps = 0,\n",
        "                                                        num_training_steps = total_steps)"
      ]
    },
    {
      "cell_type": "markdown",
      "metadata": {
        "id": "2zkVQM8AaA-o"
      },
      "source": [
        "Below function trains model (forward pass and backward pass) for one epoch and also calculate accuracy and average loss for an epoch."
      ]
    },
    {
      "cell_type": "code",
      "execution_count": null,
      "metadata": {
        "id": "hQnHI9WnaA-o"
      },
      "outputs": [],
      "source": [
        "def train_model(model, data_loader, criterian, optimizer, scheduler, BATCH_SIZE ,MAX_LEN, n_examples):\n",
        "    \n",
        "    model.train()\n",
        "    train_loss = []\n",
        "    correct_pred = 0\n",
        "    \n",
        "    for d in data_loader:\n",
        "        input_ids = d['input_id']\n",
        "        attention_masks = d['attention_mask']\n",
        "        targets = d['target']\n",
        "\n",
        "        # forward prop\n",
        "        predictions = model(input_ids , attention_masks)\n",
        "        loss = criterian(predictions, targets)\n",
        "        _,pred_classes = torch.max(predictions, dim=1)\n",
        "        #backprop\n",
        "        loss.backward()\n",
        "        nn.utils.clip_grad_norm_(model.parameters(), max_norm=1.0) # hack to avoid gradient explotion\n",
        "        optimizer.step()\n",
        "        scheduler.step()\n",
        "        optimizer.zero_grad()\n",
        "        # training loss and number of correct prediction\n",
        "        train_loss.append(loss.item())\n",
        "        correct_pred += torch.sum(pred_classes==targets)\n",
        "    return correct_pred / n_examples , np.mean(train_loss)"
      ]
    },
    {
      "cell_type": "markdown",
      "metadata": {
        "id": "QU28CoX3aA-o"
      },
      "source": [
        "This fuction evaluate model performance on evaluation data for every epoch by calculation accuracy and average loss. "
      ]
    },
    {
      "cell_type": "code",
      "execution_count": null,
      "metadata": {
        "id": "mB9-deIAaA-o"
      },
      "outputs": [],
      "source": [
        "def eval_model(model, data_loader, criterian, BATCH_SIZE ,MAX_LEN, n_examples):\n",
        "    model.eval()  # to make model in evaluastion model , Dropout will not apply \n",
        "    eval_loss = []\n",
        "    correct_pred = 0\n",
        "    \n",
        "    with torch.no_grad():  # calculation of gradient is not required on evaluation\n",
        "        for d in data_loader:\n",
        "            input_ids = d['input_id']\n",
        "            attention_masks = d['attention_mask']\n",
        "            targets = d['target']\n",
        "\n",
        "            # forward prop\n",
        "            predictions = model(input_ids , attention_masks)\n",
        "            loss = criterian(predictions, targets)\n",
        "            _,pred_classes = torch.max(predictions, dim=1)\n",
        "\n",
        "            eval_loss.append(loss.item())\n",
        "            correct_pred += torch.sum(pred_classes==targets)\n",
        "    return correct_pred / n_examples , np.mean(eval_loss)"
      ]
    },
    {
      "cell_type": "markdown",
      "metadata": {
        "id": "R4D_8nGXaA-o"
      },
      "source": [
        "In this loop we are calling functions train_model() and eval_model() and printing the accuracy and loss for both training and validation data for every epoch and also saving the model if model performance on validation data improves than previous epoch.\n",
        "\n",
        "The way I printed epochs ,loss and accuracy might feel you as you are training model in Keras framework.\n",
        "\n",
        "Training this model in my local system took a lot of time as I didn't have any GPU installed. I used google colab only for training purpose which you can find [here](https://colab.research.google.com/drive/1gIHdpaf4V6ZIxu8PsPrjE8Q9gVuzyd0u?authuser=0)"
      ]
    },
    {
      "cell_type": "code",
      "execution_count": null,
      "metadata": {
        "id": "MJ6z9nQSaA-p"
      },
      "outputs": [],
      "source": [
        "\n",
        "from collections import defaultdict\n",
        "\n",
        "history = defaultdict(list)\n",
        "best_accuracy = 0\n",
        "\n",
        "for epoch in range(EPOCHS):\n",
        "    \n",
        "    # training part \n",
        "    \n",
        "    print(f'epoch : {epoch+1}/{EPOCHS}')\n",
        "    model = SentimentClassifier(num_classes)\n",
        "    train_acc , train_loss = train_model(model,\n",
        "                                         train_loader,\n",
        "                                         criterian,\n",
        "                                         optimizer, \n",
        "                                         scheduler, \n",
        "                                         BATCH_SIZE,\n",
        "                                         MAX_LEN,\n",
        "                                         len(train_df))\n",
        "    # validation part\n",
        "    \n",
        "    val_acc , val_loss = eval_model(model, \n",
        "                                    val_loader,\n",
        "                                    criterian,\n",
        "                                    BATCH_SIZE,\n",
        "                                    MAX_LEN, len(val_df))\n",
        "    \n",
        "    # saving training logs\n",
        "    \n",
        "    history['train_acc'].append(train_acc)\n",
        "    history['train_loss'].append(train_loss)\n",
        "    history['val_acc'].append(val_acc)\n",
        "    history['val_loss'].append(val_loss)\n",
        "    \n",
        "    print(f'train_loss: {train_loss}, train_acc: {train_acc} ,val_loss: {val_loss}, val_acc: {val_acc}')\n",
        "    \n",
        "    # saving model if performance improved \n",
        "    \n",
        "    if val_acc > best_accuracy:\n",
        "        best_model_name = f'best_model_state_{val_acc}.bin'\n",
        "        torch.save(model.state_dict(), best_model_name)\n",
        "        best_accuracy = val_acc\n"
      ]
    },
    {
      "cell_type": "markdown",
      "metadata": {
        "id": "leL_xce_aA-p"
      },
      "source": [
        "< add image from colab of training logs>"
      ]
    },
    {
      "cell_type": "markdown",
      "metadata": {
        "id": "GKtWuRlAaA-p"
      },
      "source": [
        "Loading model fine tuned on google colab"
      ]
    },
    {
      "cell_type": "code",
      "execution_count": null,
      "metadata": {
        "id": "v7LRl5TvaA-p",
        "outputId": "2ed85601-01c3-4a26-fa32-9c8d9f760290"
      },
      "outputs": [
        {
          "data": {
            "text/plain": [
              "<All keys matched successfully>"
            ]
          },
          "execution_count": 38,
          "metadata": {},
          "output_type": "execute_result"
        }
      ],
      "source": [
        "## model has been trained on google colab\n",
        "num_classes = 3\n",
        "model = SentimentClassifier(num_classes)\n",
        "model.load_state_dict(torch.load('models/best_model_state.bin',map_location=torch.device('cpu')))"
      ]
    },
    {
      "cell_type": "markdown",
      "metadata": {
        "id": "C2zJeKEDaA-p"
      },
      "source": [
        "## Evaluation Fianl model on Test data"
      ]
    },
    {
      "cell_type": "code",
      "execution_count": null,
      "metadata": {
        "id": "6cwE7IUVaA-q"
      },
      "outputs": [],
      "source": [
        "def get_predictions(model, data_loader):\n",
        "    model = model.eval()\n",
        "\n",
        "    review_texts = []\n",
        "    predictions = []\n",
        "    prediction_probs = []\n",
        "    real_values = []\n",
        "\n",
        "    with torch.no_grad():\n",
        "        for d in tqdm(data_loader):\n",
        "\n",
        "            texts = d[\"review\"]\n",
        "            input_ids = d[\"input_id\"]\n",
        "            attention_mask = d[\"attention_mask\"]\n",
        "            targets = d[\"target\"]\n",
        "\n",
        "            outputs = model(input_ids=input_ids,\n",
        "                            attention_mask=attention_mask)\n",
        "            \n",
        "            _, preds = torch.max(outputs, dim=1)\n",
        "\n",
        "            probs = F.softmax(outputs, dim=1)\n",
        "\n",
        "            review_texts.extend(texts)\n",
        "            predictions.extend(preds)\n",
        "            prediction_probs.extend(probs)\n",
        "            real_values.extend(targets)\n",
        "\n",
        "    predictions = torch.stack(predictions).cpu()\n",
        "    prediction_probs = torch.stack(prediction_probs).cpu()\n",
        "    real_values = torch.stack(real_values).cpu()\n",
        "    return review_texts, predictions, prediction_probs, real_values"
      ]
    },
    {
      "cell_type": "code",
      "execution_count": null,
      "metadata": {
        "scrolled": false,
        "id": "ozklKwJsaA-r",
        "outputId": "d2defe6f-48cb-457f-a213-acf54c7c6881"
      },
      "outputs": [
        {
          "name": "stderr",
          "output_type": "stream",
          "text": [
            "100%|██████████| 103/103 [08:11<00:00,  4.77s/it]\n"
          ]
        }
      ],
      "source": [
        "from tqdm import tqdm\n",
        "import torch.nn.functional as F\n",
        "y_review_texts, y_pred, y_pred_probs, y_test = get_predictions(model,test_loader)"
      ]
    },
    {
      "cell_type": "code",
      "execution_count": null,
      "metadata": {
        "id": "VX6TMDr4aA-t",
        "outputId": "669e93f5-daea-4870-9280-2dc8cc4079cb"
      },
      "outputs": [
        {
          "name": "stdout",
          "output_type": "stream",
          "text": [
            "              precision    recall  f1-score   support\n",
            "\n",
            "    negative       0.96      0.94      0.95       567\n",
            "     neutral       0.89      0.90      0.90       498\n",
            "    positive       0.94      0.94      0.94       581\n",
            "\n",
            "    accuracy                           0.93      1646\n",
            "   macro avg       0.93      0.93      0.93      1646\n",
            "weighted avg       0.93      0.93      0.93      1646\n",
            "\n"
          ]
        }
      ],
      "source": [
        "from sklearn.metrics import classification_report\n",
        "\n",
        "class_names = ['negative', 'neutral', 'positive']\n",
        "print(classification_report(y_test, y_pred, target_names=class_names))"
      ]
    },
    {
      "cell_type": "code",
      "execution_count": null,
      "metadata": {
        "id": "niEbQHbsaA-u",
        "outputId": "36597735-e412-4044-e133-e86cce40dc55"
      },
      "outputs": [
        {
          "data": {
            "image/png": "[encoded data removed]",
            "text/plain": [
              "<Figure size 432x288 with 2 Axes>"
            ]
          },
          "metadata": {
            "image/png": {
              "height": 293,
              "width": 417
            }
          },
          "output_type": "display_data"
        }
      ],
      "source": [
        "import pandas as pd\n",
        "from sklearn.metrics import confusion_matrix\n",
        "def show_confusion_matrix(confusion_matrix):\n",
        "    hmap = sns.heatmap(confusion_matrix, annot=True, fmt=\"d\", cmap=\"Blues\")\n",
        "    hmap.yaxis.set_ticklabels(hmap.yaxis.get_ticklabels(), rotation=0, ha='right')\n",
        "    hmap.xaxis.set_ticklabels(hmap.xaxis.get_ticklabels(), rotation=30, ha='right')\n",
        "    plt.ylabel('True sentiment')\n",
        "    plt.xlabel('Predicted sentiment');\n",
        "\n",
        "cm = confusion_matrix(y_test, y_pred)\n",
        "df_cm = pd.DataFrame(cm, index=class_names, columns=class_names)\n",
        "show_confusion_matrix(df_cm)"
      ]
    },
    {
      "cell_type": "markdown",
      "metadata": {
        "id": "KQdeWfKAaA-u"
      },
      "source": [
        "### Testing model performance on unseen  data"
      ]
    },
    {
      "cell_type": "code",
      "execution_count": null,
      "metadata": {
        "id": "MJgQM7j2aA-v"
      },
      "outputs": [],
      "source": [
        "### Predicting on Raw text data\n",
        "\n",
        "def get_sentiment(sample_review):\n",
        "    # get input ids and attention mask\n",
        "    encode_sample_review = tokenizer.encode_plus(\n",
        "                              sample_review,\n",
        "                              add_special_tokens=True,\n",
        "                              max_length=128,\n",
        "                              truncation=True,\n",
        "                              return_token_type_ids=False,\n",
        "                              pad_to_max_length=True,\n",
        "                              return_attention_mask=True,\n",
        "                              return_tensors='pt')\n",
        "\n",
        "    input_ids = encode_sample_review['input_ids']\n",
        "    attention_mask = encode_sample_review['attention_mask']\n",
        "    # predict output\n",
        "    output = model(input_ids, attention_mask)\n",
        "    _, prediction = torch.max(output, dim=1)\n",
        "    # output as probabilities\n",
        "    pred_probs = F.softmax(output,dim=1).detach().numpy().reshape(3)\n",
        "    \n",
        "    class_names = ['negative', 'neutral', 'positive']\n",
        "    data = {'class_names':class_names, \n",
        "            'value':pred_probs} \n",
        "\n",
        "    # Create DataFrame \n",
        "    df = pd.DataFrame(data)\n",
        "    # plot bars for probability of each sentiment\n",
        "    sns.barplot(x='value', y='class_names', data=df, orient='h')\n",
        "    plt.ylabel('sentiment')\n",
        "    plt.xlabel('probability')\n",
        "    plt.xlim([0, 1]);\n",
        "    print(f'Review text: {sample_review}')\n",
        "    print('=*'*50)\n",
        "\n",
        "    print(f'negative % : {pred_probs[0]:.4f}, neutral % : {pred_probs[1]:.4f}, positive % : {pred_probs[2]:.4f}')\n",
        "\n",
        "    print(f'Sentiment  : {class_names[prediction]}')\n",
        "\n"
      ]
    },
    {
      "cell_type": "code",
      "execution_count": null,
      "metadata": {
        "id": "e0fVWHNmaA-v",
        "outputId": "7163c407-b37f-4790-dd57-5c2917fc7664"
      },
      "outputs": [
        {
          "name": "stdout",
          "output_type": "stream",
          "text": [
            "Review text: I would have gave it 5 stars, but it was kind of weird, because when I tried to exit the game, it kept pulling me back inside of it, but I did not want that to happen, so I went to app store, I had to reset my phone, but it's still worth. I had to go to app store and I have to give me a one song because. Filled star wrong.anyway, I spelled that wrong too even star. I gave it one star because it was kind of creepy. He was following my finger, I got really scared, so I had to exit the game and gav\n",
            "=*=*=*=*=*=*=*=*=*=*=*=*=*=*=*=*=*=*=*=*=*=*=*=*=*=*=*=*=*=*=*=*=*=*=*=*=*=*=*=*=*=*=*=*=*=*=*=*=*=*\n",
            "negative % : 0.0001, neutral % : 0.9988, positive % : 0.0010\n",
            "Sentiment  : neutral\n"
          ]
        },
        {
          "data": {
            "image/png": "[encoded data removed]",
            "text/plain": [
              "<Figure size 432x288 with 1 Axes>"
            ]
          },
          "metadata": {
            "image/png": {
              "height": 270,
              "width": 434
            }
          },
          "output_type": "display_data"
        }
      ],
      "source": [
        "sample_review = \"I would have gave it 5 stars, but it was kind of weird, because when I tried to exit the game, it kept pulling me back inside of it, but I did not want that to happen, so I went to app store, I had to reset my phone, but it's still worth. I had to go to app store and I have to give me a one song because. Filled star wrong.anyway, I spelled that wrong too even star. I gave it one star because it was kind of creepy. He was following my finger, I got really scared, so I had to exit the game and gav\"\n",
        "\n",
        "get_sentiment(sample_review)"
      ]
    }
  ],
  "metadata": {
    "kernelspec": {
      "display_name": "Python 3",
      "language": "python",
      "name": "python3"
    },
    "language_info": {
      "codemirror_mode": {
        "name": "ipython",
        "version": 3
      },
      "file_extension": ".py",
      "mimetype": "text/x-python",
      "name": "python",
      "nbconvert_exporter": "python",
      "pygments_lexer": "ipython3",
      "version": "3.8.3"
    },
    "colab": {
      "provenance": []
    }
  },
  "nbformat": 4,
  "nbformat_minor": 0
}