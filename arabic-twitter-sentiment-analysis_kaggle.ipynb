{
 "cells": [
  {
   "cell_type": "markdown",
   "id": "d85f58c0",
   "metadata": {
    "id": "sknaEID8BGWd",
    "papermill": {
     "duration": 0.012146,
     "end_time": "2022-09-20T07:08:17.849033",
     "exception": false,
     "start_time": "2022-09-20T07:08:17.836887",
     "status": "completed"
    },
    "tags": []
   },
   "source": [
    "# Check the availbility of GPU"
   ]
  },
  {
   "cell_type": "code",
   "execution_count": 1,
   "id": "5015e20a",
   "metadata": {
    "execution": {
     "iopub.execute_input": "2022-09-20T07:08:17.872925Z",
     "iopub.status.busy": "2022-09-20T07:08:17.872095Z",
     "iopub.status.idle": "2022-09-20T07:08:24.383773Z",
     "shell.execute_reply": "2022-09-20T07:08:24.381941Z"
    },
    "id": "JoULgUdDj4SA",
    "outputId": "f6b64868-96d0-40a1-a02b-8801b08de5bd",
    "papermill": {
     "duration": 6.526454,
     "end_time": "2022-09-20T07:08:24.386199",
     "exception": false,
     "start_time": "2022-09-20T07:08:17.859745",
     "status": "completed"
    },
    "pycharm": {
     "name": "#%%\n"
    },
    "tags": []
   },
   "outputs": [
    {
     "name": "stderr",
     "output_type": "stream",
     "text": [
      "2022-09-20 07:08:22.657395: I tensorflow/stream_executor/cuda/cuda_gpu_executor.cc:937] successful NUMA node read from SysFS had negative value (-1), but there must be at least one NUMA node, so returning NUMA node zero\n",
      "2022-09-20 07:08:22.754690: I tensorflow/stream_executor/cuda/cuda_gpu_executor.cc:937] successful NUMA node read from SysFS had negative value (-1), but there must be at least one NUMA node, so returning NUMA node zero\n",
      "2022-09-20 07:08:22.755557: I tensorflow/stream_executor/cuda/cuda_gpu_executor.cc:937] successful NUMA node read from SysFS had negative value (-1), but there must be at least one NUMA node, so returning NUMA node zero\n"
     ]
    },
    {
     "name": "stdout",
     "output_type": "stream",
     "text": [
      "1\n",
      "True\n"
     ]
    }
   ],
   "source": [
    "import tensorflow as tf\n",
    "print(len(tf.config.list_physical_devices('GPU')))\n",
    "import torch\n",
    "print(torch.cuda.is_available())"
   ]
  },
  {
   "cell_type": "markdown",
   "id": "ab18abe3",
   "metadata": {
    "papermill": {
     "duration": 0.010264,
     "end_time": "2022-09-20T07:08:24.407031",
     "exception": false,
     "start_time": "2022-09-20T07:08:24.396767",
     "status": "completed"
    },
    "tags": []
   },
   "source": [
    "## Install gdown library"
   ]
  },
  {
   "cell_type": "code",
   "execution_count": 2,
   "id": "292a2a2a",
   "metadata": {
    "execution": {
     "iopub.execute_input": "2022-09-20T07:08:24.430080Z",
     "iopub.status.busy": "2022-09-20T07:08:24.429183Z",
     "iopub.status.idle": "2022-09-20T07:08:50.161669Z",
     "shell.execute_reply": "2022-09-20T07:08:50.160521Z"
    },
    "papermill": {
     "duration": 25.747497,
     "end_time": "2022-09-20T07:08:50.164718",
     "exception": false,
     "start_time": "2022-09-20T07:08:24.417221",
     "status": "completed"
    },
    "tags": []
   },
   "outputs": [
    {
     "name": "stdout",
     "output_type": "stream",
     "text": [
      "Collecting gdown\r\n",
      "  Downloading gdown-4.5.1.tar.gz (14 kB)\r\n",
      "  Installing build dependencies ... \u001b[?25l-\b \b\\\b \b|\b \b/\b \b-\b \b\\\b \bdone\r\n",
      "\u001b[?25h  Getting requirements to build wheel ... \u001b[?25l-\b \bdone\r\n",
      "\u001b[?25h  Preparing metadata (pyproject.toml) ... \u001b[?25l-\b \bdone\r\n",
      "\u001b[?25hRequirement already satisfied: beautifulsoup4 in /opt/conda/lib/python3.7/site-packages (from gdown) (4.11.1)\r\n",
      "Requirement already satisfied: tqdm in /opt/conda/lib/python3.7/site-packages (from gdown) (4.64.0)\r\n",
      "Requirement already satisfied: requests[socks] in /opt/conda/lib/python3.7/site-packages (from gdown) (2.27.1)\r\n",
      "Requirement already satisfied: six in /opt/conda/lib/python3.7/site-packages (from gdown) (1.16.0)\r\n",
      "Requirement already satisfied: filelock in /opt/conda/lib/python3.7/site-packages (from gdown) (3.6.0)\r\n",
      "Requirement already satisfied: soupsieve>1.2 in /opt/conda/lib/python3.7/site-packages (from beautifulsoup4->gdown) (2.3.1)\r\n",
      "Requirement already satisfied: certifi>=2017.4.17 in /opt/conda/lib/python3.7/site-packages (from requests[socks]->gdown) (2022.6.15)\r\n",
      "Requirement already satisfied: idna<4,>=2.5 in /opt/conda/lib/python3.7/site-packages (from requests[socks]->gdown) (3.3)\r\n",
      "Requirement already satisfied: urllib3<1.27,>=1.21.1 in /opt/conda/lib/python3.7/site-packages (from requests[socks]->gdown) (1.26.9)\r\n",
      "Requirement already satisfied: charset-normalizer~=2.0.0 in /opt/conda/lib/python3.7/site-packages (from requests[socks]->gdown) (2.0.12)\r\n",
      "Requirement already satisfied: PySocks!=1.5.7,>=1.5.6 in /opt/conda/lib/python3.7/site-packages (from requests[socks]->gdown) (1.7.1)\r\n",
      "Building wheels for collected packages: gdown\r\n",
      "  Building wheel for gdown (pyproject.toml) ... \u001b[?25l-\b \bdone\r\n",
      "\u001b[?25h  Created wheel for gdown: filename=gdown-4.5.1-py3-none-any.whl size=14933 sha256=a833a5a8eb8baa26fde3406f9cc7f615f7609a1ba6cf25c30be1018dcdf0a519\r\n",
      "  Stored in directory: /root/.cache/pip/wheels/3d/ec/b0/a96d1d126183f98570a785e6bf8789fca559853a9260e928e1\r\n",
      "Successfully built gdown\r\n",
      "Installing collected packages: gdown\r\n",
      "Successfully installed gdown-4.5.1\r\n",
      "\u001b[33mWARNING: Running pip as the 'root' user can result in broken permissions and conflicting behaviour with the system package manager. It is recommended to use a virtual environment instead: https://pip.pypa.io/warnings/venv\u001b[0m\u001b[33m\r\n",
      "\u001b[0m"
     ]
    }
   ],
   "source": [
    "!pip install gdown"
   ]
  },
  {
   "cell_type": "markdown",
   "id": "cf64af5c",
   "metadata": {
    "id": "eLlcFzgHlhFW",
    "papermill": {
     "duration": 0.011562,
     "end_time": "2022-09-20T07:08:50.187990",
     "exception": false,
     "start_time": "2022-09-20T07:08:50.176428",
     "status": "completed"
    },
    "tags": []
   },
   "source": [
    "# Download datasets"
   ]
  },
  {
   "cell_type": "code",
   "execution_count": 3,
   "id": "0aad0e00",
   "metadata": {
    "execution": {
     "iopub.execute_input": "2022-09-20T07:08:50.212655Z",
     "iopub.status.busy": "2022-09-20T07:08:50.212326Z",
     "iopub.status.idle": "2022-09-20T07:09:01.699089Z",
     "shell.execute_reply": "2022-09-20T07:09:01.697848Z"
    },
    "id": "6ID2bvGilgSU",
    "outputId": "608c0304-b030-4db5-80e8-902cb3087b8b",
    "papermill": {
     "duration": 11.502152,
     "end_time": "2022-09-20T07:09:01.701672",
     "exception": false,
     "start_time": "2022-09-20T07:08:50.199520",
     "status": "completed"
    },
    "tags": []
   },
   "outputs": [
    {
     "name": "stdout",
     "output_type": "stream",
     "text": [
      "/opt/conda/lib/python3.7/site-packages/gdown/cli.py:131: FutureWarning: Option `--id` was deprecated in version 4.3.1 and will be removed in 5.0. You don't need to pass it anymore to use a file ID.\r\n",
      "  category=FutureWarning,\r\n",
      "Downloading...\r\n",
      "From: https://drive.google.com/uc?id=1SRB7w6x_6oVUOzJihlYA5T2VR8u0UJyd\r\n",
      "To: /kaggle/working/Twitter_train.csv\r\n",
      "100%|████████████████████████████████████████| 261k/261k [00:00<00:00, 83.9MB/s]\r\n",
      "/opt/conda/lib/python3.7/site-packages/gdown/cli.py:131: FutureWarning: Option `--id` was deprecated in version 4.3.1 and will be removed in 5.0. You don't need to pass it anymore to use a file ID.\r\n",
      "  category=FutureWarning,\r\n",
      "Downloading...\r\n",
      "From: https://drive.google.com/uc?id=1zs91kg3MO6FNkmtHFo1bqOF2Iy1F1b4y\r\n",
      "To: /kaggle/working/Twitter_test.csv\r\n",
      "100%|██████████████████████████████████████| 84.4k/84.4k [00:00<00:00, 53.5MB/s]\r\n",
      "/opt/conda/lib/python3.7/site-packages/gdown/cli.py:131: FutureWarning: Option `--id` was deprecated in version 4.3.1 and will be removed in 5.0. You don't need to pass it anymore to use a file ID.\r\n",
      "  category=FutureWarning,\r\n",
      "Downloading...\r\n",
      "From: https://drive.google.com/uc?id=165kzfZDsRTZAAfZKedeZiUlKzMcHNgPd\r\n",
      "To: /kaggle/working/Arabic_stop_words.txt\r\n",
      "100%|██████████████████████████████████████| 6.48k/6.48k [00:00<00:00, 9.24MB/s]\r\n"
     ]
    }
   ],
   "source": [
    "!gdown --id 1SRB7w6x_6oVUOzJihlYA5T2VR8u0UJyd\n",
    "!gdown --id 1zs91kg3MO6FNkmtHFo1bqOF2Iy1F1b4y\n",
    "!gdown --id 165kzfZDsRTZAAfZKedeZiUlKzMcHNgPd"
   ]
  },
  {
   "cell_type": "code",
   "execution_count": 4,
   "id": "6713f4c7",
   "metadata": {
    "execution": {
     "iopub.execute_input": "2022-09-20T07:09:01.727348Z",
     "iopub.status.busy": "2022-09-20T07:09:01.727019Z",
     "iopub.status.idle": "2022-09-20T07:09:11.242447Z",
     "shell.execute_reply": "2022-09-20T07:09:11.241073Z"
    },
    "id": "L77LFKMYkJZg",
    "outputId": "fd410e8f-7233-412f-83ea-82c19f76e8a4",
    "papermill": {
     "duration": 9.531679,
     "end_time": "2022-09-20T07:09:11.245390",
     "exception": false,
     "start_time": "2022-09-20T07:09:01.713711",
     "status": "completed"
    },
    "tags": []
   },
   "outputs": [
    {
     "name": "stdout",
     "output_type": "stream",
     "text": [
      "Requirement already satisfied: pyarabic in /opt/conda/lib/python3.7/site-packages (0.6.14)\r\n",
      "Requirement already satisfied: six>=1.14.0 in /opt/conda/lib/python3.7/site-packages (from pyarabic) (1.16.0)\r\n",
      "\u001b[33mWARNING: Running pip as the 'root' user can result in broken permissions and conflicting behaviour with the system package manager. It is recommended to use a virtual environment instead: https://pip.pypa.io/warnings/venv\u001b[0m\u001b[33m\r\n",
      "\u001b[0m"
     ]
    }
   ],
   "source": [
    "!pip install pyarabic"
   ]
  },
  {
   "cell_type": "code",
   "execution_count": 5,
   "id": "61a0edfe",
   "metadata": {
    "execution": {
     "iopub.execute_input": "2022-09-20T07:09:11.272489Z",
     "iopub.status.busy": "2022-09-20T07:09:11.272130Z",
     "iopub.status.idle": "2022-09-20T07:09:11.289818Z",
     "shell.execute_reply": "2022-09-20T07:09:11.288845Z"
    },
    "id": "xDZ08i40j4SH",
    "papermill": {
     "duration": 0.033672,
     "end_time": "2022-09-20T07:09:11.291914",
     "exception": false,
     "start_time": "2022-09-20T07:09:11.258242",
     "status": "completed"
    },
    "pycharm": {
     "name": "#%%\n"
    },
    "tags": []
   },
   "outputs": [],
   "source": [
    "import pyarabic.araby as ar\n",
    "\n",
    "# import Stemmer\n",
    "import functools, operator\n",
    "\n",
    "import logging\n",
    "\n",
    "logging.basicConfig(level=logging.WARNING)\n",
    "logger = logging.getLogger(__name__)"
   ]
  },
  {
   "cell_type": "markdown",
   "id": "a4a9b0db",
   "metadata": {
    "id": "Y-BpP8TZugwK",
    "papermill": {
     "duration": 0.012034,
     "end_time": "2022-09-20T07:09:11.316019",
     "exception": false,
     "start_time": "2022-09-20T07:09:11.303985",
     "status": "completed"
    },
    "pycharm": {
     "name": "#%% md\n"
    },
    "tags": []
   },
   "source": [
    "## Load Dataset"
   ]
  },
  {
   "cell_type": "code",
   "execution_count": 6,
   "id": "4849584c",
   "metadata": {
    "execution": {
     "iopub.execute_input": "2022-09-20T07:09:11.342200Z",
     "iopub.status.busy": "2022-09-20T07:09:11.341314Z",
     "iopub.status.idle": "2022-09-20T07:09:11.362800Z",
     "shell.execute_reply": "2022-09-20T07:09:11.361880Z"
    },
    "id": "b90o2vElugwT",
    "papermill": {
     "duration": 0.037104,
     "end_time": "2022-09-20T07:09:11.365138",
     "exception": false,
     "start_time": "2022-09-20T07:09:11.328034",
     "status": "completed"
    },
    "pycharm": {
     "name": "#%%\n"
    },
    "tags": []
   },
   "outputs": [],
   "source": [
    "import pandas as pd\n",
    "df = pd.read_csv(\"./Twitter_train.csv\")\n",
    "seed=42"
   ]
  },
  {
   "cell_type": "code",
   "execution_count": 7,
   "id": "89af87b6",
   "metadata": {
    "execution": {
     "iopub.execute_input": "2022-09-20T07:09:11.391326Z",
     "iopub.status.busy": "2022-09-20T07:09:11.390587Z",
     "iopub.status.idle": "2022-09-20T07:09:11.410696Z",
     "shell.execute_reply": "2022-09-20T07:09:11.409804Z"
    },
    "papermill": {
     "duration": 0.035386,
     "end_time": "2022-09-20T07:09:11.412785",
     "exception": false,
     "start_time": "2022-09-20T07:09:11.377399",
     "status": "completed"
    },
    "tags": []
   },
   "outputs": [
    {
     "data": {
      "text/html": [
       "<div>\n",
       "<style scoped>\n",
       "    .dataframe tbody tr th:only-of-type {\n",
       "        vertical-align: middle;\n",
       "    }\n",
       "\n",
       "    .dataframe tbody tr th {\n",
       "        vertical-align: top;\n",
       "    }\n",
       "\n",
       "    .dataframe thead th {\n",
       "        text-align: right;\n",
       "    }\n",
       "</style>\n",
       "<table border=\"1\" class=\"dataframe\">\n",
       "  <thead>\n",
       "    <tr style=\"text-align: right;\">\n",
       "      <th></th>\n",
       "      <th>tweet</th>\n",
       "      <th>class</th>\n",
       "    </tr>\n",
       "  </thead>\n",
       "  <tbody>\n",
       "    <tr>\n",
       "      <th>1871</th>\n",
       "      <td>' \"\"\"ولا كل غايب عن عِنيّا هقول بعيدوفي ناس نا...</td>\n",
       "      <td>neu</td>\n",
       "    </tr>\n",
       "    <tr>\n",
       "      <th>552</th>\n",
       "      <td>' \"\"\"\\\"\"@fahad60801: اللهم رب جبرائيل، وميكائي...</td>\n",
       "      <td>pos</td>\n",
       "    </tr>\n",
       "    <tr>\n",
       "      <th>448</th>\n",
       "      <td>' @I__Divo @Pinar_Gika17 طب ايه السبب في انهم ...</td>\n",
       "      <td>neg</td>\n",
       "    </tr>\n",
       "    <tr>\n",
       "      <th>194</th>\n",
       "      <td>' لو فعلا عايز تبدأ صفحة جديدة ف حياتك لازم تب...</td>\n",
       "      <td>neu</td>\n",
       "    </tr>\n",
       "    <tr>\n",
       "      <th>1248</th>\n",
       "      <td>' \"\"\"@ahmad_nady انا قلقت من نص ساعة كدة مبحلق...</td>\n",
       "      <td>neg</td>\n",
       "    </tr>\n",
       "  </tbody>\n",
       "</table>\n",
       "</div>"
      ],
      "text/plain": [
       "                                                  tweet class\n",
       "1871  ' \"\"\"ولا كل غايب عن عِنيّا هقول بعيدوفي ناس نا...   neu\n",
       "552   ' \"\"\"\\\"\"@fahad60801: اللهم رب جبرائيل، وميكائي...   pos\n",
       "448   ' @I__Divo @Pinar_Gika17 طب ايه السبب في انهم ...   neg\n",
       "194   ' لو فعلا عايز تبدأ صفحة جديدة ف حياتك لازم تب...   neu\n",
       "1248  ' \"\"\"@ahmad_nady انا قلقت من نص ساعة كدة مبحلق...   neg"
      ]
     },
     "execution_count": 7,
     "metadata": {},
     "output_type": "execute_result"
    }
   ],
   "source": [
    "df.sample(5)"
   ]
  },
  {
   "cell_type": "markdown",
   "id": "1fa10371",
   "metadata": {
    "id": "Zr_8LPo0ugwX",
    "papermill": {
     "duration": 0.012051,
     "end_time": "2022-09-20T07:09:11.437214",
     "exception": false,
     "start_time": "2022-09-20T07:09:11.425163",
     "status": "completed"
    },
    "pycharm": {
     "name": "#%% md\n"
    },
    "tags": []
   },
   "source": [
    "## Arabic stop words"
   ]
  },
  {
   "cell_type": "code",
   "execution_count": 8,
   "id": "feeda2b1",
   "metadata": {
    "execution": {
     "iopub.execute_input": "2022-09-20T07:09:11.463550Z",
     "iopub.status.busy": "2022-09-20T07:09:11.462626Z",
     "iopub.status.idle": "2022-09-20T07:09:11.468986Z",
     "shell.execute_reply": "2022-09-20T07:09:11.468164Z"
    },
    "id": "lJ0o2qs7ugwZ",
    "papermill": {
     "duration": 0.021707,
     "end_time": "2022-09-20T07:09:11.470992",
     "exception": false,
     "start_time": "2022-09-20T07:09:11.449285",
     "status": "completed"
    },
    "pycharm": {
     "name": "#%%\n"
    },
    "tags": []
   },
   "outputs": [],
   "source": [
    "arabic_stop_words=[]\n",
    "with open ('./Arabic_stop_words.txt',encoding='utf-8') as f :\n",
    "    for i in f.readlines() :\n",
    "        arabic_stop_words.append(i)\n",
    "        arabic_stop_words[-1]=arabic_stop_words[-1][:-1]\n"
   ]
  },
  {
   "cell_type": "code",
   "execution_count": 9,
   "id": "757292d8",
   "metadata": {
    "execution": {
     "iopub.execute_input": "2022-09-20T07:09:11.497500Z",
     "iopub.status.busy": "2022-09-20T07:09:11.496581Z",
     "iopub.status.idle": "2022-09-20T07:09:21.807883Z",
     "shell.execute_reply": "2022-09-20T07:09:21.806735Z"
    },
    "id": "ETdZlcCHj4SM",
    "outputId": "daac8d2c-3063-4909-e738-cc660bf6a67b",
    "papermill": {
     "duration": 10.32704,
     "end_time": "2022-09-20T07:09:21.810343",
     "exception": false,
     "start_time": "2022-09-20T07:09:11.483303",
     "status": "completed"
    },
    "pycharm": {
     "name": "#%%\n"
    },
    "tags": []
   },
   "outputs": [
    {
     "name": "stdout",
     "output_type": "stream",
     "text": [
      "Collecting farasapy\r\n",
      "  Downloading farasapy-0.0.14-py3-none-any.whl (11 kB)\r\n",
      "Requirement already satisfied: requests in /opt/conda/lib/python3.7/site-packages (from farasapy) (2.27.1)\r\n",
      "Requirement already satisfied: tqdm in /opt/conda/lib/python3.7/site-packages (from farasapy) (4.64.0)\r\n",
      "Requirement already satisfied: urllib3<1.27,>=1.21.1 in /opt/conda/lib/python3.7/site-packages (from requests->farasapy) (1.26.9)\r\n",
      "Requirement already satisfied: charset-normalizer~=2.0.0 in /opt/conda/lib/python3.7/site-packages (from requests->farasapy) (2.0.12)\r\n",
      "Requirement already satisfied: certifi>=2017.4.17 in /opt/conda/lib/python3.7/site-packages (from requests->farasapy) (2022.6.15)\r\n",
      "Requirement already satisfied: idna<4,>=2.5 in /opt/conda/lib/python3.7/site-packages (from requests->farasapy) (3.3)\r\n",
      "Installing collected packages: farasapy\r\n",
      "Successfully installed farasapy-0.0.14\r\n",
      "\u001b[33mWARNING: Running pip as the 'root' user can result in broken permissions and conflicting behaviour with the system package manager. It is recommended to use a virtual environment instead: https://pip.pypa.io/warnings/venv\u001b[0m\u001b[33m\r\n",
      "\u001b[0m"
     ]
    }
   ],
   "source": [
    "!pip install farasapy"
   ]
  },
  {
   "cell_type": "code",
   "execution_count": 10,
   "id": "33e511b6",
   "metadata": {
    "execution": {
     "iopub.execute_input": "2022-09-20T07:09:21.837266Z",
     "iopub.status.busy": "2022-09-20T07:09:21.836246Z",
     "iopub.status.idle": "2022-09-20T07:09:21.846595Z",
     "shell.execute_reply": "2022-09-20T07:09:21.845754Z"
    },
    "id": "O7VPzTXYugwo",
    "papermill": {
     "duration": 0.025991,
     "end_time": "2022-09-20T07:09:21.848597",
     "exception": false,
     "start_time": "2022-09-20T07:09:21.822606",
     "status": "completed"
    },
    "pycharm": {
     "name": "#%%\n"
    },
    "tags": []
   },
   "outputs": [],
   "source": [
    "import numpy as np\n",
    "import pandas as pd\n",
    "import re\n",
    "\n",
    "#============= Read CSV and apply data preperation =============#\n",
    "\n",
    "\n",
    "def data_preprocessing (data_frame):\n",
    "    # clean-up: remove #tags, http links and special symbols\n",
    "    data_frame['tweet']= data_frame['tweet'].apply(lambda x: x[2:-2])\n",
    "    data_frame['tweet']= data_frame['tweet'].apply(lambda x: re.sub(r'http\\S+', '', x))\n",
    "    data_frame['tweet'] = data_frame['tweet'].apply(lambda x: re.sub(r'[@|#]\\S*', '', x))\n",
    "    data_frame['tweet'] = data_frame['tweet'].apply(lambda x: re.sub(r'\"+', '', x))\n",
    "\n",
    "    # Remove arabic signs\n",
    "    data_frame['tweet'] = data_frame['tweet'].apply(lambda x: re.sub(r'([@A-Za-z0-9_ـــــــــــــ]+)|[^\\w\\s]|#|http\\S+', '', x))\n",
    "\n",
    "    # Remove repeated letters like \"الللللللللللللللله\" to \"الله\"\n",
    "    data_frame['tweet'] = data_frame['tweet'].apply(lambda x: x[0:2] + ''.join([x[i] for i in range(2, len(x)) if x[i]!=x[i-1] or x[i]!=x[i-2]]))\n",
    "\n",
    "    # remove stop words\n",
    "    data_frame['tweet'] = data_frame['tweet'].apply(lambda x: '' if x in arabic_stop_words else x)\n",
    "\n",
    "    from nltk.stem.isri import ISRIStemmer\n",
    "    df['tweet']=df['tweet'].apply(lambda x:ISRIStemmer().stem(x))\n",
    "\n",
    "    return data_frame\n"
   ]
  },
  {
   "cell_type": "code",
   "execution_count": 11,
   "id": "5ce925d8",
   "metadata": {
    "execution": {
     "iopub.execute_input": "2022-09-20T07:09:21.874576Z",
     "iopub.status.busy": "2022-09-20T07:09:21.873669Z",
     "iopub.status.idle": "2022-09-20T07:09:30.817620Z",
     "shell.execute_reply": "2022-09-20T07:09:30.816436Z"
    },
    "id": "zOe29KXMmh1B",
    "outputId": "394b9a69-af09-4817-90d3-d885b253ada8",
    "papermill": {
     "duration": 8.959568,
     "end_time": "2022-09-20T07:09:30.820172",
     "exception": false,
     "start_time": "2022-09-20T07:09:21.860604",
     "status": "completed"
    },
    "tags": []
   },
   "outputs": [
    {
     "name": "stdout",
     "output_type": "stream",
     "text": [
      "Requirement already satisfied: emoji in /opt/conda/lib/python3.7/site-packages (1.7.0)\r\n",
      "\u001b[33mWARNING: Running pip as the 'root' user can result in broken permissions and conflicting behaviour with the system package manager. It is recommended to use a virtual environment instead: https://pip.pypa.io/warnings/venv\u001b[0m\u001b[33m\r\n",
      "\u001b[0m"
     ]
    }
   ],
   "source": [
    "!pip install emoji"
   ]
  },
  {
   "cell_type": "code",
   "execution_count": 12,
   "id": "94005466",
   "metadata": {
    "execution": {
     "iopub.execute_input": "2022-09-20T07:09:30.846673Z",
     "iopub.status.busy": "2022-09-20T07:09:30.846320Z",
     "iopub.status.idle": "2022-09-20T07:09:30.891941Z",
     "shell.execute_reply": "2022-09-20T07:09:30.891057Z"
    },
    "id": "WSAZBzasj4SO",
    "papermill": {
     "duration": 0.061337,
     "end_time": "2022-09-20T07:09:30.894072",
     "exception": false,
     "start_time": "2022-09-20T07:09:30.832735",
     "status": "completed"
    },
    "pycharm": {
     "name": "#%%\n"
    },
    "tags": []
   },
   "outputs": [],
   "source": [
    "# st =  Stemmer.Stemmer('arabic')\n",
    "import string,emoji\n",
    "def data_cleaning (text):\n",
    "    text = re.sub(r'^https?:\\/\\/.*[\\r\\n]*', '', text, flags=re.MULTILINE)\n",
    "    text = re.sub(r'^http?:\\/\\/.*[\\r\\n]*', '', text, flags=re.MULTILINE)\n",
    "    text = re.sub(r\"http\\S+\", \"\", text)\n",
    "    text = re.sub(r\"https\\S+\", \"\", text)\n",
    "    text = re.sub(r'\\s+', ' ', text)\n",
    "    text = re.sub(\"(\\s\\d+)\",\"\",text)\n",
    "    text = re.sub(r\"$\\d+\\W+|\\b\\d+\\b|\\W+\\d+$\", \"\", text)\n",
    "    text = re.sub(\"\\d+\", \" \", text)\n",
    "    text = ar.strip_tashkeel(text)\n",
    "    text = ar.strip_tatweel(text)\n",
    "    text = text.replace(\"#\", \" \");\n",
    "    text = text.replace(\"@\", \" \");\n",
    "    text = text.replace(\"_\", \" \");\n",
    "    translator = str.maketrans('', '', string.punctuation)\n",
    "    text = text.translate(translator)\n",
    "    em = text\n",
    "    em_split_emoji = emoji.get_emoji_regexp().split(em)\n",
    "    em_split_whitespace = [substr.split() for substr in em_split_emoji]\n",
    "    em_split = functools.reduce(operator.concat, em_split_whitespace)\n",
    "    text = \" \".join(em_split)\n",
    "    text = re.sub(r'(.)\\1+', r'\\1', text)\n",
    "    # text_stem = \" \".join([st.stemWord(i) for i in text.split()])\n",
    "    # text = text +\" \"+ text_stem\n",
    "    text = text.replace(\"آ\", \"ا\")\n",
    "    text = text.replace(\"إ\", \"ا\")\n",
    "    text = text.replace(\"أ\", \"ا\")\n",
    "    text = text.replace(\"ؤ\", \"و\")\n",
    "    text = text.replace(\"ئ\", \"ي\")\n",
    "\n",
    "    return text"
   ]
  },
  {
   "cell_type": "code",
   "execution_count": 13,
   "id": "2bc7a489",
   "metadata": {
    "execution": {
     "iopub.execute_input": "2022-09-20T07:09:30.920400Z",
     "iopub.status.busy": "2022-09-20T07:09:30.919519Z",
     "iopub.status.idle": "2022-09-20T07:09:32.847003Z",
     "shell.execute_reply": "2022-09-20T07:09:32.846092Z"
    },
    "id": "v_gDzrkBwMz6",
    "outputId": "35dc1e8a-bd77-4b7a-9501-c2ca97a0ed67",
    "papermill": {
     "duration": 1.942784,
     "end_time": "2022-09-20T07:09:32.849154",
     "exception": false,
     "start_time": "2022-09-20T07:09:30.906370",
     "status": "completed"
    },
    "pycharm": {
     "name": "#%%\n"
    },
    "tags": []
   },
   "outputs": [
    {
     "name": "stderr",
     "output_type": "stream",
     "text": [
      "/opt/conda/lib/python3.7/site-packages/ipykernel_launcher.py:20: DeprecationWarning: 'emoji.get_emoji_regexp()' is deprecated and will be removed in version 2.0.0. If you want to remove emoji from a string, consider the method emoji.replace_emoji(str, replace='').\n",
      "To hide this warning, pin/downgrade the package to 'emoji~=1.6.3'\n"
     ]
    },
    {
     "data": {
      "text/html": [
       "<div>\n",
       "<style scoped>\n",
       "    .dataframe tbody tr th:only-of-type {\n",
       "        vertical-align: middle;\n",
       "    }\n",
       "\n",
       "    .dataframe tbody tr th {\n",
       "        vertical-align: top;\n",
       "    }\n",
       "\n",
       "    .dataframe thead th {\n",
       "        text-align: right;\n",
       "    }\n",
       "</style>\n",
       "<table border=\"1\" class=\"dataframe\">\n",
       "  <thead>\n",
       "    <tr style=\"text-align: right;\">\n",
       "      <th></th>\n",
       "      <th>tweet</th>\n",
       "      <th>class</th>\n",
       "    </tr>\n",
       "  </thead>\n",
       "  <tbody>\n",
       "    <tr>\n",
       "      <th>0</th>\n",
       "      <td>متني الحياه ان الذين يعيشون على الارض ليسوا مل...</td>\n",
       "      <td>pos</td>\n",
       "    </tr>\n",
       "    <tr>\n",
       "      <th>1</th>\n",
       "      <td>ري كرسمس كل سنة وانتم طيب</td>\n",
       "      <td>pos</td>\n",
       "    </tr>\n",
       "    <tr>\n",
       "      <th>2</th>\n",
       "      <td>انتهى مشوار الخ</td>\n",
       "      <td>neg</td>\n",
       "    </tr>\n",
       "    <tr>\n",
       "      <th>3</th>\n",
       "      <td>عارف ابتدى مذاكره من</td>\n",
       "      <td>neg</td>\n",
       "    </tr>\n",
       "    <tr>\n",
       "      <th>4</th>\n",
       "      <td>اختصروا الطريق بدلا من اختيار المنصف ثم الانق...</td>\n",
       "      <td>neg</td>\n",
       "    </tr>\n",
       "    <tr>\n",
       "      <th>...</th>\n",
       "      <td>...</td>\n",
       "      <td>...</td>\n",
       "    </tr>\n",
       "    <tr>\n",
       "      <th>2054</th>\n",
       "      <td>الجمال مبيحتاح اي مكياج لناعم وله خشن جمل ال...</td>\n",
       "      <td>neu</td>\n",
       "    </tr>\n",
       "    <tr>\n",
       "      <th>2055</th>\n",
       "      <td>نتمني وجود الفنانة رنا سماحة افضل فنانة صاعدة...</td>\n",
       "      <td>neu</td>\n",
       "    </tr>\n",
       "    <tr>\n",
       "      <th>2056</th>\n",
       "      <td>د الهدى فالكاينات ضياء وفم الزمان تبسم وسناء ك...</td>\n",
       "      <td>pos</td>\n",
       "    </tr>\n",
       "    <tr>\n",
       "      <th>2057</th>\n",
       "      <td>انت متناقض جدا يا صل</td>\n",
       "      <td>neg</td>\n",
       "    </tr>\n",
       "    <tr>\n",
       "      <th>2058</th>\n",
       "      <td>طقة السيدة زينب ليلة المولد مسجد السيدة زي</td>\n",
       "      <td>neu</td>\n",
       "    </tr>\n",
       "  </tbody>\n",
       "</table>\n",
       "<p>2059 rows × 2 columns</p>\n",
       "</div>"
      ],
      "text/plain": [
       "                                                  tweet class\n",
       "0     متني الحياه ان الذين يعيشون على الارض ليسوا مل...   pos\n",
       "1                             ري كرسمس كل سنة وانتم طيب   pos\n",
       "2                                       انتهى مشوار الخ   neg\n",
       "3                                  عارف ابتدى مذاكره من   neg\n",
       "4      اختصروا الطريق بدلا من اختيار المنصف ثم الانق...   neg\n",
       "...                                                 ...   ...\n",
       "2054    الجمال مبيحتاح اي مكياج لناعم وله خشن جمل ال...   neu\n",
       "2055   نتمني وجود الفنانة رنا سماحة افضل فنانة صاعدة...   neu\n",
       "2056  د الهدى فالكاينات ضياء وفم الزمان تبسم وسناء ك...   pos\n",
       "2057                               انت متناقض جدا يا صل   neg\n",
       "2058         طقة السيدة زينب ليلة المولد مسجد السيدة زي   neu\n",
       "\n",
       "[2059 rows x 2 columns]"
      ]
     },
     "execution_count": 13,
     "metadata": {},
     "output_type": "execute_result"
    }
   ],
   "source": [
    "df['tweet']=df['tweet'].apply(lambda x: data_cleaning(x))\n",
    "df=data_preprocessing(df)\n",
    "df"
   ]
  },
  {
   "cell_type": "code",
   "execution_count": 14,
   "id": "494950a9",
   "metadata": {
    "execution": {
     "iopub.execute_input": "2022-09-20T07:09:32.875517Z",
     "iopub.status.busy": "2022-09-20T07:09:32.875217Z",
     "iopub.status.idle": "2022-09-20T07:09:37.052356Z",
     "shell.execute_reply": "2022-09-20T07:09:37.051112Z"
    },
    "id": "MyaQC-Axj4SQ",
    "outputId": "42c6c351-0166-4a30-ee3c-e91c49e8bb4b",
    "papermill": {
     "duration": 4.193469,
     "end_time": "2022-09-20T07:09:37.055197",
     "exception": false,
     "start_time": "2022-09-20T07:09:32.861728",
     "status": "completed"
    },
    "pycharm": {
     "name": "#%%\n"
    },
    "tags": []
   },
   "outputs": [
    {
     "name": "stdout",
     "output_type": "stream",
     "text": [
      "Cloning into 'arabert'...\r\n",
      "remote: Enumerating objects: 595, done.\u001b[K\r\n",
      "remote: Counting objects: 100% (60/60), done.\u001b[K\r\n",
      "remote: Compressing objects: 100% (29/29), done.\u001b[K\r\n",
      "remote: Total 595 (delta 37), reused 43 (delta 29), pack-reused 535\u001b[K\r\n",
      "Receiving objects: 100% (595/595), 9.14 MiB | 5.19 MiB/s, done.\r\n",
      "Resolving deltas: 100% (338/338), done.\r\n"
     ]
    }
   ],
   "source": [
    "!git clone https://github.com/aub-mind/arabert.git"
   ]
  },
  {
   "cell_type": "code",
   "execution_count": 15,
   "id": "ca44fba9",
   "metadata": {
    "execution": {
     "iopub.execute_input": "2022-09-20T07:09:37.084875Z",
     "iopub.status.busy": "2022-09-20T07:09:37.084043Z",
     "iopub.status.idle": "2022-09-20T07:09:37.300012Z",
     "shell.execute_reply": "2022-09-20T07:09:37.298932Z"
    },
    "id": "omMDhuNzj4SR",
    "papermill": {
     "duration": 0.232864,
     "end_time": "2022-09-20T07:09:37.302205",
     "exception": false,
     "start_time": "2022-09-20T07:09:37.069341",
     "status": "completed"
    },
    "pycharm": {
     "name": "#%%\n"
    },
    "tags": []
   },
   "outputs": [
    {
     "data": {
      "text/plain": [
       "\"ولن نبالغ إذا قلنا : إن ' هاتف ' أو ' كمبيوتر المكتب ' في زمننا هذا ضروري\""
      ]
     },
     "execution_count": 15,
     "metadata": {},
     "output_type": "execute_result"
    }
   ],
   "source": [
    "from arabert.preprocess import ArabertPreprocessor\n",
    "\n",
    "model_name = \"aubmindlab/bert-large-arabertv02-twitter\"\n",
    "arabert_prep = ArabertPreprocessor(model_name=model_name)\n",
    "\n",
    "df['tweet']=df['tweet'].apply(lambda x: arabert_prep.preprocess(x))\n",
    "\n",
    "\n",
    "text = \"ولن نبالغ إذا قلنا: إن 'هاتف' أو 'كمبيوتر المكتب' في زمننا هذا ضروري\"\n",
    "arabert_prep.preprocess(text)\n",
    "# # \"و+ لن نبالغ إذا قل +نا : إن ' هاتف ' أو ' كمبيوتر ال+ مكتب ' في زمن +نا هذا ضروري\""
   ]
  },
  {
   "cell_type": "markdown",
   "id": "1002f2f7",
   "metadata": {
    "id": "tBEVTgBRugws",
    "papermill": {
     "duration": 0.013338,
     "end_time": "2022-09-20T07:09:37.329214",
     "exception": false,
     "start_time": "2022-09-20T07:09:37.315876",
     "status": "completed"
    },
    "pycharm": {
     "name": "#%% md\n"
    },
    "tags": []
   },
   "source": [
    "## Label Encoder"
   ]
  },
  {
   "cell_type": "code",
   "execution_count": 16,
   "id": "d4aef631",
   "metadata": {
    "execution": {
     "iopub.execute_input": "2022-09-20T07:09:37.357891Z",
     "iopub.status.busy": "2022-09-20T07:09:37.356938Z",
     "iopub.status.idle": "2022-09-20T07:09:37.370307Z",
     "shell.execute_reply": "2022-09-20T07:09:37.369309Z"
    },
    "id": "nvWAmR5nugwu",
    "outputId": "ebe05a07-30d2-47f5-9cfa-a6ffdbcaae1f",
    "papermill": {
     "duration": 0.029587,
     "end_time": "2022-09-20T07:09:37.372166",
     "exception": false,
     "start_time": "2022-09-20T07:09:37.342579",
     "status": "completed"
    },
    "pycharm": {
     "name": "#%%\n"
    },
    "tags": []
   },
   "outputs": [
    {
     "data": {
      "text/html": [
       "<div>\n",
       "<style scoped>\n",
       "    .dataframe tbody tr th:only-of-type {\n",
       "        vertical-align: middle;\n",
       "    }\n",
       "\n",
       "    .dataframe tbody tr th {\n",
       "        vertical-align: top;\n",
       "    }\n",
       "\n",
       "    .dataframe thead th {\n",
       "        text-align: right;\n",
       "    }\n",
       "</style>\n",
       "<table border=\"1\" class=\"dataframe\">\n",
       "  <thead>\n",
       "    <tr style=\"text-align: right;\">\n",
       "      <th></th>\n",
       "      <th>tweet</th>\n",
       "      <th>class</th>\n",
       "    </tr>\n",
       "  </thead>\n",
       "  <tbody>\n",
       "    <tr>\n",
       "      <th>0</th>\n",
       "      <td>متني الحياه ان الذين يعيشون على الارض ليسوا مل...</td>\n",
       "      <td>2</td>\n",
       "    </tr>\n",
       "    <tr>\n",
       "      <th>1</th>\n",
       "      <td>ري كرسمس كل سنة وانتم طيب</td>\n",
       "      <td>2</td>\n",
       "    </tr>\n",
       "    <tr>\n",
       "      <th>2</th>\n",
       "      <td>انتهى مشوار الخ</td>\n",
       "      <td>0</td>\n",
       "    </tr>\n",
       "    <tr>\n",
       "      <th>3</th>\n",
       "      <td>عارف ابتدى مذاكره من</td>\n",
       "      <td>0</td>\n",
       "    </tr>\n",
       "    <tr>\n",
       "      <th>4</th>\n",
       "      <td>اختصروا الطريق بدلا من اختيار المنصف ثم الانقل...</td>\n",
       "      <td>0</td>\n",
       "    </tr>\n",
       "    <tr>\n",
       "      <th>...</th>\n",
       "      <td>...</td>\n",
       "      <td>...</td>\n",
       "    </tr>\n",
       "    <tr>\n",
       "      <th>2054</th>\n",
       "      <td>الجمال مبيحتاح اي مكياج لناعم وله خشن جمل الطا...</td>\n",
       "      <td>1</td>\n",
       "    </tr>\n",
       "    <tr>\n",
       "      <th>2055</th>\n",
       "      <td>نتمني وجود الفنانة رنا سماحة افضل فنانة صاعدة ...</td>\n",
       "      <td>1</td>\n",
       "    </tr>\n",
       "    <tr>\n",
       "      <th>2056</th>\n",
       "      <td>د الهدى فالكاينات ضياء وفم الزمان تبسم وسناء ك...</td>\n",
       "      <td>2</td>\n",
       "    </tr>\n",
       "    <tr>\n",
       "      <th>2057</th>\n",
       "      <td>انت متناقض جدا يا صل</td>\n",
       "      <td>0</td>\n",
       "    </tr>\n",
       "    <tr>\n",
       "      <th>2058</th>\n",
       "      <td>طقة السيدة زينب ليلة المولد مسجد السيدة زي</td>\n",
       "      <td>1</td>\n",
       "    </tr>\n",
       "  </tbody>\n",
       "</table>\n",
       "<p>2059 rows × 2 columns</p>\n",
       "</div>"
      ],
      "text/plain": [
       "                                                  tweet  class\n",
       "0     متني الحياه ان الذين يعيشون على الارض ليسوا مل...      2\n",
       "1                             ري كرسمس كل سنة وانتم طيب      2\n",
       "2                                       انتهى مشوار الخ      0\n",
       "3                                  عارف ابتدى مذاكره من      0\n",
       "4     اختصروا الطريق بدلا من اختيار المنصف ثم الانقل...      0\n",
       "...                                                 ...    ...\n",
       "2054  الجمال مبيحتاح اي مكياج لناعم وله خشن جمل الطا...      1\n",
       "2055  نتمني وجود الفنانة رنا سماحة افضل فنانة صاعدة ...      1\n",
       "2056  د الهدى فالكاينات ضياء وفم الزمان تبسم وسناء ك...      2\n",
       "2057                               انت متناقض جدا يا صل      0\n",
       "2058         طقة السيدة زينب ليلة المولد مسجد السيدة زي      1\n",
       "\n",
       "[2059 rows x 2 columns]"
      ]
     },
     "execution_count": 16,
     "metadata": {},
     "output_type": "execute_result"
    }
   ],
   "source": [
    "from sklearn import preprocessing\n",
    "# Apply label encoding over the labels\n",
    "lable_encoder = preprocessing.LabelEncoder()\n",
    "encoded_labels =lable_encoder.fit_transform(df[\"class\"])\n",
    "df['class']=encoded_labels\n",
    "df"
   ]
  },
  {
   "cell_type": "code",
   "execution_count": 17,
   "id": "c3adbd66",
   "metadata": {
    "execution": {
     "iopub.execute_input": "2022-09-20T07:09:37.402131Z",
     "iopub.status.busy": "2022-09-20T07:09:37.400501Z",
     "iopub.status.idle": "2022-09-20T07:09:37.411242Z",
     "shell.execute_reply": "2022-09-20T07:09:37.410294Z"
    },
    "id": "3RgOhu_aj4SS",
    "outputId": "df3da832-335c-4f17-a942-6820bcd6b3ac",
    "papermill": {
     "duration": 0.027286,
     "end_time": "2022-09-20T07:09:37.413220",
     "exception": false,
     "start_time": "2022-09-20T07:09:37.385934",
     "status": "completed"
    },
    "pycharm": {
     "name": "#%%\n"
    },
    "tags": []
   },
   "outputs": [
    {
     "data": {
      "text/plain": [
       "36"
      ]
     },
     "execution_count": 17,
     "metadata": {},
     "output_type": "execute_result"
    }
   ],
   "source": [
    "df['length']=df['tweet'].apply(lambda x:len(x.split(' ')))\n",
    "df['length'].max()"
   ]
  },
  {
   "cell_type": "markdown",
   "id": "db086e14",
   "metadata": {
    "id": "RscS77J9ugww",
    "papermill": {
     "duration": 0.027842,
     "end_time": "2022-09-20T07:09:37.454829",
     "exception": false,
     "start_time": "2022-09-20T07:09:37.426987",
     "status": "completed"
    },
    "pycharm": {
     "name": "#%% md\n"
    },
    "tags": []
   },
   "source": [
    "## Train Test Split"
   ]
  },
  {
   "cell_type": "code",
   "execution_count": 18,
   "id": "86178695",
   "metadata": {
    "execution": {
     "iopub.execute_input": "2022-09-20T07:09:37.513259Z",
     "iopub.status.busy": "2022-09-20T07:09:37.512823Z",
     "iopub.status.idle": "2022-09-20T07:09:37.536581Z",
     "shell.execute_reply": "2022-09-20T07:09:37.534279Z"
    },
    "id": "qhLxzIXvugwx",
    "outputId": "1085ba06-8206-451f-81ea-9aec30b6d802",
    "papermill": {
     "duration": 0.060012,
     "end_time": "2022-09-20T07:09:37.544415",
     "exception": false,
     "start_time": "2022-09-20T07:09:37.484403",
     "status": "completed"
    },
    "pycharm": {
     "name": "#%%\n"
    },
    "tags": []
   },
   "outputs": [
    {
     "data": {
      "text/plain": [
       "1298    معناها مش المعني الظاهر معناها نفسها في الجنة ...\n",
       "591                                                     ا\n",
       "1318                                              كل اخير\n",
       "1067                    هنا العاصمة لميس الحديدي تودع عبر\n",
       "29                              انا نهي سنفورة القهوة ادي\n",
       "                              ...                        \n",
       "1033    صباح اورد من احمد انا بحب سكس انا بحب الزمالك ...\n",
       "674     حياة بالقرب من اله حياة مطمينة محفوفة بالتوفيق...\n",
       "1771                           عليش نسال فيكن معناها ي بص\n",
       "322                                         شارع الجاردنز\n",
       "1299                              ن نفسي اتولد مخلص ه تعل\n",
       "Name: tweet, Length: 412, dtype: object"
      ]
     },
     "execution_count": 18,
     "metadata": {},
     "output_type": "execute_result"
    }
   ],
   "source": [
    "from sklearn.model_selection import train_test_split\n",
    "X_train, X_validation, y_train, y_validation=train_test_split(df['tweet'], df['class'], test_size=0.2, random_state=seed)\n",
    "X_validation"
   ]
  },
  {
   "cell_type": "markdown",
   "id": "d130313e",
   "metadata": {
    "id": "0cs2vHnqBaXF",
    "papermill": {
     "duration": 0.025468,
     "end_time": "2022-09-20T07:09:37.594160",
     "exception": false,
     "start_time": "2022-09-20T07:09:37.568692",
     "status": "completed"
    },
    "tags": []
   },
   "source": [
    "# Trying some machine learning models"
   ]
  },
  {
   "cell_type": "markdown",
   "id": "18e67bc6",
   "metadata": {
    "id": "kevPnoxdugwy",
    "papermill": {
     "duration": 0.02034,
     "end_time": "2022-09-20T07:09:37.635223",
     "exception": false,
     "start_time": "2022-09-20T07:09:37.614883",
     "status": "completed"
    },
    "pycharm": {
     "name": "#%% md\n"
    },
    "tags": []
   },
   "source": [
    "## TF_IDF"
   ]
  },
  {
   "cell_type": "code",
   "execution_count": 19,
   "id": "95bbc731",
   "metadata": {
    "execution": {
     "iopub.execute_input": "2022-09-20T07:09:37.678521Z",
     "iopub.status.busy": "2022-09-20T07:09:37.677842Z",
     "iopub.status.idle": "2022-09-20T07:09:37.686586Z",
     "shell.execute_reply": "2022-09-20T07:09:37.685592Z"
    },
    "id": "roXYHxrdugwy",
    "papermill": {
     "duration": 0.033599,
     "end_time": "2022-09-20T07:09:37.689195",
     "exception": false,
     "start_time": "2022-09-20T07:09:37.655596",
     "status": "completed"
    },
    "pycharm": {
     "name": "#%%\n"
    },
    "tags": []
   },
   "outputs": [],
   "source": [
    "from sklearn.feature_extraction.text import TfidfVectorizer\n",
    "def tfidf_ngram(n_gram,X_train,X_val):\n",
    "    vectorizer = TfidfVectorizer(ngram_range=(n_gram,n_gram))\n",
    "    x_train_vec = vectorizer.fit_transform(X_train)\n",
    "    x_test_vec = vectorizer.transform(X_val)\n",
    "    return x_train_vec,x_test_vec"
   ]
  },
  {
   "cell_type": "code",
   "execution_count": 20,
   "id": "c4905243",
   "metadata": {
    "execution": {
     "iopub.execute_input": "2022-09-20T07:09:37.732043Z",
     "iopub.status.busy": "2022-09-20T07:09:37.731533Z",
     "iopub.status.idle": "2022-09-20T07:09:37.883128Z",
     "shell.execute_reply": "2022-09-20T07:09:37.882150Z"
    },
    "id": "iuWEPExnugwz",
    "papermill": {
     "duration": 0.176698,
     "end_time": "2022-09-20T07:09:37.886312",
     "exception": false,
     "start_time": "2022-09-20T07:09:37.709614",
     "status": "completed"
    },
    "pycharm": {
     "name": "#%%\n"
    },
    "tags": []
   },
   "outputs": [],
   "source": [
    "# Applying tfidf with 1-gram, 2-gram and 3-gram\n",
    "tfidf_1g_transformation_train,tfidf_1g_transformation_validation= tfidf_ngram(1,X_train,X_validation)\n",
    "tfidf_2g_transformation_train,tfidf_2g_transformation_validation= tfidf_ngram(2,X_train,X_validation)"
   ]
  },
  {
   "cell_type": "markdown",
   "id": "37a587b3",
   "metadata": {
    "id": "7BYrD0RLugw0",
    "papermill": {
     "duration": 0.020387,
     "end_time": "2022-09-20T07:09:37.929056",
     "exception": false,
     "start_time": "2022-09-20T07:09:37.908669",
     "status": "completed"
    },
    "pycharm": {
     "name": "#%% md\n"
    },
    "tags": []
   },
   "source": [
    "## Machine learning models"
   ]
  },
  {
   "cell_type": "code",
   "execution_count": 21,
   "id": "7986012d",
   "metadata": {
    "execution": {
     "iopub.execute_input": "2022-09-20T07:09:37.972946Z",
     "iopub.status.busy": "2022-09-20T07:09:37.972518Z",
     "iopub.status.idle": "2022-09-20T07:09:47.210927Z",
     "shell.execute_reply": "2022-09-20T07:09:47.209771Z"
    },
    "id": "RCB9CYrwugw0",
    "outputId": "47b8a203-633d-4f83-c343-2fe875fe6495",
    "papermill": {
     "duration": 9.265333,
     "end_time": "2022-09-20T07:09:47.214793",
     "exception": false,
     "start_time": "2022-09-20T07:09:37.949460",
     "status": "completed"
    },
    "pycharm": {
     "name": "#%%\n"
    },
    "tags": []
   },
   "outputs": [
    {
     "name": "stdout",
     "output_type": "stream",
     "text": [
      "0.9769277474195507\n",
      "0.3422330097087379\n",
      "0.4632665452337584\n",
      "0.3446601941747573\n",
      "0.9775349119611415\n",
      "0.35436893203883496\n",
      "0.9775349119611415\n",
      "0.3446601941747573\n",
      "0.9769277474195507\n",
      "0.36650485436893204\n"
     ]
    }
   ],
   "source": [
    "from sklearn.svm import SVC\n",
    "from xgboost import XGBClassifier\n",
    "from sklearn.ensemble import RandomForestClassifier\n",
    "from sklearn.tree import DecisionTreeClassifier\n",
    "from sklearn.linear_model import LogisticRegression\n",
    "\n",
    "models=[SVC(),XGBClassifier(),RandomForestClassifier(),DecisionTreeClassifier(),LogisticRegression()]\n",
    "for m in models :\n",
    "    m.fit(tfidf_2g_transformation_train,y_train)\n",
    "    print(m.score(tfidf_2g_transformation_train,y_train))\n",
    "    print(m.score(tfidf_2g_transformation_validation,y_validation))"
   ]
  },
  {
   "cell_type": "markdown",
   "id": "12c2133e",
   "metadata": {
    "id": "EnB7E1uNBifr",
    "papermill": {
     "duration": 0.03714,
     "end_time": "2022-09-20T07:09:47.291083",
     "exception": false,
     "start_time": "2022-09-20T07:09:47.253943",
     "status": "completed"
    },
    "tags": []
   },
   "source": [
    "# Trying to use some pre-trained models from hugging face website "
   ]
  },
  {
   "cell_type": "markdown",
   "id": "92ef8f75",
   "metadata": {
    "id": "546gZdstugw1",
    "papermill": {
     "duration": 0.017065,
     "end_time": "2022-09-20T07:09:47.344792",
     "exception": false,
     "start_time": "2022-09-20T07:09:47.327727",
     "status": "completed"
    },
    "pycharm": {
     "name": "#%% md\n"
    },
    "tags": []
   },
   "source": [
    "## Install transformers"
   ]
  },
  {
   "cell_type": "code",
   "execution_count": 22,
   "id": "9e1af893",
   "metadata": {
    "execution": {
     "iopub.execute_input": "2022-09-20T07:09:47.374278Z",
     "iopub.status.busy": "2022-09-20T07:09:47.373907Z",
     "iopub.status.idle": "2022-09-20T07:09:56.414349Z",
     "shell.execute_reply": "2022-09-20T07:09:56.413168Z"
    },
    "id": "1PPa1X-Tugw1",
    "outputId": "82c1ef71-0651-41ea-8c26-0747295232bd",
    "papermill": {
     "duration": 9.058632,
     "end_time": "2022-09-20T07:09:56.417345",
     "exception": false,
     "start_time": "2022-09-20T07:09:47.358713",
     "status": "completed"
    },
    "pycharm": {
     "name": "#%%\n"
    },
    "tags": []
   },
   "outputs": [
    {
     "name": "stdout",
     "output_type": "stream",
     "text": [
      "Requirement already satisfied: transformers in /opt/conda/lib/python3.7/site-packages (4.18.0)\r\n",
      "Requirement already satisfied: requests in /opt/conda/lib/python3.7/site-packages (from transformers) (2.27.1)\r\n",
      "Requirement already satisfied: numpy>=1.17 in /opt/conda/lib/python3.7/site-packages (from transformers) (1.21.6)\r\n",
      "Requirement already satisfied: huggingface-hub<1.0,>=0.1.0 in /opt/conda/lib/python3.7/site-packages (from transformers) (0.7.0)\r\n",
      "Requirement already satisfied: regex!=2019.12.17 in /opt/conda/lib/python3.7/site-packages (from transformers) (2021.11.10)\r\n",
      "Requirement already satisfied: packaging>=20.0 in /opt/conda/lib/python3.7/site-packages (from transformers) (21.3)\r\n",
      "Requirement already satisfied: tqdm>=4.27 in /opt/conda/lib/python3.7/site-packages (from transformers) (4.64.0)\r\n",
      "Requirement already satisfied: pyyaml>=5.1 in /opt/conda/lib/python3.7/site-packages (from transformers) (6.0)\r\n",
      "Requirement already satisfied: filelock in /opt/conda/lib/python3.7/site-packages (from transformers) (3.6.0)\r\n",
      "Requirement already satisfied: importlib-metadata in /opt/conda/lib/python3.7/site-packages (from transformers) (4.11.4)\r\n",
      "Requirement already satisfied: sacremoses in /opt/conda/lib/python3.7/site-packages (from transformers) (0.0.53)\r\n",
      "Requirement already satisfied: tokenizers!=0.11.3,<0.13,>=0.11.1 in /opt/conda/lib/python3.7/site-packages (from transformers) (0.12.1)\r\n",
      "Requirement already satisfied: typing-extensions>=3.7.4.3 in /opt/conda/lib/python3.7/site-packages (from huggingface-hub<1.0,>=0.1.0->transformers) (4.1.1)\r\n",
      "Requirement already satisfied: pyparsing!=3.0.5,>=2.0.2 in /opt/conda/lib/python3.7/site-packages (from packaging>=20.0->transformers) (3.0.9)\r\n",
      "Requirement already satisfied: zipp>=0.5 in /opt/conda/lib/python3.7/site-packages (from importlib-metadata->transformers) (3.8.0)\r\n",
      "Requirement already satisfied: urllib3<1.27,>=1.21.1 in /opt/conda/lib/python3.7/site-packages (from requests->transformers) (1.26.9)\r\n",
      "Requirement already satisfied: certifi>=2017.4.17 in /opt/conda/lib/python3.7/site-packages (from requests->transformers) (2022.6.15)\r\n",
      "Requirement already satisfied: charset-normalizer~=2.0.0 in /opt/conda/lib/python3.7/site-packages (from requests->transformers) (2.0.12)\r\n",
      "Requirement already satisfied: idna<4,>=2.5 in /opt/conda/lib/python3.7/site-packages (from requests->transformers) (3.3)\r\n",
      "Requirement already satisfied: joblib in /opt/conda/lib/python3.7/site-packages (from sacremoses->transformers) (1.1.0)\r\n",
      "Requirement already satisfied: click in /opt/conda/lib/python3.7/site-packages (from sacremoses->transformers) (8.0.4)\r\n",
      "Requirement already satisfied: six in /opt/conda/lib/python3.7/site-packages (from sacremoses->transformers) (1.16.0)\r\n",
      "\u001b[33mWARNING: Running pip as the 'root' user can result in broken permissions and conflicting behaviour with the system package manager. It is recommended to use a virtual environment instead: https://pip.pypa.io/warnings/venv\u001b[0m\u001b[33m\r\n",
      "\u001b[0m"
     ]
    }
   ],
   "source": [
    "!pip install transformers"
   ]
  },
  {
   "cell_type": "markdown",
   "id": "12e0c2bd",
   "metadata": {
    "id": "Vn5ecTRICc_J",
    "papermill": {
     "duration": 0.013945,
     "end_time": "2022-09-20T07:09:56.446394",
     "exception": false,
     "start_time": "2022-09-20T07:09:56.432449",
     "status": "completed"
    },
    "tags": []
   },
   "source": [
    "## Model and Tokenizer initialization"
   ]
  },
  {
   "cell_type": "code",
   "execution_count": 23,
   "id": "9a629254",
   "metadata": {
    "execution": {
     "iopub.execute_input": "2022-09-20T07:09:56.476727Z",
     "iopub.status.busy": "2022-09-20T07:09:56.476380Z",
     "iopub.status.idle": "2022-09-20T07:10:55.504130Z",
     "shell.execute_reply": "2022-09-20T07:10:55.503160Z"
    },
    "id": "WqHEVmquugw1",
    "outputId": "b85a3f25-9dd1-40c6-b273-56de73263710",
    "papermill": {
     "duration": 59.045726,
     "end_time": "2022-09-20T07:10:55.506386",
     "exception": false,
     "start_time": "2022-09-20T07:09:56.460660",
     "status": "completed"
    },
    "pycharm": {
     "name": "#%%\n"
    },
    "tags": []
   },
   "outputs": [
    {
     "data": {
      "application/vnd.jupyter.widget-view+json": {
       "model_id": "69e8169614904beabf0f17e793570fac",
       "version_major": 2,
       "version_minor": 0
      },
      "text/plain": [
       "Downloading:   0%|          | 0.00/376 [00:00<?, ?B/s]"
      ]
     },
     "metadata": {},
     "output_type": "display_data"
    },
    {
     "data": {
      "application/vnd.jupyter.widget-view+json": {
       "model_id": "802c765a44dd451db2fe580b1b64a48a",
       "version_major": 2,
       "version_minor": 0
      },
      "text/plain": [
       "Downloading:   0%|          | 0.00/701 [00:00<?, ?B/s]"
      ]
     },
     "metadata": {},
     "output_type": "display_data"
    },
    {
     "data": {
      "application/vnd.jupyter.widget-view+json": {
       "model_id": "1a5ae8a1c37c457d847424713c80a047",
       "version_major": 2,
       "version_minor": 0
      },
      "text/plain": [
       "Downloading:   0%|          | 0.00/1.05M [00:00<?, ?B/s]"
      ]
     },
     "metadata": {},
     "output_type": "display_data"
    },
    {
     "data": {
      "application/vnd.jupyter.widget-view+json": {
       "model_id": "fdb3f2bb3d5a4cd6b137421a7d7f2061",
       "version_major": 2,
       "version_minor": 0
      },
      "text/plain": [
       "Downloading:   0%|          | 0.00/112 [00:00<?, ?B/s]"
      ]
     },
     "metadata": {},
     "output_type": "display_data"
    },
    {
     "data": {
      "application/vnd.jupyter.widget-view+json": {
       "model_id": "e923a56217f542dd984202d37ae4ab4a",
       "version_major": 2,
       "version_minor": 0
      },
      "text/plain": [
       "Downloading:   0%|          | 0.00/624M [00:00<?, ?B/s]"
      ]
     },
     "metadata": {},
     "output_type": "display_data"
    },
    {
     "name": "stderr",
     "output_type": "stream",
     "text": [
      "Some weights of the model checkpoint at UBC-NLP/MARBERT were not used when initializing BertForSequenceClassification: ['cls.predictions.transform.dense.weight', 'cls.predictions.bias', 'cls.predictions.transform.LayerNorm.bias', 'cls.predictions.transform.LayerNorm.weight', 'cls.predictions.decoder.weight', 'cls.seq_relationship.bias', 'cls.predictions.transform.dense.bias', 'cls.seq_relationship.weight']\n",
      "- This IS expected if you are initializing BertForSequenceClassification from the checkpoint of a model trained on another task or with another architecture (e.g. initializing a BertForSequenceClassification model from a BertForPreTraining model).\n",
      "- This IS NOT expected if you are initializing BertForSequenceClassification from the checkpoint of a model that you expect to be exactly identical (initializing a BertForSequenceClassification model from a BertForSequenceClassification model).\n",
      "Some weights of BertForSequenceClassification were not initialized from the model checkpoint at UBC-NLP/MARBERT and are newly initialized: ['classifier.weight', 'classifier.bias']\n",
      "You should probably TRAIN this model on a down-stream task to be able to use it for predictions and inference.\n"
     ]
    }
   ],
   "source": [
    "from transformers import AutoTokenizer, AutoModelForSequenceClassification\n",
    "\n",
    "#============= Initialize Arabic Bert =============#\n",
    "#load your pre_trained model with all its weights\n",
    "# model_name= 'aubmindlab/bert-base-arabertv02'\n",
    "model_name='UBC-NLP/MARBERT' #top\n",
    "# model_name='asafaya/bert-base-arabic'\n",
    "# model_name='AraBERTv0.2-Twitter-base'\n",
    "# model_name='aubmindlab/bert-large-arabertv2'\n",
    "# model_name='aubmindlab/bert-base-arabertv02-twitter'\n",
    "# model_name='aubmindlab/bert-large-arabertv02-twitter'\n",
    "# model_name='aubmindlab/aragpt2-base'\n",
    "\n",
    "# model_name='aubmindlab/bert-base-arabertv2'\n",
    "tokenizer =AutoTokenizer.from_pretrained(model_name)\n",
    "\n",
    "model = AutoModelForSequenceClassification.from_pretrained(model_name, num_labels=3)\n",
    "# model=AutoModel.from_pretrained(model_name,output_hidden_states=True)"
   ]
  },
  {
   "cell_type": "markdown",
   "id": "2570a7ee",
   "metadata": {
    "id": "sj6MbwJaB-iz",
    "papermill": {
     "duration": 0.015148,
     "end_time": "2022-09-20T07:10:55.537824",
     "exception": false,
     "start_time": "2022-09-20T07:10:55.522676",
     "status": "completed"
    },
    "tags": []
   },
   "source": [
    "You can uncomment ay of the other models to get differnet accuraces"
   ]
  },
  {
   "cell_type": "code",
   "execution_count": 24,
   "id": "a49f60c5",
   "metadata": {
    "execution": {
     "iopub.execute_input": "2022-09-20T07:10:55.569523Z",
     "iopub.status.busy": "2022-09-20T07:10:55.569167Z",
     "iopub.status.idle": "2022-09-20T07:10:56.335542Z",
     "shell.execute_reply": "2022-09-20T07:10:56.334572Z"
    },
    "id": "sc5VRJOCugw2",
    "outputId": "d500a758-62b9-4dec-8047-b19c7517d499",
    "papermill": {
     "duration": 0.784738,
     "end_time": "2022-09-20T07:10:56.337658",
     "exception": false,
     "start_time": "2022-09-20T07:10:55.552920",
     "status": "completed"
    },
    "pycharm": {
     "name": "#%%\n"
    },
    "tags": []
   },
   "outputs": [
    {
     "data": {
      "text/html": [
       "<div>\n",
       "<style scoped>\n",
       "    .dataframe tbody tr th:only-of-type {\n",
       "        vertical-align: middle;\n",
       "    }\n",
       "\n",
       "    .dataframe tbody tr th {\n",
       "        vertical-align: top;\n",
       "    }\n",
       "\n",
       "    .dataframe thead th {\n",
       "        text-align: right;\n",
       "    }\n",
       "</style>\n",
       "<table border=\"1\" class=\"dataframe\">\n",
       "  <thead>\n",
       "    <tr style=\"text-align: right;\">\n",
       "      <th></th>\n",
       "      <th>tweet</th>\n",
       "      <th>class</th>\n",
       "      <th>length</th>\n",
       "      <th>bert_tokens</th>\n",
       "      <th>bert_tokens_ids</th>\n",
       "      <th>encoded</th>\n",
       "    </tr>\n",
       "  </thead>\n",
       "  <tbody>\n",
       "    <tr>\n",
       "      <th>0</th>\n",
       "      <td>متني الحياه ان الذين يعيشون على الارض ليسوا مل...</td>\n",
       "      <td>2</td>\n",
       "      <td>27</td>\n",
       "      <td>[[CLS], متني, الحياه, ان, الذين, يعيشون, على, ...</td>\n",
       "      <td>[[CLS], متني, الحياه, ان, الذين, يعيشون, على, ...</td>\n",
       "      <td>[[tensor(2), tensor(68713), tensor(3946), tens...</td>\n",
       "    </tr>\n",
       "    <tr>\n",
       "      <th>1</th>\n",
       "      <td>ري كرسمس كل سنة وانتم طيب</td>\n",
       "      <td>2</td>\n",
       "      <td>6</td>\n",
       "      <td>[[CLS], ري, كرس, ##مس, كل, سنة, وانتم, طيب, [S...</td>\n",
       "      <td>[[CLS], ري, كرس, ##مس, كل, سنة, وانتم, طيب, [S...</td>\n",
       "      <td>[[tensor(2), tensor(2536), tensor(35685), tens...</td>\n",
       "    </tr>\n",
       "    <tr>\n",
       "      <th>2</th>\n",
       "      <td>انتهى مشوار الخ</td>\n",
       "      <td>0</td>\n",
       "      <td>3</td>\n",
       "      <td>[[CLS], انتهى, مشوار, الخ, [SEP]]</td>\n",
       "      <td>[[CLS], انتهى, مشوار, الخ, [SEP]]</td>\n",
       "      <td>[[tensor(2), tensor(7609), tensor(13606), tens...</td>\n",
       "    </tr>\n",
       "    <tr>\n",
       "      <th>3</th>\n",
       "      <td>عارف ابتدى مذاكره من</td>\n",
       "      <td>0</td>\n",
       "      <td>4</td>\n",
       "      <td>[[CLS], عارف, ابتدى, مذاكره, من, [SEP]]</td>\n",
       "      <td>[[CLS], عارف, ابتدى, مذاكره, من, [SEP]]</td>\n",
       "      <td>[[tensor(2), tensor(3323), tensor(45008), tens...</td>\n",
       "    </tr>\n",
       "    <tr>\n",
       "      <th>4</th>\n",
       "      <td>اختصروا الطريق بدلا من اختيار المنصف ثم الانقل...</td>\n",
       "      <td>0</td>\n",
       "      <td>20</td>\n",
       "      <td>[[CLS], اختصر, ##وا, الطريق, بدلا, من, اختيار,...</td>\n",
       "      <td>[[CLS], اختصر, ##وا, الطريق, بدلا, من, اختيار,...</td>\n",
       "      <td>[[tensor(2), tensor(22181), tensor(1958), tens...</td>\n",
       "    </tr>\n",
       "    <tr>\n",
       "      <th>...</th>\n",
       "      <td>...</td>\n",
       "      <td>...</td>\n",
       "      <td>...</td>\n",
       "      <td>...</td>\n",
       "      <td>...</td>\n",
       "      <td>...</td>\n",
       "    </tr>\n",
       "    <tr>\n",
       "      <th>2054</th>\n",
       "      <td>الجمال مبيحتاح اي مكياج لناعم وله خشن جمل الطا...</td>\n",
       "      <td>1</td>\n",
       "      <td>10</td>\n",
       "      <td>[[CLS], الجمال, مبيح, ##تاح, اي, مكياج, لنا, #...</td>\n",
       "      <td>[[CLS], الجمال, مبيح, ##تاح, اي, مكياج, لنا, #...</td>\n",
       "      <td>[[tensor(2), tensor(4770), tensor(68899), tens...</td>\n",
       "    </tr>\n",
       "    <tr>\n",
       "      <th>2055</th>\n",
       "      <td>نتمني وجود الفنانة رنا سماحة افضل فنانة صاعدة ...</td>\n",
       "      <td>1</td>\n",
       "      <td>11</td>\n",
       "      <td>[[CLS], نتمني, وجود, الفنانة, رنا, سماحة, افضل...</td>\n",
       "      <td>[[CLS], نتمني, وجود, الفنانة, رنا, سماحة, افضل...</td>\n",
       "      <td>[[tensor(2), tensor(39939), tensor(3715), tens...</td>\n",
       "    </tr>\n",
       "    <tr>\n",
       "      <th>2056</th>\n",
       "      <td>د الهدى فالكاينات ضياء وفم الزمان تبسم وسناء ك...</td>\n",
       "      <td>2</td>\n",
       "      <td>16</td>\n",
       "      <td>[[CLS], د, الهدى, فالك, ##اينات, ضياء, وف, ##م...</td>\n",
       "      <td>[[CLS], د, الهدى, فالك, ##اينات, ضياء, وف, ##م...</td>\n",
       "      <td>[[tensor(2), tensor(125), tensor(4880), tensor...</td>\n",
       "    </tr>\n",
       "    <tr>\n",
       "      <th>2057</th>\n",
       "      <td>انت متناقض جدا يا صل</td>\n",
       "      <td>0</td>\n",
       "      <td>5</td>\n",
       "      <td>[[CLS], انت, متناقض, جدا, يا, صل, [SEP]]</td>\n",
       "      <td>[[CLS], انت, متناقض, جدا, يا, صل, [SEP]]</td>\n",
       "      <td>[[tensor(2), tensor(2030), tensor(27008), tens...</td>\n",
       "    </tr>\n",
       "    <tr>\n",
       "      <th>2058</th>\n",
       "      <td>طقة السيدة زينب ليلة المولد مسجد السيدة زي</td>\n",
       "      <td>1</td>\n",
       "      <td>8</td>\n",
       "      <td>[[CLS], طق, ##ة, السيدة, زينب, ليلة, المولد, م...</td>\n",
       "      <td>[[CLS], طق, ##ة, السيدة, زينب, ليلة, المولد, م...</td>\n",
       "      <td>[[tensor(2), tensor(16252), tensor(1046), tens...</td>\n",
       "    </tr>\n",
       "  </tbody>\n",
       "</table>\n",
       "<p>2059 rows × 6 columns</p>\n",
       "</div>"
      ],
      "text/plain": [
       "                                                  tweet  class  length  \\\n",
       "0     متني الحياه ان الذين يعيشون على الارض ليسوا مل...      2      27   \n",
       "1                             ري كرسمس كل سنة وانتم طيب      2       6   \n",
       "2                                       انتهى مشوار الخ      0       3   \n",
       "3                                  عارف ابتدى مذاكره من      0       4   \n",
       "4     اختصروا الطريق بدلا من اختيار المنصف ثم الانقل...      0      20   \n",
       "...                                                 ...    ...     ...   \n",
       "2054  الجمال مبيحتاح اي مكياج لناعم وله خشن جمل الطا...      1      10   \n",
       "2055  نتمني وجود الفنانة رنا سماحة افضل فنانة صاعدة ...      1      11   \n",
       "2056  د الهدى فالكاينات ضياء وفم الزمان تبسم وسناء ك...      2      16   \n",
       "2057                               انت متناقض جدا يا صل      0       5   \n",
       "2058         طقة السيدة زينب ليلة المولد مسجد السيدة زي      1       8   \n",
       "\n",
       "                                            bert_tokens  \\\n",
       "0     [[CLS], متني, الحياه, ان, الذين, يعيشون, على, ...   \n",
       "1     [[CLS], ري, كرس, ##مس, كل, سنة, وانتم, طيب, [S...   \n",
       "2                     [[CLS], انتهى, مشوار, الخ, [SEP]]   \n",
       "3               [[CLS], عارف, ابتدى, مذاكره, من, [SEP]]   \n",
       "4     [[CLS], اختصر, ##وا, الطريق, بدلا, من, اختيار,...   \n",
       "...                                                 ...   \n",
       "2054  [[CLS], الجمال, مبيح, ##تاح, اي, مكياج, لنا, #...   \n",
       "2055  [[CLS], نتمني, وجود, الفنانة, رنا, سماحة, افضل...   \n",
       "2056  [[CLS], د, الهدى, فالك, ##اينات, ضياء, وف, ##م...   \n",
       "2057           [[CLS], انت, متناقض, جدا, يا, صل, [SEP]]   \n",
       "2058  [[CLS], طق, ##ة, السيدة, زينب, ليلة, المولد, م...   \n",
       "\n",
       "                                        bert_tokens_ids  \\\n",
       "0     [[CLS], متني, الحياه, ان, الذين, يعيشون, على, ...   \n",
       "1     [[CLS], ري, كرس, ##مس, كل, سنة, وانتم, طيب, [S...   \n",
       "2                     [[CLS], انتهى, مشوار, الخ, [SEP]]   \n",
       "3               [[CLS], عارف, ابتدى, مذاكره, من, [SEP]]   \n",
       "4     [[CLS], اختصر, ##وا, الطريق, بدلا, من, اختيار,...   \n",
       "...                                                 ...   \n",
       "2054  [[CLS], الجمال, مبيح, ##تاح, اي, مكياج, لنا, #...   \n",
       "2055  [[CLS], نتمني, وجود, الفنانة, رنا, سماحة, افضل...   \n",
       "2056  [[CLS], د, الهدى, فالك, ##اينات, ضياء, وف, ##م...   \n",
       "2057           [[CLS], انت, متناقض, جدا, يا, صل, [SEP]]   \n",
       "2058  [[CLS], طق, ##ة, السيدة, زينب, ليلة, المولد, م...   \n",
       "\n",
       "                                                encoded  \n",
       "0     [[tensor(2), tensor(68713), tensor(3946), tens...  \n",
       "1     [[tensor(2), tensor(2536), tensor(35685), tens...  \n",
       "2     [[tensor(2), tensor(7609), tensor(13606), tens...  \n",
       "3     [[tensor(2), tensor(3323), tensor(45008), tens...  \n",
       "4     [[tensor(2), tensor(22181), tensor(1958), tens...  \n",
       "...                                                 ...  \n",
       "2054  [[tensor(2), tensor(4770), tensor(68899), tens...  \n",
       "2055  [[tensor(2), tensor(39939), tensor(3715), tens...  \n",
       "2056  [[tensor(2), tensor(125), tensor(4880), tensor...  \n",
       "2057  [[tensor(2), tensor(2030), tensor(27008), tens...  \n",
       "2058  [[tensor(2), tensor(16252), tensor(1046), tens...  \n",
       "\n",
       "[2059 rows x 6 columns]"
      ]
     },
     "execution_count": 24,
     "metadata": {},
     "output_type": "execute_result"
    }
   ],
   "source": [
    "# Tokenize the sentences using bert tokenizer\n",
    "df[\"bert_tokens\"] = df.tweet.apply(lambda x: tokenizer(x).tokens())\n",
    "df[\"bert_tokens_ids\"] = df.tweet.apply(lambda x: tokenizer(x).tokens())\n",
    "df[\"encoded\"] = df.tweet.apply(lambda x: tokenizer.encode_plus(x,return_tensors='pt')['input_ids'])\n",
    "df"
   ]
  },
  {
   "cell_type": "markdown",
   "id": "57b99d67",
   "metadata": {
    "id": "fhb0-jQMugw4",
    "papermill": {
     "duration": 0.01521,
     "end_time": "2022-09-20T07:10:56.368393",
     "exception": false,
     "start_time": "2022-09-20T07:10:56.353183",
     "status": "completed"
    },
    "pycharm": {
     "name": "#%% md\n"
    },
    "tags": []
   },
   "source": [
    "## Padding and attention mask"
   ]
  },
  {
   "cell_type": "code",
   "execution_count": 25,
   "id": "808ce796",
   "metadata": {
    "execution": {
     "iopub.execute_input": "2022-09-20T07:10:56.402442Z",
     "iopub.status.busy": "2022-09-20T07:10:56.400543Z",
     "iopub.status.idle": "2022-09-20T07:10:56.492058Z",
     "shell.execute_reply": "2022-09-20T07:10:56.491089Z"
    },
    "id": "taCZLE63ugw4",
    "papermill": {
     "duration": 0.110815,
     "end_time": "2022-09-20T07:10:56.494371",
     "exception": false,
     "start_time": "2022-09-20T07:10:56.383556",
     "status": "completed"
    },
    "pycharm": {
     "name": "#%%\n"
    },
    "tags": []
   },
   "outputs": [],
   "source": [
    "from keras_preprocessing.sequence import pad_sequences\n",
    "\n",
    "# Set the maximum sequence length. The longest sequence in our training set is 47, but we'll leave room on the end anyway.\n",
    "# In the original paper, the authors used a length of 512.\n",
    "MAX_LEN = 64\n",
    "# Use the BERT tokenizer to convert the tokens to their index numbers in the BERT vocabulary\n",
    "input_ids = [tokenizer.convert_tokens_to_ids(x) for x in df['bert_tokens']]\n",
    "# Pad our input tokens\n",
    "input_ids = pad_sequences(input_ids, maxlen=MAX_LEN, dtype=\"long\", truncating=\"post\", padding=\"post\")\n",
    "# Create attention masks\n",
    "attention_masks = []\n",
    "\n",
    "# Create a mask of 1s for each token followed by 0s for padding\n",
    "for seq in input_ids:\n",
    "    seq_mask = [float(i>0) for i in seq]\n",
    "    attention_masks.append(seq_mask)"
   ]
  },
  {
   "cell_type": "code",
   "execution_count": 26,
   "id": "40f01b52",
   "metadata": {
    "execution": {
     "iopub.execute_input": "2022-09-20T07:10:56.526642Z",
     "iopub.status.busy": "2022-09-20T07:10:56.526321Z",
     "iopub.status.idle": "2022-09-20T07:10:56.544737Z",
     "shell.execute_reply": "2022-09-20T07:10:56.543831Z"
    },
    "id": "ip_wd-t9ugw5",
    "papermill": {
     "duration": 0.036925,
     "end_time": "2022-09-20T07:10:56.546925",
     "exception": false,
     "start_time": "2022-09-20T07:10:56.510000",
     "status": "completed"
    },
    "pycharm": {
     "name": "#%%\n"
    },
    "tags": []
   },
   "outputs": [],
   "source": [
    "import torch\n",
    "from torch.utils.data import TensorDataset, DataLoader\n",
    "from sklearn.model_selection import train_test_split\n",
    "\n",
    "# Use train_test_split to split our data into train and validation sets for training\n",
    "train_inputs, validation_inputs, train_labels, validation_labels = train_test_split(input_ids, encoded_labels,\n",
    "                                                            random_state=seed, test_size=0.1)\n",
    "train_masks, validation_masks, _, _ = train_test_split(attention_masks, input_ids,\n",
    "                                             random_state=seed, test_size=0.1)\n",
    "# Convert all of our data into torch tensors, the required datatype for our model\n",
    "\n",
    "train_inputs = torch.tensor(train_inputs)\n",
    "validation_inputs = torch.tensor(validation_inputs)\n",
    "train_labels = torch.tensor(train_labels)\n",
    "validation_labels = torch.tensor(validation_labels)\n",
    "train_masks = torch.tensor(train_masks)\n",
    "validation_masks = torch.tensor(validation_masks)\n",
    "# Select a batch size for training. For fine-tuning BERT on a specific task, the authors recommend a batch size of 16 or 32\n",
    "batch_size = 64\n",
    "\n",
    "# Create an iterator of our data with torch DataLoader. This helps save on memory during training because, unlike a for loop,\n",
    "# with an iterator the entire dataset does not need to be loaded into memory\n",
    "\n",
    "train_data = TensorDataset(train_inputs, train_masks, train_labels)\n",
    "train_dataloader = DataLoader(train_data, batch_size=batch_size)\n",
    "\n",
    "validation_data = TensorDataset(validation_inputs, validation_masks, validation_labels)\n",
    "validation_dataloader = DataLoader(validation_data, batch_size=batch_size)"
   ]
  },
  {
   "cell_type": "markdown",
   "id": "07968896",
   "metadata": {
    "id": "CEvllsdYugw5",
    "papermill": {
     "duration": 0.014856,
     "end_time": "2022-09-20T07:10:56.577456",
     "exception": false,
     "start_time": "2022-09-20T07:10:56.562600",
     "status": "completed"
    },
    "pycharm": {
     "name": "#%% md\n"
    },
    "tags": []
   },
   "source": [
    "## Set optimizer parameters"
   ]
  },
  {
   "cell_type": "code",
   "execution_count": 27,
   "id": "94a55f3f",
   "metadata": {
    "execution": {
     "iopub.execute_input": "2022-09-20T07:10:56.609556Z",
     "iopub.status.busy": "2022-09-20T07:10:56.609238Z",
     "iopub.status.idle": "2022-09-20T07:10:56.616904Z",
     "shell.execute_reply": "2022-09-20T07:10:56.615929Z"
    },
    "id": "SIutfqrnugw5",
    "papermill": {
     "duration": 0.026109,
     "end_time": "2022-09-20T07:10:56.619161",
     "exception": false,
     "start_time": "2022-09-20T07:10:56.593052",
     "status": "completed"
    },
    "pycharm": {
     "name": "#%%\n"
    },
    "tags": []
   },
   "outputs": [],
   "source": [
    "import torch.optim as optim\n",
    "\n",
    "param_optimizer = list(model.named_parameters())\n",
    "no_decay = ['bias', 'gamma', 'beta']\n",
    "optimizer_grouped_parameters = [{'params': [p for n, p in param_optimizer if not any(nd in n for nd in no_decay)],'weight_decay_rate': 0.01},\n",
    "                                {'params': [p for n, p in param_optimizer if any(nd in n for nd in no_decay)],'weight_decay_rate': 0.0}]\n",
    "# This variable contains all of the hyperparemeter information our training loop needs\n",
    "# optimizer = optim.BertAdam(optimizer_grouped_parameters,lr=2e-5,warmup=.1)\n",
    "# optimizer = optim.AdamW(optimizer_grouped_parameters,lr=5e-6)\n",
    "optimizer = optim.AdamW(optimizer_grouped_parameters,lr=.00001)"
   ]
  },
  {
   "cell_type": "markdown",
   "id": "078edd27",
   "metadata": {
    "id": "sZZCYaUKugw5",
    "papermill": {
     "duration": 0.015094,
     "end_time": "2022-09-20T07:10:56.649320",
     "exception": false,
     "start_time": "2022-09-20T07:10:56.634226",
     "status": "completed"
    },
    "pycharm": {
     "name": "#%% md\n"
    },
    "tags": []
   },
   "source": [
    "# Training"
   ]
  },
  {
   "cell_type": "code",
   "execution_count": 28,
   "id": "be56d609",
   "metadata": {
    "execution": {
     "iopub.execute_input": "2022-09-20T07:10:56.681098Z",
     "iopub.status.busy": "2022-09-20T07:10:56.680794Z",
     "iopub.status.idle": "2022-09-20T07:13:05.933311Z",
     "shell.execute_reply": "2022-09-20T07:13:05.931268Z"
    },
    "id": "0kfOowbxugw6",
    "outputId": "5f51f984-57ff-485b-f6ef-40b4e3b175c8",
    "papermill": {
     "duration": 129.272763,
     "end_time": "2022-09-20T07:13:05.937122",
     "exception": false,
     "start_time": "2022-09-20T07:10:56.664359",
     "status": "completed"
    },
    "pycharm": {
     "name": "#%%\n"
    },
    "tags": []
   },
   "outputs": [
    {
     "name": "stderr",
     "output_type": "stream",
     "text": [
      "Epoch:   0%|          | 0/11 [00:00<?, ?it/s]"
     ]
    },
    {
     "name": "stdout",
     "output_type": "stream",
     "text": [
      "Train loss: 1.0426638804633042\n"
     ]
    },
    {
     "name": "stderr",
     "output_type": "stream",
     "text": [
      "Epoch:   9%|▉         | 1/11 [00:11<01:59, 11.94s/it]"
     ]
    },
    {
     "name": "stdout",
     "output_type": "stream",
     "text": [
      "Validation Accuracy: 0.6517857142857143\n",
      "Train loss: 0.7408206976693252\n"
     ]
    },
    {
     "name": "stderr",
     "output_type": "stream",
     "text": [
      "Epoch:  18%|█▊        | 2/11 [00:22<01:42, 11.41s/it]"
     ]
    },
    {
     "name": "stdout",
     "output_type": "stream",
     "text": [
      "Validation Accuracy: 0.6981026785714286\n",
      "Train loss: 0.49888533970405313\n"
     ]
    },
    {
     "name": "stderr",
     "output_type": "stream",
     "text": [
      "Epoch:  27%|██▋       | 3/11 [00:34<01:29, 11.24s/it]"
     ]
    },
    {
     "name": "stdout",
     "output_type": "stream",
     "text": [
      "Validation Accuracy: 0.7098214285714286\n",
      "Train loss: 0.34121368671285696\n"
     ]
    },
    {
     "name": "stderr",
     "output_type": "stream",
     "text": [
      "Epoch:  36%|███▋      | 4/11 [00:45<01:18, 11.16s/it]"
     ]
    },
    {
     "name": "stdout",
     "output_type": "stream",
     "text": [
      "Validation Accuracy: 0.6741071428571428\n",
      "Train loss: 0.28795710051881857\n"
     ]
    },
    {
     "name": "stderr",
     "output_type": "stream",
     "text": [
      "Epoch:  45%|████▌     | 5/11 [00:56<01:06, 11.12s/it]"
     ]
    },
    {
     "name": "stdout",
     "output_type": "stream",
     "text": [
      "Validation Accuracy: 0.6997767857142857\n",
      "Train loss: 0.2097340326370864\n"
     ]
    },
    {
     "name": "stderr",
     "output_type": "stream",
     "text": [
      "Epoch:  55%|█████▍    | 6/11 [01:07<00:55, 11.09s/it]"
     ]
    },
    {
     "name": "stdout",
     "output_type": "stream",
     "text": [
      "Validation Accuracy: 0.7098214285714286\n",
      "Train loss: 0.10513628068669088\n"
     ]
    },
    {
     "name": "stderr",
     "output_type": "stream",
     "text": [
      "Epoch:  64%|██████▎   | 7/11 [01:18<00:44, 11.07s/it]"
     ]
    },
    {
     "name": "stdout",
     "output_type": "stream",
     "text": [
      "Validation Accuracy: 0.7215401785714286\n",
      "Train loss: 0.08320913778553748\n"
     ]
    },
    {
     "name": "stderr",
     "output_type": "stream",
     "text": [
      "Epoch:  73%|███████▎  | 8/11 [01:29<00:33, 11.05s/it]"
     ]
    },
    {
     "name": "stdout",
     "output_type": "stream",
     "text": [
      "Validation Accuracy: 0.6568080357142857\n",
      "Train loss: 0.06793176466277961\n"
     ]
    },
    {
     "name": "stderr",
     "output_type": "stream",
     "text": [
      "Epoch:  82%|████████▏ | 9/11 [01:40<00:22, 11.04s/it]"
     ]
    },
    {
     "name": "stdout",
     "output_type": "stream",
     "text": [
      "Validation Accuracy: 0.7416294642857143\n",
      "Train loss: 0.04434245683509728\n"
     ]
    },
    {
     "name": "stderr",
     "output_type": "stream",
     "text": [
      "Epoch:  91%|█████████ | 10/11 [01:51<00:11, 11.04s/it]"
     ]
    },
    {
     "name": "stdout",
     "output_type": "stream",
     "text": [
      "Validation Accuracy: 0.7299107142857143\n",
      "Train loss: 0.06369137057456477\n"
     ]
    },
    {
     "name": "stderr",
     "output_type": "stream",
     "text": [
      "Epoch: 100%|██████████| 11/11 [02:02<00:00, 11.11s/it]"
     ]
    },
    {
     "name": "stdout",
     "output_type": "stream",
     "text": [
      "Validation Accuracy: 0.7081473214285714\n"
     ]
    },
    {
     "name": "stderr",
     "output_type": "stream",
     "text": [
      "\n"
     ]
    }
   ],
   "source": [
    "from tqdm import trange\n",
    "import numpy as np\n",
    "# Function to calculate the accuracy of our predictions vs labels\n",
    "def flat_accuracy(preds, labels):\n",
    "    pred_flat = np.argmax(preds, axis=1).flatten()\n",
    "    labels_flat = labels.flatten()\n",
    "    return np.sum(pred_flat == labels_flat) / len(labels_flat)\n",
    "t = []\n",
    "\n",
    "# Store our loss and accuracy for plotting\n",
    "train_loss_set = []\n",
    "\n",
    "# Number of training epochs\n",
    "epochs = 11\n",
    "\n",
    "# Transfer the model to GPU\n",
    "model.to(\"cuda\")\n",
    "\n",
    "# trange is a tqdm wrapper around the normal python range\n",
    "for _ in trange(epochs, desc=\"Epoch\"):\n",
    "\n",
    "\n",
    "  # Training\n",
    "\n",
    "  # Set our model to training mode (as opposed to evaluation mode)\n",
    "  model.train()\n",
    "\n",
    "  # Tracking variables\n",
    "  tr_loss = 0\n",
    "  nb_tr_examples, nb_tr_steps = 0, 0\n",
    "\n",
    "  # Train the data for one epoch\n",
    "  for step, batch in enumerate(train_dataloader):\n",
    "    # Add batch to GPU\n",
    "    b_input_ids, b_input_mask, b_labels = batch\n",
    "    b_labels = b_labels.type(torch.LongTensor)   # casting to long\n",
    "    # Clear out the gradients (by default they accumulate)\n",
    "    optimizer.zero_grad()\n",
    "\n",
    "    # Forward pass\n",
    "    loss = model(b_input_ids.to(\"cuda\"), token_type_ids=None, attention_mask=b_input_mask.to(\"cuda\"), labels=b_labels.to(\"cuda\"))[\"loss\"]\n",
    "    train_loss_set.append(loss.item())\n",
    "\n",
    "    # Backward pass\n",
    "    loss.backward()\n",
    "\n",
    "    # Update parameters and take a step using the computed gradient\n",
    "    optimizer.step()\n",
    "\n",
    "\n",
    "    # Update tracking variables\n",
    "    tr_loss += loss.item()\n",
    "    nb_tr_examples += b_input_ids.size(0)\n",
    "    nb_tr_steps += 1\n",
    "\n",
    "  print(\"Train loss: {}\".format(tr_loss/nb_tr_steps))\n",
    "\n",
    "  # Validation\n",
    "\n",
    "  # Put model in evaluation mode to evaluate loss on the validation set\n",
    "  model.eval()\n",
    "\n",
    "  # Tracking variables\n",
    "  eval_loss, eval_accuracy = 0, 0\n",
    "  nb_eval_steps, nb_eval_examples = 0, 0\n",
    "\n",
    "  # Evaluate data for one epoch\n",
    "  for batch in validation_dataloader:\n",
    "    # Add batch to GPU\n",
    "    # batch = tuple(t.to(device) for t in batch)\n",
    "    # Unpack the inputs from our dataloader\n",
    "    b_input_ids, b_input_mask, b_labels = batch\n",
    "    b_labels = b_labels.type(torch.LongTensor)   # casting to long\n",
    "    # Telling the model not to compute or store gradients, saving memory and speeding up validation\n",
    "    with torch.no_grad():\n",
    "      # Forward pass, calculate logit predictions\n",
    "      logits = model(b_input_ids.to(\"cuda\"), token_type_ids=None, attention_mask=b_input_mask.to(\"cuda\"))\n",
    "\n",
    "    # Move logits and labels to CPU\n",
    "    logits = logits[\"logits\"].detach().cpu().numpy()\n",
    "    label_ids = b_labels.to('cpu').numpy()\n",
    "\n",
    "    tmp_eval_accuracy = flat_accuracy(logits, label_ids)\n",
    "\n",
    "    eval_accuracy += tmp_eval_accuracy\n",
    "    nb_eval_steps += 1\n",
    "\n",
    "  print(\"Validation Accuracy: {}\".format(eval_accuracy/nb_eval_steps))\n",
    "  if (eval_accuracy/nb_eval_steps) > 0.77 :\n",
    "    break"
   ]
  },
  {
   "cell_type": "markdown",
   "id": "1224b8df",
   "metadata": {
    "id": "4onlufXWCqWi",
    "papermill": {
     "duration": 0.016895,
     "end_time": "2022-09-20T07:13:05.971179",
     "exception": false,
     "start_time": "2022-09-20T07:13:05.954284",
     "status": "completed"
    },
    "tags": []
   },
   "source": [
    "# Prepare testset with the same preprocessing"
   ]
  },
  {
   "cell_type": "code",
   "execution_count": 29,
   "id": "55761b43",
   "metadata": {
    "execution": {
     "iopub.execute_input": "2022-09-20T07:13:06.006279Z",
     "iopub.status.busy": "2022-09-20T07:13:06.005938Z",
     "iopub.status.idle": "2022-09-20T07:13:06.445273Z",
     "shell.execute_reply": "2022-09-20T07:13:06.443996Z"
    },
    "id": "yJ2XSmwSugw6",
    "outputId": "e867b33c-053f-44b5-ecbf-c6560935b350",
    "papermill": {
     "duration": 0.461772,
     "end_time": "2022-09-20T07:13:06.449716",
     "exception": false,
     "start_time": "2022-09-20T07:13:05.987944",
     "status": "completed"
    },
    "pycharm": {
     "name": "#%%\n"
    },
    "tags": []
   },
   "outputs": [
    {
     "name": "stderr",
     "output_type": "stream",
     "text": [
      "/opt/conda/lib/python3.7/site-packages/ipykernel_launcher.py:20: DeprecationWarning: 'emoji.get_emoji_regexp()' is deprecated and will be removed in version 2.0.0. If you want to remove emoji from a string, consider the method emoji.replace_emoji(str, replace='').\n",
      "To hide this warning, pin/downgrade the package to 'emoji~=1.6.3'\n"
     ]
    }
   ],
   "source": [
    "#============= Read CSV and apply data preperation =============#\n",
    "df_submit = pd.read_csv(\"./Twitter_test.csv\")\n",
    "\n",
    "df_submit[\"tweet\"] = df_submit.tweet.apply(lambda x: data_cleaning(x))\n",
    "df_submit=data_preprocessing(df_submit)\n",
    "\n",
    "df_submit['tweet']=df_submit['tweet'].apply(lambda x: arabert_prep.preprocess(x))\n",
    "\n",
    "# Tokenize the sentences using bert tokenizer\n",
    "df_submit[\"bert_tokens\"] = df_submit.tweet.apply(lambda x: tokenizer(x).tokens())"
   ]
  },
  {
   "cell_type": "code",
   "execution_count": 30,
   "id": "3041431d",
   "metadata": {
    "execution": {
     "iopub.execute_input": "2022-09-20T07:13:06.517830Z",
     "iopub.status.busy": "2022-09-20T07:13:06.517164Z",
     "iopub.status.idle": "2022-09-20T07:13:06.525360Z",
     "shell.execute_reply": "2022-09-20T07:13:06.524294Z"
    },
    "id": "G7iPpop4ytzT",
    "papermill": {
     "duration": 0.051682,
     "end_time": "2022-09-20T07:13:06.530804",
     "exception": false,
     "start_time": "2022-09-20T07:13:06.479122",
     "status": "completed"
    },
    "pycharm": {
     "name": "#%%\n"
    },
    "tags": []
   },
   "outputs": [],
   "source": [
    "bert_tokens_submit = df_submit[\"bert_tokens\"]"
   ]
  },
  {
   "cell_type": "code",
   "execution_count": 31,
   "id": "f58ec43a",
   "metadata": {
    "execution": {
     "iopub.execute_input": "2022-09-20T07:13:06.602946Z",
     "iopub.status.busy": "2022-09-20T07:13:06.602464Z",
     "iopub.status.idle": "2022-09-20T07:13:06.667120Z",
     "shell.execute_reply": "2022-09-20T07:13:06.666162Z"
    },
    "id": "Z1vJgu5f0A-3",
    "papermill": {
     "duration": 0.10807,
     "end_time": "2022-09-20T07:13:06.670113",
     "exception": false,
     "start_time": "2022-09-20T07:13:06.562043",
     "status": "completed"
    },
    "pycharm": {
     "name": "#%%\n"
    },
    "tags": []
   },
   "outputs": [],
   "source": [
    "# Set the maximum sequence length. The longest sequence in our training set is 47, but we'll leave room on the end anyway. \n",
    "# In the original paper, the authors used a length of 512.\n",
    "MAX_LEN = 64\n",
    "# Use the BERT tokenizer to convert the tokens to their index numbers in the BERT vocabulary\n",
    "input_ids_submit = [tokenizer.convert_tokens_to_ids(x) for x in bert_tokens_submit]\n",
    "# Pad our input tokens\n",
    "input_ids_submit = pad_sequences(input_ids_submit, maxlen=MAX_LEN, dtype=\"long\", truncating=\"post\", padding=\"post\")\n",
    "# Create attention masks\n",
    "attention_masks_submit = []\n",
    "\n",
    "# Create a mask of 1s for each token followed by 0s for padding\n",
    "for seq in input_ids_submit:\n",
    "    seq_mask = [float(i>0) for i in seq]\n",
    "    attention_masks_submit.append(seq_mask)"
   ]
  },
  {
   "cell_type": "code",
   "execution_count": 32,
   "id": "3b1d9da2",
   "metadata": {
    "execution": {
     "iopub.execute_input": "2022-09-20T07:13:06.727218Z",
     "iopub.status.busy": "2022-09-20T07:13:06.726847Z",
     "iopub.status.idle": "2022-09-20T07:13:06.738391Z",
     "shell.execute_reply": "2022-09-20T07:13:06.737395Z"
    },
    "id": "HUeIG5WD0M9n",
    "papermill": {
     "duration": 0.042055,
     "end_time": "2022-09-20T07:13:06.740752",
     "exception": false,
     "start_time": "2022-09-20T07:13:06.698697",
     "status": "completed"
    },
    "pycharm": {
     "name": "#%%\n"
    },
    "tags": []
   },
   "outputs": [],
   "source": [
    "# Convert all of our data into torch tensors, the required datatype for our model\n",
    "inputs_submit = torch.tensor(input_ids_submit)\n",
    "masks_submit = torch.tensor(attention_masks_submit)\n",
    "\n",
    "# Create an iterator of our data with torch DataLoader. This helps save on memory during training because, unlike a for loop, \n",
    "# with an iterator the entire dataset does not need to be loaded into memory\n",
    "batch_size = 64\n",
    "submit_data = TensorDataset(inputs_submit, masks_submit)\n",
    "\n",
    "# do not use shuffle, we need the preds to be in same order\n",
    "submit_dataloader = DataLoader(submit_data, batch_size=batch_size)#, shuffle=True)"
   ]
  },
  {
   "cell_type": "code",
   "execution_count": 33,
   "id": "8db36077",
   "metadata": {
    "execution": {
     "iopub.execute_input": "2022-09-20T07:13:06.792041Z",
     "iopub.status.busy": "2022-09-20T07:13:06.791702Z",
     "iopub.status.idle": "2022-09-20T07:13:09.098443Z",
     "shell.execute_reply": "2022-09-20T07:13:09.097358Z"
    },
    "id": "K-32QySM0Qpu",
    "papermill": {
     "duration": 2.334959,
     "end_time": "2022-09-20T07:13:09.100942",
     "exception": false,
     "start_time": "2022-09-20T07:13:06.765983",
     "status": "completed"
    },
    "pycharm": {
     "name": "#%%\n"
    },
    "tags": []
   },
   "outputs": [],
   "source": [
    "# Put the model in an evaluation state\n",
    "model.eval()\n",
    "\n",
    "# Transfer model to GPU\n",
    "model.to(\"cuda\")\n",
    "\n",
    "outputs = []\n",
    "for input, masks in submit_dataloader:\n",
    "    torch.cuda.empty_cache() # empty the gpu memory\n",
    "\n",
    "    # Transfer the batch to gpu\n",
    "    input = input.to('cuda')\n",
    "    masks = masks.to('cuda')\n",
    "\n",
    "    # Run inference on the batch\n",
    "    output = model(input, attention_mask=masks)[\"logits\"]\n",
    "\n",
    "    # Transfer the output to CPU again and convert to numpy\n",
    "    output = output.cpu().detach().numpy()\n",
    "\n",
    "    # Store the output in a list\n",
    "    outputs.append(output)\n",
    "\n",
    "# Concatenate all the lists within the list into one list\n",
    "outputs = [x for y in outputs for x in y]\n",
    "\n",
    "# Inverse transform the label encoding\n",
    "pred_flat = np.argmax(outputs, axis=1).flatten()\n",
    "output_labels = lable_encoder.inverse_transform(pred_flat)"
   ]
  },
  {
   "cell_type": "code",
   "execution_count": 34,
   "id": "2b1fef53",
   "metadata": {
    "execution": {
     "iopub.execute_input": "2022-09-20T07:13:09.139130Z",
     "iopub.status.busy": "2022-09-20T07:13:09.137375Z",
     "iopub.status.idle": "2022-09-20T07:13:09.146806Z",
     "shell.execute_reply": "2022-09-20T07:13:09.145995Z"
    },
    "id": "Az3ccyKv0SYu",
    "papermill": {
     "duration": 0.030329,
     "end_time": "2022-09-20T07:13:09.148852",
     "exception": false,
     "start_time": "2022-09-20T07:13:09.118523",
     "status": "completed"
    },
    "pycharm": {
     "name": "#%%\n"
    },
    "tags": []
   },
   "outputs": [],
   "source": [
    "submission = pd.DataFrame({\"Id\":np.arange(1, len(output_labels)+1), \"class\":output_labels})\n",
    "# save (submission)\n",
    "submission.to_csv(\"submission.csv\", index=False)"
   ]
  },
  {
   "cell_type": "code",
   "execution_count": null,
   "id": "7df0aaa2",
   "metadata": {
    "id": "NAo2Q_2F06Je",
    "papermill": {
     "duration": 0.017354,
     "end_time": "2022-09-20T07:13:09.183141",
     "exception": false,
     "start_time": "2022-09-20T07:13:09.165787",
     "status": "completed"
    },
    "pycharm": {
     "name": "#%%\n"
    },
    "tags": []
   },
   "outputs": [],
   "source": []
  }
 ],
 "metadata": {
  "kernelspec": {
   "display_name": "Python 3",
   "language": "python",
   "name": "python3"
  },
  "language_info": {
   "codemirror_mode": {
    "name": "ipython",
    "version": 3
   },
   "file_extension": ".py",
   "mimetype": "text/x-python",
   "name": "python",
   "nbconvert_exporter": "python",
   "pygments_lexer": "ipython3",
   "version": "3.7.12"
  },
  "papermill": {
   "default_parameters": {},
   "duration": 302.539353,
   "end_time": "2022-09-20T07:13:12.312517",
   "environment_variables": {},
   "exception": null,
   "input_path": "__notebook__.ipynb",
   "output_path": "__notebook__.ipynb",
   "parameters": {},
   "start_time": "2022-09-20T07:08:09.773164",
   "version": "2.3.4"
  },
  "widgets": {
   "application/vnd.jupyter.widget-state+json": {
    "state": {
     "06c3e4e658574fcfb84a217c14e0de50": {
      "model_module": "@jupyter-widgets/controls",
      "model_module_version": "1.5.0",
      "model_name": "DescriptionStyleModel",
      "state": {
       "_model_module": "@jupyter-widgets/controls",
       "_model_module_version": "1.5.0",
       "_model_name": "DescriptionStyleModel",
       "_view_count": null,
       "_view_module": "@jupyter-widgets/base",
       "_view_module_version": "1.2.0",
       "_view_name": "StyleView",
       "description_width": ""
      }
     },
     "06ff3ececf5946fba0fe0dd647d37f1e": {
      "model_module": "@jupyter-widgets/controls",
      "model_module_version": "1.5.0",
      "model_name": "DescriptionStyleModel",
      "state": {
       "_model_module": "@jupyter-widgets/controls",
       "_model_module_version": "1.5.0",
       "_model_name": "DescriptionStyleModel",
       "_view_count": null,
       "_view_module": "@jupyter-widgets/base",
       "_view_module_version": "1.2.0",
       "_view_name": "StyleView",
       "description_width": ""
      }
     },
     "0a940a92894d4883983b6f929fe7ed45": {
      "model_module": "@jupyter-widgets/controls",
      "model_module_version": "1.5.0",
      "model_name": "DescriptionStyleModel",
      "state": {
       "_model_module": "@jupyter-widgets/controls",
       "_model_module_version": "1.5.0",
       "_model_name": "DescriptionStyleModel",
       "_view_count": null,
       "_view_module": "@jupyter-widgets/base",
       "_view_module_version": "1.2.0",
       "_view_name": "StyleView",
       "description_width": ""
      }
     },
     "1a3698d4056746dda84c3d8010473de6": {
      "model_module": "@jupyter-widgets/base",
      "model_module_version": "1.2.0",
      "model_name": "LayoutModel",
      "state": {
       "_model_module": "@jupyter-widgets/base",
       "_model_module_version": "1.2.0",
       "_model_name": "LayoutModel",
       "_view_count": null,
       "_view_module": "@jupyter-widgets/base",
       "_view_module_version": "1.2.0",
       "_view_name": "LayoutView",
       "align_content": null,
       "align_items": null,
       "align_self": null,
       "border": null,
       "bottom": null,
       "display": null,
       "flex": null,
       "flex_flow": null,
       "grid_area": null,
       "grid_auto_columns": null,
       "grid_auto_flow": null,
       "grid_auto_rows": null,
       "grid_column": null,
       "grid_gap": null,
       "grid_row": null,
       "grid_template_areas": null,
       "grid_template_columns": null,
       "grid_template_rows": null,
       "height": null,
       "justify_content": null,
       "justify_items": null,
       "left": null,
       "margin": null,
       "max_height": null,
       "max_width": null,
       "min_height": null,
       "min_width": null,
       "object_fit": null,
       "object_position": null,
       "order": null,
       "overflow": null,
       "overflow_x": null,
       "overflow_y": null,
       "padding": null,
       "right": null,
       "top": null,
       "visibility": null,
       "width": null
      }
     },
     "1a5ae8a1c37c457d847424713c80a047": {
      "model_module": "@jupyter-widgets/controls",
      "model_module_version": "1.5.0",
      "model_name": "HBoxModel",
      "state": {
       "_dom_classes": [],
       "_model_module": "@jupyter-widgets/controls",
       "_model_module_version": "1.5.0",
       "_model_name": "HBoxModel",
       "_view_count": null,
       "_view_module": "@jupyter-widgets/controls",
       "_view_module_version": "1.5.0",
       "_view_name": "HBoxView",
       "box_style": "",
       "children": [
        "IPY_MODEL_89ef2396a78c4c599596f4cf2900fb88",
        "IPY_MODEL_904b50f59f904afa8e3a0b719c8760b3",
        "IPY_MODEL_c23e67baf7f442d88889600d24cdc962"
       ],
       "layout": "IPY_MODEL_ea0604331f784da9982df22e981eff23"
      }
     },
     "234da94042984a37bb353638772ade7a": {
      "model_module": "@jupyter-widgets/base",
      "model_module_version": "1.2.0",
      "model_name": "LayoutModel",
      "state": {
       "_model_module": "@jupyter-widgets/base",
       "_model_module_version": "1.2.0",
       "_model_name": "LayoutModel",
       "_view_count": null,
       "_view_module": "@jupyter-widgets/base",
       "_view_module_version": "1.2.0",
       "_view_name": "LayoutView",
       "align_content": null,
       "align_items": null,
       "align_self": null,
       "border": null,
       "bottom": null,
       "display": null,
       "flex": null,
       "flex_flow": null,
       "grid_area": null,
       "grid_auto_columns": null,
       "grid_auto_flow": null,
       "grid_auto_rows": null,
       "grid_column": null,
       "grid_gap": null,
       "grid_row": null,
       "grid_template_areas": null,
       "grid_template_columns": null,
       "grid_template_rows": null,
       "height": null,
       "justify_content": null,
       "justify_items": null,
       "left": null,
       "margin": null,
       "max_height": null,
       "max_width": null,
       "min_height": null,
       "min_width": null,
       "object_fit": null,
       "object_position": null,
       "order": null,
       "overflow": null,
       "overflow_x": null,
       "overflow_y": null,
       "padding": null,
       "right": null,
       "top": null,
       "visibility": null,
       "width": null
      }
     },
     "2582c7e564944ab58ca41bcf7eb4b3ea": {
      "model_module": "@jupyter-widgets/controls",
      "model_module_version": "1.5.0",
      "model_name": "FloatProgressModel",
      "state": {
       "_dom_classes": [],
       "_model_module": "@jupyter-widgets/controls",
       "_model_module_version": "1.5.0",
       "_model_name": "FloatProgressModel",
       "_view_count": null,
       "_view_module": "@jupyter-widgets/controls",
       "_view_module_version": "1.5.0",
       "_view_name": "ProgressView",
       "bar_style": "success",
       "description": "",
       "description_tooltip": null,
       "layout": "IPY_MODEL_1a3698d4056746dda84c3d8010473de6",
       "max": 376.0,
       "min": 0.0,
       "orientation": "horizontal",
       "style": "IPY_MODEL_f7a0f6dbb8df49c2b58aa0b6f14097fb",
       "value": 376.0
      }
     },
     "268aa54ff8874652b6bfe1f4ca4f7533": {
      "model_module": "@jupyter-widgets/controls",
      "model_module_version": "1.5.0",
      "model_name": "DescriptionStyleModel",
      "state": {
       "_model_module": "@jupyter-widgets/controls",
       "_model_module_version": "1.5.0",
       "_model_name": "DescriptionStyleModel",
       "_view_count": null,
       "_view_module": "@jupyter-widgets/base",
       "_view_module_version": "1.2.0",
       "_view_name": "StyleView",
       "description_width": ""
      }
     },
     "2b45c1892879470c8b43fa7256b7e8a9": {
      "model_module": "@jupyter-widgets/base",
      "model_module_version": "1.2.0",
      "model_name": "LayoutModel",
      "state": {
       "_model_module": "@jupyter-widgets/base",
       "_model_module_version": "1.2.0",
       "_model_name": "LayoutModel",
       "_view_count": null,
       "_view_module": "@jupyter-widgets/base",
       "_view_module_version": "1.2.0",
       "_view_name": "LayoutView",
       "align_content": null,
       "align_items": null,
       "align_self": null,
       "border": null,
       "bottom": null,
       "display": null,
       "flex": null,
       "flex_flow": null,
       "grid_area": null,
       "grid_auto_columns": null,
       "grid_auto_flow": null,
       "grid_auto_rows": null,
       "grid_column": null,
       "grid_gap": null,
       "grid_row": null,
       "grid_template_areas": null,
       "grid_template_columns": null,
       "grid_template_rows": null,
       "height": null,
       "justify_content": null,
       "justify_items": null,
       "left": null,
       "margin": null,
       "max_height": null,
       "max_width": null,
       "min_height": null,
       "min_width": null,
       "object_fit": null,
       "object_position": null,
       "order": null,
       "overflow": null,
       "overflow_x": null,
       "overflow_y": null,
       "padding": null,
       "right": null,
       "top": null,
       "visibility": null,
       "width": null
      }
     },
     "302807127d7943fdb4f14b675ac55966": {
      "model_module": "@jupyter-widgets/base",
      "model_module_version": "1.2.0",
      "model_name": "LayoutModel",
      "state": {
       "_model_module": "@jupyter-widgets/base",
       "_model_module_version": "1.2.0",
       "_model_name": "LayoutModel",
       "_view_count": null,
       "_view_module": "@jupyter-widgets/base",
       "_view_module_version": "1.2.0",
       "_view_name": "LayoutView",
       "align_content": null,
       "align_items": null,
       "align_self": null,
       "border": null,
       "bottom": null,
       "display": null,
       "flex": null,
       "flex_flow": null,
       "grid_area": null,
       "grid_auto_columns": null,
       "grid_auto_flow": null,
       "grid_auto_rows": null,
       "grid_column": null,
       "grid_gap": null,
       "grid_row": null,
       "grid_template_areas": null,
       "grid_template_columns": null,
       "grid_template_rows": null,
       "height": null,
       "justify_content": null,
       "justify_items": null,
       "left": null,
       "margin": null,
       "max_height": null,
       "max_width": null,
       "min_height": null,
       "min_width": null,
       "object_fit": null,
       "object_position": null,
       "order": null,
       "overflow": null,
       "overflow_x": null,
       "overflow_y": null,
       "padding": null,
       "right": null,
       "top": null,
       "visibility": null,
       "width": null
      }
     },
     "390b25c097cf4bd5b131abed0d36f29b": {
      "model_module": "@jupyter-widgets/controls",
      "model_module_version": "1.5.0",
      "model_name": "HTMLModel",
      "state": {
       "_dom_classes": [],
       "_model_module": "@jupyter-widgets/controls",
       "_model_module_version": "1.5.0",
       "_model_name": "HTMLModel",
       "_view_count": null,
       "_view_module": "@jupyter-widgets/controls",
       "_view_module_version": "1.5.0",
       "_view_name": "HTMLView",
       "description": "",
       "description_tooltip": null,
       "layout": "IPY_MODEL_7d050db5cecc495a8b2ada14924e4e01",
       "placeholder": "​",
       "style": "IPY_MODEL_0a940a92894d4883983b6f929fe7ed45",
       "value": " 376/376 [00:00&lt;00:00, 13.6kB/s]"
      }
     },
     "3a92f0089e914feead66a6e965ec849f": {
      "model_module": "@jupyter-widgets/controls",
      "model_module_version": "1.5.0",
      "model_name": "HTMLModel",
      "state": {
       "_dom_classes": [],
       "_model_module": "@jupyter-widgets/controls",
       "_model_module_version": "1.5.0",
       "_model_name": "HTMLModel",
       "_view_count": null,
       "_view_module": "@jupyter-widgets/controls",
       "_view_module_version": "1.5.0",
       "_view_name": "HTMLView",
       "description": "",
       "description_tooltip": null,
       "layout": "IPY_MODEL_561d2fc20a0a4571abdf57641c93d5ee",
       "placeholder": "​",
       "style": "IPY_MODEL_268aa54ff8874652b6bfe1f4ca4f7533",
       "value": "Downloading: 100%"
      }
     },
     "3bc6962688d94d9e91ec4e1645fa49e7": {
      "model_module": "@jupyter-widgets/controls",
      "model_module_version": "1.5.0",
      "model_name": "HTMLModel",
      "state": {
       "_dom_classes": [],
       "_model_module": "@jupyter-widgets/controls",
       "_model_module_version": "1.5.0",
       "_model_name": "HTMLModel",
       "_view_count": null,
       "_view_module": "@jupyter-widgets/controls",
       "_view_module_version": "1.5.0",
       "_view_name": "HTMLView",
       "description": "",
       "description_tooltip": null,
       "layout": "IPY_MODEL_cc14e1a2fb2c404c94aa2dddf544abbf",
       "placeholder": "​",
       "style": "IPY_MODEL_06ff3ececf5946fba0fe0dd647d37f1e",
       "value": "Downloading: 100%"
      }
     },
     "40c3c7ad6a1f4523a2db9bc395198acc": {
      "model_module": "@jupyter-widgets/base",
      "model_module_version": "1.2.0",
      "model_name": "LayoutModel",
      "state": {
       "_model_module": "@jupyter-widgets/base",
       "_model_module_version": "1.2.0",
       "_model_name": "LayoutModel",
       "_view_count": null,
       "_view_module": "@jupyter-widgets/base",
       "_view_module_version": "1.2.0",
       "_view_name": "LayoutView",
       "align_content": null,
       "align_items": null,
       "align_self": null,
       "border": null,
       "bottom": null,
       "display": null,
       "flex": null,
       "flex_flow": null,
       "grid_area": null,
       "grid_auto_columns": null,
       "grid_auto_flow": null,
       "grid_auto_rows": null,
       "grid_column": null,
       "grid_gap": null,
       "grid_row": null,
       "grid_template_areas": null,
       "grid_template_columns": null,
       "grid_template_rows": null,
       "height": null,
       "justify_content": null,
       "justify_items": null,
       "left": null,
       "margin": null,
       "max_height": null,
       "max_width": null,
       "min_height": null,
       "min_width": null,
       "object_fit": null,
       "object_position": null,
       "order": null,
       "overflow": null,
       "overflow_x": null,
       "overflow_y": null,
       "padding": null,
       "right": null,
       "top": null,
       "visibility": null,
       "width": null
      }
     },
     "4d140d5920234e6fa6bdbcfa67b1f83d": {
      "model_module": "@jupyter-widgets/controls",
      "model_module_version": "1.5.0",
      "model_name": "DescriptionStyleModel",
      "state": {
       "_model_module": "@jupyter-widgets/controls",
       "_model_module_version": "1.5.0",
       "_model_name": "DescriptionStyleModel",
       "_view_count": null,
       "_view_module": "@jupyter-widgets/base",
       "_view_module_version": "1.2.0",
       "_view_name": "StyleView",
       "description_width": ""
      }
     },
     "5109b27d69e14f87b312171d95e5228c": {
      "model_module": "@jupyter-widgets/controls",
      "model_module_version": "1.5.0",
      "model_name": "DescriptionStyleModel",
      "state": {
       "_model_module": "@jupyter-widgets/controls",
       "_model_module_version": "1.5.0",
       "_model_name": "DescriptionStyleModel",
       "_view_count": null,
       "_view_module": "@jupyter-widgets/base",
       "_view_module_version": "1.2.0",
       "_view_name": "StyleView",
       "description_width": ""
      }
     },
     "561d2fc20a0a4571abdf57641c93d5ee": {
      "model_module": "@jupyter-widgets/base",
      "model_module_version": "1.2.0",
      "model_name": "LayoutModel",
      "state": {
       "_model_module": "@jupyter-widgets/base",
       "_model_module_version": "1.2.0",
       "_model_name": "LayoutModel",
       "_view_count": null,
       "_view_module": "@jupyter-widgets/base",
       "_view_module_version": "1.2.0",
       "_view_name": "LayoutView",
       "align_content": null,
       "align_items": null,
       "align_self": null,
       "border": null,
       "bottom": null,
       "display": null,
       "flex": null,
       "flex_flow": null,
       "grid_area": null,
       "grid_auto_columns": null,
       "grid_auto_flow": null,
       "grid_auto_rows": null,
       "grid_column": null,
       "grid_gap": null,
       "grid_row": null,
       "grid_template_areas": null,
       "grid_template_columns": null,
       "grid_template_rows": null,
       "height": null,
       "justify_content": null,
       "justify_items": null,
       "left": null,
       "margin": null,
       "max_height": null,
       "max_width": null,
       "min_height": null,
       "min_width": null,
       "object_fit": null,
       "object_position": null,
       "order": null,
       "overflow": null,
       "overflow_x": null,
       "overflow_y": null,
       "padding": null,
       "right": null,
       "top": null,
       "visibility": null,
       "width": null
      }
     },
     "58306713201f4632b82046bbbc2bee7a": {
      "model_module": "@jupyter-widgets/controls",
      "model_module_version": "1.5.0",
      "model_name": "FloatProgressModel",
      "state": {
       "_dom_classes": [],
       "_model_module": "@jupyter-widgets/controls",
       "_model_module_version": "1.5.0",
       "_model_name": "FloatProgressModel",
       "_view_count": null,
       "_view_module": "@jupyter-widgets/controls",
       "_view_module_version": "1.5.0",
       "_view_name": "ProgressView",
       "bar_style": "success",
       "description": "",
       "description_tooltip": null,
       "layout": "IPY_MODEL_7b193a00225546dea5e26b7b95a5cb7b",
       "max": 701.0,
       "min": 0.0,
       "orientation": "horizontal",
       "style": "IPY_MODEL_bb5b9ec083404a94b16544c0de4699d4",
       "value": 701.0
      }
     },
     "59d34b7a90d14271aa70d1cb923adb3f": {
      "model_module": "@jupyter-widgets/controls",
      "model_module_version": "1.5.0",
      "model_name": "HTMLModel",
      "state": {
       "_dom_classes": [],
       "_model_module": "@jupyter-widgets/controls",
       "_model_module_version": "1.5.0",
       "_model_name": "HTMLModel",
       "_view_count": null,
       "_view_module": "@jupyter-widgets/controls",
       "_view_module_version": "1.5.0",
       "_view_name": "HTMLView",
       "description": "",
       "description_tooltip": null,
       "layout": "IPY_MODEL_8d92761194c74935b2aaede49df2a565",
       "placeholder": "​",
       "style": "IPY_MODEL_5109b27d69e14f87b312171d95e5228c",
       "value": " 624M/624M [00:38&lt;00:00, 17.7MB/s]"
      }
     },
     "59f10610d58a4fefa004e3500cde9a2d": {
      "model_module": "@jupyter-widgets/controls",
      "model_module_version": "1.5.0",
      "model_name": "DescriptionStyleModel",
      "state": {
       "_model_module": "@jupyter-widgets/controls",
       "_model_module_version": "1.5.0",
       "_model_name": "DescriptionStyleModel",
       "_view_count": null,
       "_view_module": "@jupyter-widgets/base",
       "_view_module_version": "1.2.0",
       "_view_name": "StyleView",
       "description_width": ""
      }
     },
     "5cb11c7853154554a50263f8e97c6d2d": {
      "model_module": "@jupyter-widgets/controls",
      "model_module_version": "1.5.0",
      "model_name": "ProgressStyleModel",
      "state": {
       "_model_module": "@jupyter-widgets/controls",
       "_model_module_version": "1.5.0",
       "_model_name": "ProgressStyleModel",
       "_view_count": null,
       "_view_module": "@jupyter-widgets/base",
       "_view_module_version": "1.2.0",
       "_view_name": "StyleView",
       "bar_color": null,
       "description_width": ""
      }
     },
     "64077e4de6ac41d2b75b1164b3d932b1": {
      "model_module": "@jupyter-widgets/base",
      "model_module_version": "1.2.0",
      "model_name": "LayoutModel",
      "state": {
       "_model_module": "@jupyter-widgets/base",
       "_model_module_version": "1.2.0",
       "_model_name": "LayoutModel",
       "_view_count": null,
       "_view_module": "@jupyter-widgets/base",
       "_view_module_version": "1.2.0",
       "_view_name": "LayoutView",
       "align_content": null,
       "align_items": null,
       "align_self": null,
       "border": null,
       "bottom": null,
       "display": null,
       "flex": null,
       "flex_flow": null,
       "grid_area": null,
       "grid_auto_columns": null,
       "grid_auto_flow": null,
       "grid_auto_rows": null,
       "grid_column": null,
       "grid_gap": null,
       "grid_row": null,
       "grid_template_areas": null,
       "grid_template_columns": null,
       "grid_template_rows": null,
       "height": null,
       "justify_content": null,
       "justify_items": null,
       "left": null,
       "margin": null,
       "max_height": null,
       "max_width": null,
       "min_height": null,
       "min_width": null,
       "object_fit": null,
       "object_position": null,
       "order": null,
       "overflow": null,
       "overflow_x": null,
       "overflow_y": null,
       "padding": null,
       "right": null,
       "top": null,
       "visibility": null,
       "width": null
      }
     },
     "665cd7ae512a4c7c970ea419ffc13035": {
      "model_module": "@jupyter-widgets/base",
      "model_module_version": "1.2.0",
      "model_name": "LayoutModel",
      "state": {
       "_model_module": "@jupyter-widgets/base",
       "_model_module_version": "1.2.0",
       "_model_name": "LayoutModel",
       "_view_count": null,
       "_view_module": "@jupyter-widgets/base",
       "_view_module_version": "1.2.0",
       "_view_name": "LayoutView",
       "align_content": null,
       "align_items": null,
       "align_self": null,
       "border": null,
       "bottom": null,
       "display": null,
       "flex": null,
       "flex_flow": null,
       "grid_area": null,
       "grid_auto_columns": null,
       "grid_auto_flow": null,
       "grid_auto_rows": null,
       "grid_column": null,
       "grid_gap": null,
       "grid_row": null,
       "grid_template_areas": null,
       "grid_template_columns": null,
       "grid_template_rows": null,
       "height": null,
       "justify_content": null,
       "justify_items": null,
       "left": null,
       "margin": null,
       "max_height": null,
       "max_width": null,
       "min_height": null,
       "min_width": null,
       "object_fit": null,
       "object_position": null,
       "order": null,
       "overflow": null,
       "overflow_x": null,
       "overflow_y": null,
       "padding": null,
       "right": null,
       "top": null,
       "visibility": null,
       "width": null
      }
     },
     "69e8169614904beabf0f17e793570fac": {
      "model_module": "@jupyter-widgets/controls",
      "model_module_version": "1.5.0",
      "model_name": "HBoxModel",
      "state": {
       "_dom_classes": [],
       "_model_module": "@jupyter-widgets/controls",
       "_model_module_version": "1.5.0",
       "_model_name": "HBoxModel",
       "_view_count": null,
       "_view_module": "@jupyter-widgets/controls",
       "_view_module_version": "1.5.0",
       "_view_name": "HBoxView",
       "box_style": "",
       "children": [
        "IPY_MODEL_3a92f0089e914feead66a6e965ec849f",
        "IPY_MODEL_2582c7e564944ab58ca41bcf7eb4b3ea",
        "IPY_MODEL_390b25c097cf4bd5b131abed0d36f29b"
       ],
       "layout": "IPY_MODEL_9e45e156e13046b1923ff4707a03f1db"
      }
     },
     "705ff2619a074738b37aa07abbbd8133": {
      "model_module": "@jupyter-widgets/controls",
      "model_module_version": "1.5.0",
      "model_name": "HTMLModel",
      "state": {
       "_dom_classes": [],
       "_model_module": "@jupyter-widgets/controls",
       "_model_module_version": "1.5.0",
       "_model_name": "HTMLModel",
       "_view_count": null,
       "_view_module": "@jupyter-widgets/controls",
       "_view_module_version": "1.5.0",
       "_view_name": "HTMLView",
       "description": "",
       "description_tooltip": null,
       "layout": "IPY_MODEL_234da94042984a37bb353638772ade7a",
       "placeholder": "​",
       "style": "IPY_MODEL_7c22f447e1964e7e8f73b2c807e46cbc",
       "value": " 701/701 [00:00&lt;00:00, 24.5kB/s]"
      }
     },
     "71e77b5fc39c40049cb4cd7f53659303": {
      "model_module": "@jupyter-widgets/base",
      "model_module_version": "1.2.0",
      "model_name": "LayoutModel",
      "state": {
       "_model_module": "@jupyter-widgets/base",
       "_model_module_version": "1.2.0",
       "_model_name": "LayoutModel",
       "_view_count": null,
       "_view_module": "@jupyter-widgets/base",
       "_view_module_version": "1.2.0",
       "_view_name": "LayoutView",
       "align_content": null,
       "align_items": null,
       "align_self": null,
       "border": null,
       "bottom": null,
       "display": null,
       "flex": null,
       "flex_flow": null,
       "grid_area": null,
       "grid_auto_columns": null,
       "grid_auto_flow": null,
       "grid_auto_rows": null,
       "grid_column": null,
       "grid_gap": null,
       "grid_row": null,
       "grid_template_areas": null,
       "grid_template_columns": null,
       "grid_template_rows": null,
       "height": null,
       "justify_content": null,
       "justify_items": null,
       "left": null,
       "margin": null,
       "max_height": null,
       "max_width": null,
       "min_height": null,
       "min_width": null,
       "object_fit": null,
       "object_position": null,
       "order": null,
       "overflow": null,
       "overflow_x": null,
       "overflow_y": null,
       "padding": null,
       "right": null,
       "top": null,
       "visibility": null,
       "width": null
      }
     },
     "7b193a00225546dea5e26b7b95a5cb7b": {
      "model_module": "@jupyter-widgets/base",
      "model_module_version": "1.2.0",
      "model_name": "LayoutModel",
      "state": {
       "_model_module": "@jupyter-widgets/base",
       "_model_module_version": "1.2.0",
       "_model_name": "LayoutModel",
       "_view_count": null,
       "_view_module": "@jupyter-widgets/base",
       "_view_module_version": "1.2.0",
       "_view_name": "LayoutView",
       "align_content": null,
       "align_items": null,
       "align_self": null,
       "border": null,
       "bottom": null,
       "display": null,
       "flex": null,
       "flex_flow": null,
       "grid_area": null,
       "grid_auto_columns": null,
       "grid_auto_flow": null,
       "grid_auto_rows": null,
       "grid_column": null,
       "grid_gap": null,
       "grid_row": null,
       "grid_template_areas": null,
       "grid_template_columns": null,
       "grid_template_rows": null,
       "height": null,
       "justify_content": null,
       "justify_items": null,
       "left": null,
       "margin": null,
       "max_height": null,
       "max_width": null,
       "min_height": null,
       "min_width": null,
       "object_fit": null,
       "object_position": null,
       "order": null,
       "overflow": null,
       "overflow_x": null,
       "overflow_y": null,
       "padding": null,
       "right": null,
       "top": null,
       "visibility": null,
       "width": null
      }
     },
     "7c22f447e1964e7e8f73b2c807e46cbc": {
      "model_module": "@jupyter-widgets/controls",
      "model_module_version": "1.5.0",
      "model_name": "DescriptionStyleModel",
      "state": {
       "_model_module": "@jupyter-widgets/controls",
       "_model_module_version": "1.5.0",
       "_model_name": "DescriptionStyleModel",
       "_view_count": null,
       "_view_module": "@jupyter-widgets/base",
       "_view_module_version": "1.2.0",
       "_view_name": "StyleView",
       "description_width": ""
      }
     },
     "7d050db5cecc495a8b2ada14924e4e01": {
      "model_module": "@jupyter-widgets/base",
      "model_module_version": "1.2.0",
      "model_name": "LayoutModel",
      "state": {
       "_model_module": "@jupyter-widgets/base",
       "_model_module_version": "1.2.0",
       "_model_name": "LayoutModel",
       "_view_count": null,
       "_view_module": "@jupyter-widgets/base",
       "_view_module_version": "1.2.0",
       "_view_name": "LayoutView",
       "align_content": null,
       "align_items": null,
       "align_self": null,
       "border": null,
       "bottom": null,
       "display": null,
       "flex": null,
       "flex_flow": null,
       "grid_area": null,
       "grid_auto_columns": null,
       "grid_auto_flow": null,
       "grid_auto_rows": null,
       "grid_column": null,
       "grid_gap": null,
       "grid_row": null,
       "grid_template_areas": null,
       "grid_template_columns": null,
       "grid_template_rows": null,
       "height": null,
       "justify_content": null,
       "justify_items": null,
       "left": null,
       "margin": null,
       "max_height": null,
       "max_width": null,
       "min_height": null,
       "min_width": null,
       "object_fit": null,
       "object_position": null,
       "order": null,
       "overflow": null,
       "overflow_x": null,
       "overflow_y": null,
       "padding": null,
       "right": null,
       "top": null,
       "visibility": null,
       "width": null
      }
     },
     "802c765a44dd451db2fe580b1b64a48a": {
      "model_module": "@jupyter-widgets/controls",
      "model_module_version": "1.5.0",
      "model_name": "HBoxModel",
      "state": {
       "_dom_classes": [],
       "_model_module": "@jupyter-widgets/controls",
       "_model_module_version": "1.5.0",
       "_model_name": "HBoxModel",
       "_view_count": null,
       "_view_module": "@jupyter-widgets/controls",
       "_view_module_version": "1.5.0",
       "_view_name": "HBoxView",
       "box_style": "",
       "children": [
        "IPY_MODEL_a6efc02ad63b4bb1b8c36f7b03832dfc",
        "IPY_MODEL_58306713201f4632b82046bbbc2bee7a",
        "IPY_MODEL_705ff2619a074738b37aa07abbbd8133"
       ],
       "layout": "IPY_MODEL_665cd7ae512a4c7c970ea419ffc13035"
      }
     },
     "8256df9ead624a8ab6fbd9dbd798bd9a": {
      "model_module": "@jupyter-widgets/controls",
      "model_module_version": "1.5.0",
      "model_name": "DescriptionStyleModel",
      "state": {
       "_model_module": "@jupyter-widgets/controls",
       "_model_module_version": "1.5.0",
       "_model_name": "DescriptionStyleModel",
       "_view_count": null,
       "_view_module": "@jupyter-widgets/base",
       "_view_module_version": "1.2.0",
       "_view_name": "StyleView",
       "description_width": ""
      }
     },
     "89ef2396a78c4c599596f4cf2900fb88": {
      "model_module": "@jupyter-widgets/controls",
      "model_module_version": "1.5.0",
      "model_name": "HTMLModel",
      "state": {
       "_dom_classes": [],
       "_model_module": "@jupyter-widgets/controls",
       "_model_module_version": "1.5.0",
       "_model_name": "HTMLModel",
       "_view_count": null,
       "_view_module": "@jupyter-widgets/controls",
       "_view_module_version": "1.5.0",
       "_view_name": "HTMLView",
       "description": "",
       "description_tooltip": null,
       "layout": "IPY_MODEL_d4e7327fbc5043bc8e9d4a1110eca82b",
       "placeholder": "​",
       "style": "IPY_MODEL_8256df9ead624a8ab6fbd9dbd798bd9a",
       "value": "Downloading: 100%"
      }
     },
     "8a8fd379e49d4c91a2a6760a83d48c05": {
      "model_module": "@jupyter-widgets/controls",
      "model_module_version": "1.5.0",
      "model_name": "ProgressStyleModel",
      "state": {
       "_model_module": "@jupyter-widgets/controls",
       "_model_module_version": "1.5.0",
       "_model_name": "ProgressStyleModel",
       "_view_count": null,
       "_view_module": "@jupyter-widgets/base",
       "_view_module_version": "1.2.0",
       "_view_name": "StyleView",
       "bar_color": null,
       "description_width": ""
      }
     },
     "8d92761194c74935b2aaede49df2a565": {
      "model_module": "@jupyter-widgets/base",
      "model_module_version": "1.2.0",
      "model_name": "LayoutModel",
      "state": {
       "_model_module": "@jupyter-widgets/base",
       "_model_module_version": "1.2.0",
       "_model_name": "LayoutModel",
       "_view_count": null,
       "_view_module": "@jupyter-widgets/base",
       "_view_module_version": "1.2.0",
       "_view_name": "LayoutView",
       "align_content": null,
       "align_items": null,
       "align_self": null,
       "border": null,
       "bottom": null,
       "display": null,
       "flex": null,
       "flex_flow": null,
       "grid_area": null,
       "grid_auto_columns": null,
       "grid_auto_flow": null,
       "grid_auto_rows": null,
       "grid_column": null,
       "grid_gap": null,
       "grid_row": null,
       "grid_template_areas": null,
       "grid_template_columns": null,
       "grid_template_rows": null,
       "height": null,
       "justify_content": null,
       "justify_items": null,
       "left": null,
       "margin": null,
       "max_height": null,
       "max_width": null,
       "min_height": null,
       "min_width": null,
       "object_fit": null,
       "object_position": null,
       "order": null,
       "overflow": null,
       "overflow_x": null,
       "overflow_y": null,
       "padding": null,
       "right": null,
       "top": null,
       "visibility": null,
       "width": null
      }
     },
     "904b50f59f904afa8e3a0b719c8760b3": {
      "model_module": "@jupyter-widgets/controls",
      "model_module_version": "1.5.0",
      "model_name": "FloatProgressModel",
      "state": {
       "_dom_classes": [],
       "_model_module": "@jupyter-widgets/controls",
       "_model_module_version": "1.5.0",
       "_model_name": "FloatProgressModel",
       "_view_count": null,
       "_view_module": "@jupyter-widgets/controls",
       "_view_module_version": "1.5.0",
       "_view_name": "ProgressView",
       "bar_style": "success",
       "description": "",
       "description_tooltip": null,
       "layout": "IPY_MODEL_e624a88e4a9a445d8d9650319a4d0888",
       "max": 1099714.0,
       "min": 0.0,
       "orientation": "horizontal",
       "style": "IPY_MODEL_a8b2a5d357654d8cb4ff52d2e6c39334",
       "value": 1099714.0
      }
     },
     "913c895a38674bd5bf9e4f23b587980f": {
      "model_module": "@jupyter-widgets/controls",
      "model_module_version": "1.5.0",
      "model_name": "FloatProgressModel",
      "state": {
       "_dom_classes": [],
       "_model_module": "@jupyter-widgets/controls",
       "_model_module_version": "1.5.0",
       "_model_name": "FloatProgressModel",
       "_view_count": null,
       "_view_module": "@jupyter-widgets/controls",
       "_view_module_version": "1.5.0",
       "_view_name": "ProgressView",
       "bar_style": "success",
       "description": "",
       "description_tooltip": null,
       "layout": "IPY_MODEL_b3eb8b30944d4648bfca6be29d7ee072",
       "max": 112.0,
       "min": 0.0,
       "orientation": "horizontal",
       "style": "IPY_MODEL_5cb11c7853154554a50263f8e97c6d2d",
       "value": 112.0
      }
     },
     "9b89b69936ac4bcbaec2a0042376ef73": {
      "model_module": "@jupyter-widgets/controls",
      "model_module_version": "1.5.0",
      "model_name": "FloatProgressModel",
      "state": {
       "_dom_classes": [],
       "_model_module": "@jupyter-widgets/controls",
       "_model_module_version": "1.5.0",
       "_model_name": "FloatProgressModel",
       "_view_count": null,
       "_view_module": "@jupyter-widgets/controls",
       "_view_module_version": "1.5.0",
       "_view_name": "ProgressView",
       "bar_style": "success",
       "description": "",
       "description_tooltip": null,
       "layout": "IPY_MODEL_2b45c1892879470c8b43fa7256b7e8a9",
       "max": 654186400.0,
       "min": 0.0,
       "orientation": "horizontal",
       "style": "IPY_MODEL_8a8fd379e49d4c91a2a6760a83d48c05",
       "value": 654186400.0
      }
     },
     "9e230df571b44868b2ae95d594601300": {
      "model_module": "@jupyter-widgets/base",
      "model_module_version": "1.2.0",
      "model_name": "LayoutModel",
      "state": {
       "_model_module": "@jupyter-widgets/base",
       "_model_module_version": "1.2.0",
       "_model_name": "LayoutModel",
       "_view_count": null,
       "_view_module": "@jupyter-widgets/base",
       "_view_module_version": "1.2.0",
       "_view_name": "LayoutView",
       "align_content": null,
       "align_items": null,
       "align_self": null,
       "border": null,
       "bottom": null,
       "display": null,
       "flex": null,
       "flex_flow": null,
       "grid_area": null,
       "grid_auto_columns": null,
       "grid_auto_flow": null,
       "grid_auto_rows": null,
       "grid_column": null,
       "grid_gap": null,
       "grid_row": null,
       "grid_template_areas": null,
       "grid_template_columns": null,
       "grid_template_rows": null,
       "height": null,
       "justify_content": null,
       "justify_items": null,
       "left": null,
       "margin": null,
       "max_height": null,
       "max_width": null,
       "min_height": null,
       "min_width": null,
       "object_fit": null,
       "object_position": null,
       "order": null,
       "overflow": null,
       "overflow_x": null,
       "overflow_y": null,
       "padding": null,
       "right": null,
       "top": null,
       "visibility": null,
       "width": null
      }
     },
     "9e45e156e13046b1923ff4707a03f1db": {
      "model_module": "@jupyter-widgets/base",
      "model_module_version": "1.2.0",
      "model_name": "LayoutModel",
      "state": {
       "_model_module": "@jupyter-widgets/base",
       "_model_module_version": "1.2.0",
       "_model_name": "LayoutModel",
       "_view_count": null,
       "_view_module": "@jupyter-widgets/base",
       "_view_module_version": "1.2.0",
       "_view_name": "LayoutView",
       "align_content": null,
       "align_items": null,
       "align_self": null,
       "border": null,
       "bottom": null,
       "display": null,
       "flex": null,
       "flex_flow": null,
       "grid_area": null,
       "grid_auto_columns": null,
       "grid_auto_flow": null,
       "grid_auto_rows": null,
       "grid_column": null,
       "grid_gap": null,
       "grid_row": null,
       "grid_template_areas": null,
       "grid_template_columns": null,
       "grid_template_rows": null,
       "height": null,
       "justify_content": null,
       "justify_items": null,
       "left": null,
       "margin": null,
       "max_height": null,
       "max_width": null,
       "min_height": null,
       "min_width": null,
       "object_fit": null,
       "object_position": null,
       "order": null,
       "overflow": null,
       "overflow_x": null,
       "overflow_y": null,
       "padding": null,
       "right": null,
       "top": null,
       "visibility": null,
       "width": null
      }
     },
     "a6efc02ad63b4bb1b8c36f7b03832dfc": {
      "model_module": "@jupyter-widgets/controls",
      "model_module_version": "1.5.0",
      "model_name": "HTMLModel",
      "state": {
       "_dom_classes": [],
       "_model_module": "@jupyter-widgets/controls",
       "_model_module_version": "1.5.0",
       "_model_name": "HTMLModel",
       "_view_count": null,
       "_view_module": "@jupyter-widgets/controls",
       "_view_module_version": "1.5.0",
       "_view_name": "HTMLView",
       "description": "",
       "description_tooltip": null,
       "layout": "IPY_MODEL_64077e4de6ac41d2b75b1164b3d932b1",
       "placeholder": "​",
       "style": "IPY_MODEL_06c3e4e658574fcfb84a217c14e0de50",
       "value": "Downloading: 100%"
      }
     },
     "a8b2a5d357654d8cb4ff52d2e6c39334": {
      "model_module": "@jupyter-widgets/controls",
      "model_module_version": "1.5.0",
      "model_name": "ProgressStyleModel",
      "state": {
       "_model_module": "@jupyter-widgets/controls",
       "_model_module_version": "1.5.0",
       "_model_name": "ProgressStyleModel",
       "_view_count": null,
       "_view_module": "@jupyter-widgets/base",
       "_view_module_version": "1.2.0",
       "_view_name": "StyleView",
       "bar_color": null,
       "description_width": ""
      }
     },
     "ad05aa3d2a894ff7858a9d29684f9676": {
      "model_module": "@jupyter-widgets/base",
      "model_module_version": "1.2.0",
      "model_name": "LayoutModel",
      "state": {
       "_model_module": "@jupyter-widgets/base",
       "_model_module_version": "1.2.0",
       "_model_name": "LayoutModel",
       "_view_count": null,
       "_view_module": "@jupyter-widgets/base",
       "_view_module_version": "1.2.0",
       "_view_name": "LayoutView",
       "align_content": null,
       "align_items": null,
       "align_self": null,
       "border": null,
       "bottom": null,
       "display": null,
       "flex": null,
       "flex_flow": null,
       "grid_area": null,
       "grid_auto_columns": null,
       "grid_auto_flow": null,
       "grid_auto_rows": null,
       "grid_column": null,
       "grid_gap": null,
       "grid_row": null,
       "grid_template_areas": null,
       "grid_template_columns": null,
       "grid_template_rows": null,
       "height": null,
       "justify_content": null,
       "justify_items": null,
       "left": null,
       "margin": null,
       "max_height": null,
       "max_width": null,
       "min_height": null,
       "min_width": null,
       "object_fit": null,
       "object_position": null,
       "order": null,
       "overflow": null,
       "overflow_x": null,
       "overflow_y": null,
       "padding": null,
       "right": null,
       "top": null,
       "visibility": null,
       "width": null
      }
     },
     "b3eb8b30944d4648bfca6be29d7ee072": {
      "model_module": "@jupyter-widgets/base",
      "model_module_version": "1.2.0",
      "model_name": "LayoutModel",
      "state": {
       "_model_module": "@jupyter-widgets/base",
       "_model_module_version": "1.2.0",
       "_model_name": "LayoutModel",
       "_view_count": null,
       "_view_module": "@jupyter-widgets/base",
       "_view_module_version": "1.2.0",
       "_view_name": "LayoutView",
       "align_content": null,
       "align_items": null,
       "align_self": null,
       "border": null,
       "bottom": null,
       "display": null,
       "flex": null,
       "flex_flow": null,
       "grid_area": null,
       "grid_auto_columns": null,
       "grid_auto_flow": null,
       "grid_auto_rows": null,
       "grid_column": null,
       "grid_gap": null,
       "grid_row": null,
       "grid_template_areas": null,
       "grid_template_columns": null,
       "grid_template_rows": null,
       "height": null,
       "justify_content": null,
       "justify_items": null,
       "left": null,
       "margin": null,
       "max_height": null,
       "max_width": null,
       "min_height": null,
       "min_width": null,
       "object_fit": null,
       "object_position": null,
       "order": null,
       "overflow": null,
       "overflow_x": null,
       "overflow_y": null,
       "padding": null,
       "right": null,
       "top": null,
       "visibility": null,
       "width": null
      }
     },
     "bb5b9ec083404a94b16544c0de4699d4": {
      "model_module": "@jupyter-widgets/controls",
      "model_module_version": "1.5.0",
      "model_name": "ProgressStyleModel",
      "state": {
       "_model_module": "@jupyter-widgets/controls",
       "_model_module_version": "1.5.0",
       "_model_name": "ProgressStyleModel",
       "_view_count": null,
       "_view_module": "@jupyter-widgets/base",
       "_view_module_version": "1.2.0",
       "_view_name": "StyleView",
       "bar_color": null,
       "description_width": ""
      }
     },
     "c23e67baf7f442d88889600d24cdc962": {
      "model_module": "@jupyter-widgets/controls",
      "model_module_version": "1.5.0",
      "model_name": "HTMLModel",
      "state": {
       "_dom_classes": [],
       "_model_module": "@jupyter-widgets/controls",
       "_model_module_version": "1.5.0",
       "_model_name": "HTMLModel",
       "_view_count": null,
       "_view_module": "@jupyter-widgets/controls",
       "_view_module_version": "1.5.0",
       "_view_name": "HTMLView",
       "description": "",
       "description_tooltip": null,
       "layout": "IPY_MODEL_302807127d7943fdb4f14b675ac55966",
       "placeholder": "​",
       "style": "IPY_MODEL_59f10610d58a4fefa004e3500cde9a2d",
       "value": " 1.05M/1.05M [00:00&lt;00:00, 1.41MB/s]"
      }
     },
     "cc14e1a2fb2c404c94aa2dddf544abbf": {
      "model_module": "@jupyter-widgets/base",
      "model_module_version": "1.2.0",
      "model_name": "LayoutModel",
      "state": {
       "_model_module": "@jupyter-widgets/base",
       "_model_module_version": "1.2.0",
       "_model_name": "LayoutModel",
       "_view_count": null,
       "_view_module": "@jupyter-widgets/base",
       "_view_module_version": "1.2.0",
       "_view_name": "LayoutView",
       "align_content": null,
       "align_items": null,
       "align_self": null,
       "border": null,
       "bottom": null,
       "display": null,
       "flex": null,
       "flex_flow": null,
       "grid_area": null,
       "grid_auto_columns": null,
       "grid_auto_flow": null,
       "grid_auto_rows": null,
       "grid_column": null,
       "grid_gap": null,
       "grid_row": null,
       "grid_template_areas": null,
       "grid_template_columns": null,
       "grid_template_rows": null,
       "height": null,
       "justify_content": null,
       "justify_items": null,
       "left": null,
       "margin": null,
       "max_height": null,
       "max_width": null,
       "min_height": null,
       "min_width": null,
       "object_fit": null,
       "object_position": null,
       "order": null,
       "overflow": null,
       "overflow_x": null,
       "overflow_y": null,
       "padding": null,
       "right": null,
       "top": null,
       "visibility": null,
       "width": null
      }
     },
     "ced641248c3e4c3ca5434c27d0505426": {
      "model_module": "@jupyter-widgets/controls",
      "model_module_version": "1.5.0",
      "model_name": "HTMLModel",
      "state": {
       "_dom_classes": [],
       "_model_module": "@jupyter-widgets/controls",
       "_model_module_version": "1.5.0",
       "_model_name": "HTMLModel",
       "_view_count": null,
       "_view_module": "@jupyter-widgets/controls",
       "_view_module_version": "1.5.0",
       "_view_name": "HTMLView",
       "description": "",
       "description_tooltip": null,
       "layout": "IPY_MODEL_71e77b5fc39c40049cb4cd7f53659303",
       "placeholder": "​",
       "style": "IPY_MODEL_4d140d5920234e6fa6bdbcfa67b1f83d",
       "value": "Downloading: 100%"
      }
     },
     "d4e7327fbc5043bc8e9d4a1110eca82b": {
      "model_module": "@jupyter-widgets/base",
      "model_module_version": "1.2.0",
      "model_name": "LayoutModel",
      "state": {
       "_model_module": "@jupyter-widgets/base",
       "_model_module_version": "1.2.0",
       "_model_name": "LayoutModel",
       "_view_count": null,
       "_view_module": "@jupyter-widgets/base",
       "_view_module_version": "1.2.0",
       "_view_name": "LayoutView",
       "align_content": null,
       "align_items": null,
       "align_self": null,
       "border": null,
       "bottom": null,
       "display": null,
       "flex": null,
       "flex_flow": null,
       "grid_area": null,
       "grid_auto_columns": null,
       "grid_auto_flow": null,
       "grid_auto_rows": null,
       "grid_column": null,
       "grid_gap": null,
       "grid_row": null,
       "grid_template_areas": null,
       "grid_template_columns": null,
       "grid_template_rows": null,
       "height": null,
       "justify_content": null,
       "justify_items": null,
       "left": null,
       "margin": null,
       "max_height": null,
       "max_width": null,
       "min_height": null,
       "min_width": null,
       "object_fit": null,
       "object_position": null,
       "order": null,
       "overflow": null,
       "overflow_x": null,
       "overflow_y": null,
       "padding": null,
       "right": null,
       "top": null,
       "visibility": null,
       "width": null
      }
     },
     "dbffb515bb494ef3b60930a1214a84ba": {
      "model_module": "@jupyter-widgets/controls",
      "model_module_version": "1.5.0",
      "model_name": "DescriptionStyleModel",
      "state": {
       "_model_module": "@jupyter-widgets/controls",
       "_model_module_version": "1.5.0",
       "_model_name": "DescriptionStyleModel",
       "_view_count": null,
       "_view_module": "@jupyter-widgets/base",
       "_view_module_version": "1.2.0",
       "_view_name": "StyleView",
       "description_width": ""
      }
     },
     "e624a88e4a9a445d8d9650319a4d0888": {
      "model_module": "@jupyter-widgets/base",
      "model_module_version": "1.2.0",
      "model_name": "LayoutModel",
      "state": {
       "_model_module": "@jupyter-widgets/base",
       "_model_module_version": "1.2.0",
       "_model_name": "LayoutModel",
       "_view_count": null,
       "_view_module": "@jupyter-widgets/base",
       "_view_module_version": "1.2.0",
       "_view_name": "LayoutView",
       "align_content": null,
       "align_items": null,
       "align_self": null,
       "border": null,
       "bottom": null,
       "display": null,
       "flex": null,
       "flex_flow": null,
       "grid_area": null,
       "grid_auto_columns": null,
       "grid_auto_flow": null,
       "grid_auto_rows": null,
       "grid_column": null,
       "grid_gap": null,
       "grid_row": null,
       "grid_template_areas": null,
       "grid_template_columns": null,
       "grid_template_rows": null,
       "height": null,
       "justify_content": null,
       "justify_items": null,
       "left": null,
       "margin": null,
       "max_height": null,
       "max_width": null,
       "min_height": null,
       "min_width": null,
       "object_fit": null,
       "object_position": null,
       "order": null,
       "overflow": null,
       "overflow_x": null,
       "overflow_y": null,
       "padding": null,
       "right": null,
       "top": null,
       "visibility": null,
       "width": null
      }
     },
     "e69a25c865df4963884b1250f8b87964": {
      "model_module": "@jupyter-widgets/controls",
      "model_module_version": "1.5.0",
      "model_name": "HTMLModel",
      "state": {
       "_dom_classes": [],
       "_model_module": "@jupyter-widgets/controls",
       "_model_module_version": "1.5.0",
       "_model_name": "HTMLModel",
       "_view_count": null,
       "_view_module": "@jupyter-widgets/controls",
       "_view_module_version": "1.5.0",
       "_view_name": "HTMLView",
       "description": "",
       "description_tooltip": null,
       "layout": "IPY_MODEL_40c3c7ad6a1f4523a2db9bc395198acc",
       "placeholder": "​",
       "style": "IPY_MODEL_dbffb515bb494ef3b60930a1214a84ba",
       "value": " 112/112 [00:00&lt;00:00, 4.15kB/s]"
      }
     },
     "e923a56217f542dd984202d37ae4ab4a": {
      "model_module": "@jupyter-widgets/controls",
      "model_module_version": "1.5.0",
      "model_name": "HBoxModel",
      "state": {
       "_dom_classes": [],
       "_model_module": "@jupyter-widgets/controls",
       "_model_module_version": "1.5.0",
       "_model_name": "HBoxModel",
       "_view_count": null,
       "_view_module": "@jupyter-widgets/controls",
       "_view_module_version": "1.5.0",
       "_view_name": "HBoxView",
       "box_style": "",
       "children": [
        "IPY_MODEL_ced641248c3e4c3ca5434c27d0505426",
        "IPY_MODEL_9b89b69936ac4bcbaec2a0042376ef73",
        "IPY_MODEL_59d34b7a90d14271aa70d1cb923adb3f"
       ],
       "layout": "IPY_MODEL_9e230df571b44868b2ae95d594601300"
      }
     },
     "ea0604331f784da9982df22e981eff23": {
      "model_module": "@jupyter-widgets/base",
      "model_module_version": "1.2.0",
      "model_name": "LayoutModel",
      "state": {
       "_model_module": "@jupyter-widgets/base",
       "_model_module_version": "1.2.0",
       "_model_name": "LayoutModel",
       "_view_count": null,
       "_view_module": "@jupyter-widgets/base",
       "_view_module_version": "1.2.0",
       "_view_name": "LayoutView",
       "align_content": null,
       "align_items": null,
       "align_self": null,
       "border": null,
       "bottom": null,
       "display": null,
       "flex": null,
       "flex_flow": null,
       "grid_area": null,
       "grid_auto_columns": null,
       "grid_auto_flow": null,
       "grid_auto_rows": null,
       "grid_column": null,
       "grid_gap": null,
       "grid_row": null,
       "grid_template_areas": null,
       "grid_template_columns": null,
       "grid_template_rows": null,
       "height": null,
       "justify_content": null,
       "justify_items": null,
       "left": null,
       "margin": null,
       "max_height": null,
       "max_width": null,
       "min_height": null,
       "min_width": null,
       "object_fit": null,
       "object_position": null,
       "order": null,
       "overflow": null,
       "overflow_x": null,
       "overflow_y": null,
       "padding": null,
       "right": null,
       "top": null,
       "visibility": null,
       "width": null
      }
     },
     "f7a0f6dbb8df49c2b58aa0b6f14097fb": {
      "model_module": "@jupyter-widgets/controls",
      "model_module_version": "1.5.0",
      "model_name": "ProgressStyleModel",
      "state": {
       "_model_module": "@jupyter-widgets/controls",
       "_model_module_version": "1.5.0",
       "_model_name": "ProgressStyleModel",
       "_view_count": null,
       "_view_module": "@jupyter-widgets/base",
       "_view_module_version": "1.2.0",
       "_view_name": "StyleView",
       "bar_color": null,
       "description_width": ""
      }
     },
     "fdb3f2bb3d5a4cd6b137421a7d7f2061": {
      "model_module": "@jupyter-widgets/controls",
      "model_module_version": "1.5.0",
      "model_name": "HBoxModel",
      "state": {
       "_dom_classes": [],
       "_model_module": "@jupyter-widgets/controls",
       "_model_module_version": "1.5.0",
       "_model_name": "HBoxModel",
       "_view_count": null,
       "_view_module": "@jupyter-widgets/controls",
       "_view_module_version": "1.5.0",
       "_view_name": "HBoxView",
       "box_style": "",
       "children": [
        "IPY_MODEL_3bc6962688d94d9e91ec4e1645fa49e7",
        "IPY_MODEL_913c895a38674bd5bf9e4f23b587980f",
        "IPY_MODEL_e69a25c865df4963884b1250f8b87964"
       ],
       "layout": "IPY_MODEL_ad05aa3d2a894ff7858a9d29684f9676"
      }
     }
    },
    "version_major": 2,
    "version_minor": 0
   }
  }
 },
 "nbformat": 4,
 "nbformat_minor": 5
}
